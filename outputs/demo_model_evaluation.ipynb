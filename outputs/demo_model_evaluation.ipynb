{
 "cells": [
  {
   "cell_type": "code",
   "execution_count": 54,
   "metadata": {},
   "outputs": [],
   "source": [
    "#Import packages\n",
    "import random\n",
    "import os, sys\n",
    "import pytz\n",
    "import pandas as pd\n",
    "import numpy as np\n",
    "from datetime import datetime, date, time, timedelta\n",
    "import re\n",
    "from IPython.display import Image\n",
    "import itertools\n",
    "import pandas as pd\n",
    "import matplotlib.pyplot as plt\n",
    "from IPython.display import display\n",
    "from pypower import prediction_models as pred\n",
    "from pypower import data_utils as ut\n",
    "from pypower import model_selection_custom as cust_mod\n",
    "from sklearn.metrics import classification_report\n",
    "from sklearn.ensemble import ExtraTreesClassifier as etc"
   ]
  },
  {
   "cell_type": "code",
   "execution_count": 2,
   "metadata": {},
   "outputs": [],
   "source": [
    "data_dir = \"/Users/dmatekenya/Google Drive/World-Bank/electricity_monitoring/01.data/processed_sms/\""
   ]
  },
  {
   "cell_type": "code",
   "execution_count": 57,
   "metadata": {},
   "outputs": [],
   "source": [
    "# Get the data: sms_rect_hr.csv'\n",
    "cols_to_use = ['box_id', 'psu', 'lon', 'lat', 'str_datetime_sent_hr', 'day_sent', 'hour_sent', 'month_sent',\n",
    "                   'wk_day_sent', 'wk_end', 'event_type_num', 'event_type_str', 'power_state', 'data_source']\n",
    "sms2 = pd.read_csv(data_dir + 'sms_rect_hr.csv', usecols=cols_to_use, parse_dates=['str_datetime_sent_hr'])\n",
    "sms2.rename(columns={'str_datetime_sent_hr': 'datetime_sent_hr'}, inplace=True)\n",
    "\n",
    "# Remove missing values\n",
    "sms2 = sms2[sms2.power_state != -1]"
   ]
  },
  {
   "cell_type": "markdown",
   "metadata": {},
   "source": [
    "**EVALUATING NEAREST NEIGHBOR MODEL**\n",
    "=======================\n",
    "=================================================================="
   ]
  },
  {
   "cell_type": "markdown",
   "metadata": {},
   "source": [
    "1. * Pick a test box*\n",
    "----------------------"
   ]
  },
  {
   "cell_type": "code",
   "execution_count": 58,
   "metadata": {},
   "outputs": [],
   "source": [
    "# Pick a test box\n",
    "test_box_id = 1005\n",
    "data_test_bx = sms2[sms2.box_id == test_box_id]  # select data for this box only\n",
    "\n",
    "# List of dates, to help with picking random dates for testing\n",
    "event_dates = list(data_test_bx.datetime_sent_hr)"
   ]
  },
  {
   "cell_type": "markdown",
   "metadata": {},
   "source": [
    "2. * Decide how many tests to do *\n",
    "--------------------------------------\n",
    "-Cant do complete leave one out due to time"
   ]
  },
  {
   "cell_type": "code",
   "execution_count": 59,
   "metadata": {},
   "outputs": [
    {
     "name": "stdout",
     "output_type": "stream",
     "text": [
      "We will test 250 events out of 5530 events for this box\n"
     ]
    }
   ],
   "source": [
    "prop_test = 0.2\n",
    "max_test_cases = 250\n",
    "min_test_cases = 50\n",
    "num_tests = int(data_test_bx.shape[0] * prop_test)\n",
    "if num_tests < min_test_cases:\n",
    "        print ('Lets choose another box!!!')\n",
    "\n",
    "if num_tests > max_test_cases:\n",
    "    num_tests = max_test_cases\n",
    "\n",
    "print('We will test {} events out of {} events for this box'.format(num_tests, data_test_bx.shape[0]))"
   ]
  },
  {
   "cell_type": "markdown",
   "metadata": {},
   "source": [
    "3. * Randomly pick test dates *\n",
    "--------------------------------"
   ]
  },
  {
   "cell_type": "code",
   "execution_count": 60,
   "metadata": {},
   "outputs": [],
   "source": [
    "test_dates = random.sample(event_dates, num_tests)\n",
    "\n",
    "# Generated test events from the dates\n",
    "test_df = data_test_bx[data_test_bx['datetime_sent_hr'].isin(test_dates)]"
   ]
  },
  {
   "cell_type": "markdown",
   "metadata": {},
   "source": [
    "4. * Remove all test events from training data*\n",
    "---------------------------------------------"
   ]
  },
  {
   "cell_type": "code",
   "execution_count": 61,
   "metadata": {},
   "outputs": [],
   "source": [
    "# sms2 minus test box\n",
    "sms2_without_test_box = sms2[sms2.box_id != test_box_id]\n",
    "\n",
    "# Now, we only need to remove the exact test events\n",
    "to_keep = list(set(event_dates) - set(test_dates))\n",
    "\n",
    "# Within the test box, we can keep the non-test events\n",
    "test_box_to_keep = data_test_bx[data_test_bx['datetime_sent_hr'].isin(to_keep)]\n",
    "\n",
    "# Finally, our training dataset is sms2 minus test events in test box\n",
    "train_df = sms2_without_test_box.append(test_box_to_keep)"
   ]
  },
  {
   "cell_type": "markdown",
   "metadata": {},
   "source": [
    "5. * Just to be sure, check that test events arent in the train dataset*\n",
    "-------------------------------------------------------------------------\n",
    "Note: Only for the test-box"
   ]
  },
  {
   "cell_type": "code",
   "execution_count": 62,
   "metadata": {},
   "outputs": [
    {
     "name": "stdout",
     "output_type": "stream",
     "text": [
      "Checking if the training dataset has any test events...\n",
      "Done, found no text events in training data\n"
     ]
    }
   ],
   "source": [
    "# To make it quicker, we only check events in the test box-makes sense \n",
    "train_df_test_box = train_df[train_df.box_id == test_box_id]\n",
    "\n",
    "print('Checking if the training dataset has any test events...')\n",
    "leaked = 0\n",
    "for date in test_dates:\n",
    "    if date in list(train_df_test_box.datetime_sent_hr):\n",
    "        print ('WAIT A MINUTE, HOW COME TEST EVENTS ARE STILL IN TRAINIGNG DATA')\n",
    "        leaked += 1\n",
    "        \n",
    "if leaked == 0:\n",
    "    print('Done, found no text events in training data')"
   ]
  },
  {
   "cell_type": "markdown",
   "metadata": {},
   "source": [
    "6. * Create a nearest neighbor model*\n",
    "--------------------------------------\n",
    "This model has the following parameters:\n",
    " \n",
    " -*target*: what to predict(either power_state or event_type)\n",
    " \n",
    " -*neighbors*-Number of boxes (based on location to include. e.g., 0 neighbors include 2 boxes)\n",
    " \n",
    " -*time-window*: moving winodw to search from\n",
    " \n",
    " -*direction*: whethere to pool foward looking or backward looking events only (centred on test date)\n",
    " \n",
    " -*how*: How to make prediction, default is frequent\n",
    " \n",
    " -*train_data*: the training data"
   ]
  },
  {
   "cell_type": "code",
   "execution_count": 63,
   "metadata": {},
   "outputs": [],
   "source": [
    "# ----------------CREATE MODEL OBJECT-----------------------------\n",
    "predictor_params = {'neighbors': 1, 'time-window': 7, 'direction': 'both', 'how': 'frequent',\n",
    "                    'target': 'power_state'}\n",
    "# model object\n",
    "clf = pred.ImputationNearestNeighbor(data=train_df, target=predictor_params['target'],\n",
    "                                         neighbors=predictor_params['neighbors'],\n",
    "                                         how=predictor_params['how'],\n",
    "                                         time_window=predictor_params['time-window'],\n",
    "                                         direction=predictor_params['direction']\n",
    "                                         )\n",
    "# location details for boxes\n",
    "box_file = \"/Users/dmatekenya/Google Drive/World-Bank/electricity_monitoring/01.data/Boxes.csv\"\n",
    "clf.generate_box_metadata(box_file=box_file)\n",
    "\n",
    "# Get lat-lon for the test box\n",
    "box_lat_lon = [data_test_bx[data_test_bx.box_id == test_box_id].lat.values[0],\n",
    "                   data_test_bx[data_test_bx.box_id == test_box_id].lon.values[0]]"
   ]
  },
  {
   "cell_type": "markdown",
   "metadata": {},
   "source": [
    "7. * We are now ready to make predictions using the model *\n",
    "---------------------------------------------------------"
   ]
  },
  {
   "cell_type": "markdown",
   "metadata": {},
   "source": [
    "7.1 Select neighbors\n",
    "-------------------------"
   ]
  },
  {
   "cell_type": "code",
   "execution_count": 64,
   "metadata": {
    "scrolled": true
   },
   "outputs": [
    {
     "name": "stdout",
     "output_type": "stream",
     "text": [
      "The distances...\n",
      "\n",
      "     box_id  psu        lon        lat      dist\n",
      "267    1271   94  69.385761  37.529461  0.000000\n",
      "253    1257   92  69.395822  37.491284  4.341864\n",
      "209    1212   92  69.395822  37.491284  4.341864\n",
      "107    1108   93  69.429172  37.575373  6.387610\n",
      "135    1136   93  69.429172  37.575373  6.387610\n",
      "\n",
      "Given number of neighbors = 1, we have these neighbors: [1271, 1005]\n",
      "COMPARE TO OUT TEST BOX DETAILS\n",
      "Test box id==> 1005, test-box-psu==> 94, test-box-lat/lon==> [37.529461095977027, 69.385761185057504]\n"
     ]
    }
   ],
   "source": [
    "# search neighbors from all boxes except test box\n",
    "bx = clf.BOX_METADATA[clf.BOX_METADATA.box_id != test_box_id]\n",
    "bx.is_copy = False\n",
    "\n",
    "# compute distance between target (test box) and rest of the boxes\n",
    "target_loc = box_lat_lon\n",
    "bx['dist'] = bx.apply(lambda row: ut.calculate_distance([row['lat'], row['lon']],target_loc), axis=1)\n",
    "\n",
    "# Get top-n nearest neighbors\n",
    "nearest_n = bx.sort_values(by=['dist'], ascending=True)[:clf.neighbors]\n",
    "print('The distances...')\n",
    "print()\n",
    "print(bx.sort_values(by=['dist'], ascending=True).head())\n",
    "\n",
    "neighbors = list(nearest_n.box_id.values)\n",
    "print()\n",
    "\n",
    "neighbors.append(test_box_id) # since we also want to learn from the same box\n",
    "print('Given number of neighbors = {}, we have these neighbors: {}'.format(clf.neighbors, neighbors))\n",
    "\n",
    "print('COMPARE TO OUT TEST BOX DETAILS')\n",
    "test_box_psu = train_df[train_df.box_id==test_box_id].iloc[0].psu\n",
    "print('Test box id==> {}, test-box-psu==> {}, test-box-lat/lon==> {}'.format(test_box_id, test_box_psu, box_lat_lon))"
   ]
  },
  {
   "cell_type": "markdown",
   "metadata": {},
   "source": [
    "7.2 Generate training data\n",
    "---------------------------\n",
    "This discards all the excepet that in [test_date-window_length, test_date+window_length]. \n",
    "Also, we only keep data for the neighbors."
   ]
  },
  {
   "cell_type": "code",
   "execution_count": 65,
   "metadata": {},
   "outputs": [
    {
     "name": "stdout",
     "output_type": "stream",
     "text": [
      "box_id                             1005\n",
      "psu                                  94\n",
      "lon                             69.3858\n",
      "lat                             37.5295\n",
      "datetime_sent_hr    2017-01-13 21:00:00\n",
      "day_sent                             13\n",
      "hour_sent                            21\n",
      "month_sent                            1\n",
      "wk_day_sent                           4\n",
      "wk_end                                0\n",
      "event_type_str                  pon_mon\n",
      "event_type_num                        3\n",
      "power_state                           1\n",
      "data_source                   insertion\n",
      "Name: 1541623, dtype: object\n"
     ]
    }
   ],
   "source": [
    "# Lets pick a test date-first date\n",
    "prediction_date = test_df.iloc[0].datetime_sent_hr\n",
    "actual_0 = test_df.iloc[0].power_state\n",
    "print(test_df.iloc[0])\n",
    "\n",
    "training_data= clf.generate_train_data(target_date=prediction_date, raw_data=train_df, boxes=neighbors)"
   ]
  },
  {
   "cell_type": "code",
   "execution_count": 66,
   "metadata": {},
   "outputs": [
    {
     "name": "stdout",
     "output_type": "stream",
     "text": [
      "---------------------------------------------------\n",
      "Checking that training data only has the 2 boxes\n",
      "---------------------------------------------------\n",
      "1005    209\n",
      "1271     28\n",
      "Name: box_id, dtype: int64\n",
      "\n",
      "-----------------------------------------------------------------------------\n",
      "Checking that training data is within the time window centred on test date\n",
      "-----------------------------------------------------------------------------\n",
      "\n",
      "#### Test date ==> 2017-01-13 21:00:00, window-length ==> 7 days #######\n",
      "count                     237\n",
      "unique                    237\n",
      "top       2017-01-07 20:00:00\n",
      "freq                        1\n",
      "first     2017-01-06 21:00:00\n",
      "last      2017-01-20 21:00:00\n",
      "Name: datetime_sent_hr, dtype: object\n"
     ]
    }
   ],
   "source": [
    "print('---------------------------------------------------')\n",
    "print ('Checking that training data only has the 2 boxes')\n",
    "print('---------------------------------------------------')\n",
    "print(training_data.box_id.value_counts())\n",
    "\n",
    "print()\n",
    "print('-----------------------------------------------------------------------------')\n",
    "print ('Checking that training data is within the time window centred on test date')\n",
    "print('-----------------------------------------------------------------------------')\n",
    "print()\n",
    "print ('#### Test date ==> {}, window-length ==> {} days #######'.format(prediction_date, predictor_params['time-window']))\n",
    "print(training_data.datetime_sent_hr.describe())"
   ]
  },
  {
   "cell_type": "markdown",
   "metadata": {},
   "source": [
    "7.2 * Generate Event Freqs*\n",
    "--------------------------------\n",
    "The prediction is based on the most frequent event at the hour of interest over the moving window."
   ]
  },
  {
   "cell_type": "code",
   "execution_count": 67,
   "metadata": {},
   "outputs": [],
   "source": [
    "# Power_state frequencies by the hour\n",
    "hr_cnts = training_data.groupby(['hour_sent', 'power_state'])['power_state'].agg(['count'])\n",
    "event_freqs = hr_cnts.reset_index()"
   ]
  },
  {
   "cell_type": "markdown",
   "metadata": {},
   "source": [
    "7.3 * Return the event with most counts*\n",
    "-------------------------------------"
   ]
  },
  {
   "cell_type": "code",
   "execution_count": 68,
   "metadata": {},
   "outputs": [
    {
     "name": "stdout",
     "output_type": "stream",
     "text": [
      "Predicted [1] vs. actual [1] power-state\n"
     ]
    }
   ],
   "source": [
    "pred_hr = prediction_date.hour\n",
    "events_hr = event_freqs[event_freqs.hour_sent == pred_hr]\n",
    "predicted_event = events_hr.max(axis=0)[clf.target_var]\n",
    "\n",
    "print('Predicted [{}] vs. actual [{}] power-state'.format(predicted_event, actual))"
   ]
  },
  {
   "cell_type": "markdown",
   "metadata": {},
   "source": [
    "8. * Computing evaluation metrics*\n",
    "---------------------------------\n",
    "*Demonstrate with one box*\n",
    "\n",
    "- Precision\n",
    "- Recall\n",
    "- F1-score\n",
    "- Accuracy"
   ]
  },
  {
   "cell_type": "code",
   "execution_count": 69,
   "metadata": {},
   "outputs": [
    {
     "name": "stdout",
     "output_type": "stream",
     "text": [
      "             precision    recall  f1-score   support\n",
      "\n",
      "          0       0.00      0.00      0.00        14\n",
      "          1       0.94      1.00      0.97       236\n",
      "\n",
      "avg / total       0.89      0.94      0.92       250\n",
      "\n"
     ]
    },
    {
     "name": "stderr",
     "output_type": "stream",
     "text": [
      "/usr/local/lib/python3.6/site-packages/sklearn/metrics/classification.py:1135: UndefinedMetricWarning: Precision and F-score are ill-defined and being set to 0.0 in labels with no predicted samples.\n",
      "  'precision', 'predicted', average, warn_for)\n"
     ]
    }
   ],
   "source": [
    "predicted = []\n",
    "actual = []\n",
    "for idx, row in test_df.iterrows():\n",
    "    test_date = row['datetime_sent_hr']\n",
    "    predicted.append(clf.predict(prediction_date=test_date, box_id=test_box_id, target_loc=target_loc))\n",
    "    actual.append(row['power_state'])\n",
    "\n",
    "report = classification_report(y_pred=predicted, y_true=actual, digits=2)\n",
    "print(report)"
   ]
  },
  {
   "cell_type": "markdown",
   "metadata": {},
   "source": [
    "8.1  * More detailed metrics available*\n",
    "---------------------------------------"
   ]
  },
  {
   "cell_type": "code",
   "execution_count": 70,
   "metadata": {},
   "outputs": [],
   "source": [
    "results = cust_mod.nearest_neigbor_model_metrics_power_state(model_object=clf, test_data=test_df,\n",
    "                                            box_id=test_box_id, xy=target_loc, target='power_state')"
   ]
  },
  {
   "cell_type": "code",
   "execution_count": 71,
   "metadata": {},
   "outputs": [
    {
     "name": "stdout",
     "output_type": "stream",
     "text": [
      "Metric(support=250, actual_1=236, actual_0=14, accuracy=94.39999999999999, precision_1=94.39999999999999, recall_1=100.0, precision_0=nan, recall_0=0.0, tot_pred_0=0, tot_pred_1=250, correct_1=236, correct_0=0)\n"
     ]
    }
   ],
   "source": [
    "print(results)"
   ]
  },
  {
   "cell_type": "markdown",
   "metadata": {},
   "source": [
    "**EVALUATING OUT OF THE BOX MODEL**\n",
    "=======================\n",
    "=================================================================="
   ]
  },
  {
   "cell_type": "markdown",
   "metadata": {},
   "source": [
    "1. 0 **Set up**\n",
    "-----------------------------------\n",
    "Lets consider the same test box:\n",
    "We can select training data based on spatio-temporal window:\n",
    "- No window: all of the data for all the time \n",
    "- Space-time window as in nearest neighbor: selected boxes (e.g., same box only)\n",
    "\n",
    "When testing, we can compute metrics in 2 ways:\n",
    "- Box based (other geographic region, box makes more sense)\n",
    "- All data pooled togather\n",
    "\n",
    "For this demonstration, we set up the test so that the situation is\n",
    "the same as in previous model:\n",
    "- take test data from a single box\n",
    "- train model on selected boxes (based on neighbors)\n",
    "- train model on all data"
   ]
  },
  {
   "cell_type": "markdown",
   "metadata": {},
   "source": [
    "2.0 **Choose and build model**\n",
    "----------------------------\n",
    "For now we demonstrate wiht one model-Decision tree based model-ETC)\n",
    "\n",
    "- Choose predicion features\n",
    "\n",
    "- Set up train and test data (we use same test and train data as before)"
   ]
  },
  {
   "cell_type": "code",
   "execution_count": 55,
   "metadata": {},
   "outputs": [],
   "source": [
    "clf_etc = etc(n_estimators=100)"
   ]
  },
  {
   "cell_type": "code",
   "execution_count": 72,
   "metadata": {},
   "outputs": [
    {
     "data": {
      "text/plain": [
       "ExtraTreesClassifier(bootstrap=False, class_weight=None, criterion='gini',\n",
       "           max_depth=None, max_features='auto', max_leaf_nodes=None,\n",
       "           min_impurity_decrease=0.0, min_impurity_split=None,\n",
       "           min_samples_leaf=1, min_samples_split=2,\n",
       "           min_weight_fraction_leaf=0.0, n_estimators=10, n_jobs=1,\n",
       "           oob_score=False, random_state=None, verbose=0, warm_start=False)"
      ]
     },
     "execution_count": 72,
     "metadata": {},
     "output_type": "execute_result"
    }
   ],
   "source": [
    "# Set up training data\n",
    "prediction_features = ['box_id', 'psu', 'lon', 'lat', 'hour_sent', 'month_sent', \n",
    "                       'day_sent', 'wk_day_sent','wk_end']\n",
    "\n",
    "train_X = train_df[prediction_features].values\n",
    "train_y = train_df['power_state'].values\n",
    "\n",
    "clf_etc.fit(X=train_X, y=train_y)"
   ]
  },
  {
   "cell_type": "markdown",
   "metadata": {},
   "source": [
    "2.0 **Compute elavaluation metrics for out of box model**\n",
    "--------------------------------------------------------\n",
    "For now we demonstrate with one model-Decision tree based model-ETC)\n",
    "\n",
    "- Choose predicion features\n",
    "\n",
    "- Set up train and test data (we use same test and train data as before)"
   ]
  },
  {
   "cell_type": "code",
   "execution_count": 92,
   "metadata": {},
   "outputs": [],
   "source": [
    "# Lets predict the first event in test set\n",
    "test_X = test_df[prediction_features].iloc[0].values\n",
    "actual_0 = test_df.iloc[0].power_state"
   ]
  },
  {
   "cell_type": "code",
   "execution_count": 85,
   "metadata": {},
   "outputs": [],
   "source": [
    "predicted_etc = clf_etc.predict(test_X.reshape((1,9)))"
   ]
  },
  {
   "cell_type": "code",
   "execution_count": 93,
   "metadata": {},
   "outputs": [
    {
     "name": "stdout",
     "output_type": "stream",
     "text": [
      "Predicted [[1]] vs. actual [1] power-state\n"
     ]
    }
   ],
   "source": [
    "print('Predicted [{}] vs. actual [{}] power-state'.format(predicted_etc, actual_0))"
   ]
  },
  {
   "cell_type": "markdown",
   "metadata": {},
   "source": [
    "3.0. **Computing evaluation metrics**"
   ]
  },
  {
   "cell_type": "code",
   "execution_count": 95,
   "metadata": {},
   "outputs": [
    {
     "name": "stdout",
     "output_type": "stream",
     "text": [
      "             precision    recall  f1-score   support\n",
      "\n",
      "          0       0.83      0.71      0.77        14\n",
      "          1       0.98      0.99      0.99       236\n",
      "\n",
      "avg / total       0.97      0.98      0.98       250\n",
      "\n"
     ]
    }
   ],
   "source": [
    "X_test_events = test_df[prediction_features].values\n",
    "y_actual = test_df['power_state'].values\n",
    "\n",
    "class_report = classification_report(y_pred=clf_etc(X_test_events), y_true=y_actual)\n",
    "print(class_report)"
   ]
  },
  {
   "cell_type": "markdown",
   "metadata": {},
   "source": [
    "*What if we train with data from neighboring boxes only to make things equal?*\n",
    "-----------------------------------------------------------------------------"
   ]
  },
  {
   "cell_type": "code",
   "execution_count": 98,
   "metadata": {},
   "outputs": [
    {
     "data": {
      "text/plain": [
       "ExtraTreesClassifier(bootstrap=False, class_weight=None, criterion='gini',\n",
       "           max_depth=None, max_features='auto', max_leaf_nodes=None,\n",
       "           min_impurity_decrease=0.0, min_impurity_split=None,\n",
       "           min_samples_leaf=1, min_samples_split=2,\n",
       "           min_weight_fraction_leaf=0.0, n_estimators=100, n_jobs=1,\n",
       "           oob_score=False, random_state=None, verbose=0, warm_start=False)"
      ]
     },
     "execution_count": 98,
     "metadata": {},
     "output_type": "execute_result"
    }
   ],
   "source": [
    "# Set up training data\n",
    "clf_neighbors = etc(n_estimators=100)\n",
    "\n",
    "prediction_features = ['box_id', 'psu', 'lon', 'lat', 'hour_sent', 'month_sent', \n",
    "                       'day_sent', 'wk_day_sent','wk_end']\n",
    "\n",
    "train_X = training_data[prediction_features].values\n",
    "train_y = training_data['power_state'].values\n",
    "\n",
    "\n",
    "clf_neighbors.fit(X=train_X, y=train_y)"
   ]
  },
  {
   "cell_type": "code",
   "execution_count": 100,
   "metadata": {},
   "outputs": [
    {
     "name": "stdout",
     "output_type": "stream",
     "text": [
      "             precision    recall  f1-score   support\n",
      "\n",
      "          0       0.04      0.07      0.05        14\n",
      "          1       0.94      0.89      0.91       236\n",
      "\n",
      "avg / total       0.89      0.84      0.86       250\n",
      "\n"
     ]
    }
   ],
   "source": [
    "X_test_events = test_df[prediction_features].values\n",
    "y_actual = test_df['power_state'].values\n",
    "\n",
    "class_report = classification_report(y_pred=clf_neighbors.predict(X_test_events), y_true=y_actual)\n",
    "print(class_report)"
   ]
  },
  {
   "cell_type": "markdown",
   "metadata": {},
   "source": [
    "**So out of box model in this case seems to be doing better because of more data**\n",
    "==================================================================================="
   ]
  },
  {
   "cell_type": "code",
   "execution_count": null,
   "metadata": {},
   "outputs": [],
   "source": []
  }
 ],
 "metadata": {
  "kernelspec": {
   "display_name": "Python 3",
   "language": "python",
   "name": "python3"
  },
  "language_info": {
   "codemirror_mode": {
    "name": "ipython",
    "version": 3
   },
   "file_extension": ".py",
   "mimetype": "text/x-python",
   "name": "python",
   "nbconvert_exporter": "python",
   "pygments_lexer": "ipython3",
   "version": "3.6.2"
  }
 },
 "nbformat": 4,
 "nbformat_minor": 2
}
