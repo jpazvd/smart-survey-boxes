{
 "cells": [
  {
   "cell_type": "markdown",
   "metadata": {},
   "source": [
    "**Eletricity Data**\n",
    "======================"
   ]
  },
  {
   "cell_type": "markdown",
   "metadata": {},
   "source": [
    "**Set up Working Directory**\n",
    "============================="
   ]
  },
  {
   "cell_type": "code",
   "execution_count": 2,
   "metadata": {
    "collapsed": true
   },
   "outputs": [],
   "source": [
    "#Import packages\n",
    "import pytz\n",
    "import pandas as pd\n",
    "import numpy as np\n",
    "from datetime import datetime, date, time, timedelta\n",
    "import re\n",
    "from IPython.display import Image"
   ]
  },
  {
   "cell_type": "code",
   "execution_count": 18,
   "metadata": {
    "collapsed": true
   },
   "outputs": [],
   "source": [
    "#Set up Working Directory and Data Files\n",
    "drive = ' '\n",
    "if drive == 'G':\n",
    "    wd = \"/Users/dmatekenya/Google Drive/World-Bank/energy_predictions/\"\n",
    "    data_file = wd + '01.data/sms.csv'\n",
    "else:\n",
    "    wd = '..\\\\01.data\\\\'\n",
    "    data_file = wd + 'sms.csv'"
   ]
  },
  {
   "cell_type": "code",
   "execution_count": 19,
   "metadata": {
    "collapsed": false,
    "scrolled": true
   },
   "outputs": [
    {
     "name": "stdout",
     "output_type": "stream",
     "text": [
      "Reading data.......\n"
     ]
    },
    {
     "name": "stderr",
     "output_type": "stream",
     "text": [
      "C:\\ProgramData\\Anaconda3\\lib\\site-packages\\IPython\\core\\interactiveshell.py:2717: DtypeWarning: Columns (4,11) have mixed types. Specify dtype option on import or set low_memory=False.\n",
      "  interactivity=interactivity, compiler=compiler, result=result)\n"
     ]
    }
   ],
   "source": [
    "#Read in Data\n",
    "print (\"Reading data.......\")\n",
    "x = pd.read_csv(data_file,dtype={'readable_date': str})"
   ]
  },
  {
   "cell_type": "code",
   "execution_count": 20,
   "metadata": {
    "collapsed": false
   },
   "outputs": [],
   "source": [
    "#Drop unwanted columns\n",
    "drop = ['sc_toa','read','status','locked', 'type',\n",
    "        'subject','backup_date','protocol', 'date',\n",
    "        'type', 'contact_name', 'service_center', \n",
    "        'backup_set']\n",
    "x.drop(drop,inplace=True,axis=1)"
   ]
  },
  {
   "cell_type": "code",
   "execution_count": 21,
   "metadata": {
    "collapsed": true
   },
   "outputs": [],
   "source": [
    "#xorrect dates based on length of readable_date entry\n",
    "def correct_dates(s):\n",
    "    if len (s) == 24:\n",
    "        return '12/'+ s[:2]+'/2016' + ' ' + s[-8:]\n",
    "    elif len (s) == 23:\n",
    "        return '12/'+ s[:2]+'/2016' + ' ' + '0'+ s[-7:]\n",
    "    else:\n",
    "        return s"
   ]
  },
  {
   "cell_type": "markdown",
   "metadata": {},
   "source": [
    "**So readable date refers to date_sent or date_received (which isnt available here) Whats this date for?**"
   ]
  },
  {
   "cell_type": "code",
   "execution_count": 22,
   "metadata": {
    "collapsed": false
   },
   "outputs": [],
   "source": [
    "#Check dates and correct bad Dec, 2016 dates\n",
    "x['readable_date'] = x.apply(lambda r: correct_dates(r['readable_date']),axis=1)\n",
    "\n",
    "#Whats the time zone of time received-EDT?\n",
    "x['datetime_rcvd'] = x.apply(lambda x: pd.datetime.strptime(x['readable_date'], '%m/%d/%Y %H:%M:%S'), axis=1)\n",
    "\n",
    "#Set tizeone to 'America/New_York (EDT)-this is failing, need to know the time zone\n",
    "#QUESTION: Clarify on time zones\n",
    "#edt = pytz.timezone('America/New_York')\n",
    "#x['datetime_rcvd'].tz_localize (tz = edt)\n",
    "\n",
    "#Check again after corrections\n",
    "x['date_len'] = x.apply(lambda x: len(x['readable_date']),axis=1)\n",
    "print (x.date_len.value_counts())\n",
    "x.drop(['date_len'],inplace=True,axis=1)\n",
    "\n",
    "#create datetime-sent\n",
    "stata_refdt = datetime.strptime(\"1/1/1960 00:00:00\", '%m/%d/%Y %H:%M:%S')\n",
    "\n",
    "#The constant 315637200000 is being added as some kind of offset based on stata code\n",
    "x['datetime_sent'] = x.apply(lambda r: stata_refdt + timedelta(milliseconds = r['date_sent']+315637200000),axis=1)"
   ]
  },
  {
   "cell_type": "code",
   "execution_count": 23,
   "metadata": {
    "collapsed": true
   },
   "outputs": [],
   "source": [
    "#Add phonenumber: so this is phone number the \n",
    "x.ix[x.address=='Tcell',['address']] = 0\n",
    "x['phone_number'] = pd.to_numeric(x['address'])"
   ]
  },
  {
   "cell_type": "code",
   "execution_count": 24,
   "metadata": {
    "collapsed": true
   },
   "outputs": [],
   "source": [
    "#Split message body into two parts\n",
    "def split_message (str,i):\n",
    "    if \"|\" in str:\n",
    "        msgs = str.split('|')\n",
    "        return msgs [i]\n",
    "    elif \":\" in str:\n",
    "        msgs = str.split(':')\n",
    "        return msgs [i]\n",
    "    else:\n",
    "        return 'body'"
   ]
  },
  {
   "cell_type": "code",
   "execution_count": 25,
   "metadata": {
    "collapsed": false
   },
   "outputs": [],
   "source": [
    "#Split messages\n",
    "x['body_1'] = x.apply (lambda x: split_message (x['body'],0),axis=1)\n",
    "x['body_2'] = x.apply (lambda x: split_message (x['body'],1),axis=1)"
   ]
  },
  {
   "cell_type": "code",
   "execution_count": 27,
   "metadata": {
    "collapsed": false
   },
   "outputs": [
    {
     "name": "stdout",
     "output_type": "stream",
     "text": [
      "450 - Test SMS from Power Failure Monitor:Power Failure  is running ID\n",
      "3165 - Power Back detected.\n",
      "3167 - Power Back detected.\n",
      "35018 - Test\n",
      "49961 - ??????? ????? ?????? ??????? ???. ??????? ?????? ??? ???????????\n",
      "103643 - Test SMS from Power Failure Monitor:Power Failure detected. Il\n",
      "143801 - ?????\n",
      "143802 - ?????????\n",
      "143805 - ??????? ????? ?????? ??????? ???. ??????? ?????? ??? ???????????\n"
     ]
    },
    {
     "data": {
      "text/html": [
       "<div>\n",
       "<table border=\"1\" class=\"dataframe\">\n",
       "  <thead>\n",
       "    <tr style=\"text-align: right;\">\n",
       "      <th></th>\n",
       "      <th>count</th>\n",
       "      <th>address</th>\n",
       "      <th>body</th>\n",
       "      <th>toa</th>\n",
       "      <th>date_sent</th>\n",
       "      <th>readable_date</th>\n",
       "      <th>datetime_rcvd</th>\n",
       "      <th>datetime_sent</th>\n",
       "      <th>phone_number</th>\n",
       "      <th>body_1</th>\n",
       "      <th>body_2</th>\n",
       "    </tr>\n",
       "  </thead>\n",
       "  <tbody>\n",
       "    <tr>\n",
       "      <th>450</th>\n",
       "      <td>144406</td>\n",
       "      <td>992935711044</td>\n",
       "      <td>Test SMS from Power Failure Monitor:Power Fail...</td>\n",
       "      <td>null</td>\n",
       "      <td>1.476880e+12</td>\n",
       "      <td>10/19/2016 17:10:08</td>\n",
       "      <td>2016-10-19 17:10:08</td>\n",
       "      <td>2016-10-19 17:26:40</td>\n",
       "      <td>992935711044</td>\n",
       "      <td>Test SMS from Power Failure Monitor</td>\n",
       "      <td>Power Failure  is running ID</td>\n",
       "    </tr>\n",
       "    <tr>\n",
       "      <th>3165</th>\n",
       "      <td>144406</td>\n",
       "      <td>992935710834</td>\n",
       "      <td>Power Back detected.</td>\n",
       "      <td>null</td>\n",
       "      <td>1.477040e+12</td>\n",
       "      <td>10/21/2016 13:50:19</td>\n",
       "      <td>2016-10-21 13:50:19</td>\n",
       "      <td>2016-10-21 13:53:20</td>\n",
       "      <td>992935710834</td>\n",
       "      <td>body</td>\n",
       "      <td>body</td>\n",
       "    </tr>\n",
       "    <tr>\n",
       "      <th>3167</th>\n",
       "      <td>144406</td>\n",
       "      <td>992935710834</td>\n",
       "      <td>Power Back detected.</td>\n",
       "      <td>null</td>\n",
       "      <td>1.477040e+12</td>\n",
       "      <td>10/21/2016 13:51:07</td>\n",
       "      <td>2016-10-21 13:51:07</td>\n",
       "      <td>2016-10-21 13:53:20</td>\n",
       "      <td>992935710834</td>\n",
       "      <td>body</td>\n",
       "      <td>body</td>\n",
       "    </tr>\n",
       "    <tr>\n",
       "      <th>35018</th>\n",
       "      <td>144406</td>\n",
       "      <td>+992938303656</td>\n",
       "      <td>Test</td>\n",
       "      <td>null</td>\n",
       "      <td>1.481120e+12</td>\n",
       "      <td>12/07/2016 18:29:39</td>\n",
       "      <td>2016-12-07 18:29:39</td>\n",
       "      <td>2016-12-07 19:13:20</td>\n",
       "      <td>992938303656</td>\n",
       "      <td>body</td>\n",
       "      <td>body</td>\n",
       "    </tr>\n",
       "    <tr>\n",
       "      <th>49961</th>\n",
       "      <td>144406</td>\n",
       "      <td>+992935821825</td>\n",
       "      <td>??????? ????? ?????? ??????? ???. ??????? ????...</td>\n",
       "      <td>null</td>\n",
       "      <td>1.482030e+12</td>\n",
       "      <td>12/18/2016 08:52:30</td>\n",
       "      <td>2016-12-18 08:52:30</td>\n",
       "      <td>2016-12-18 08:00:00</td>\n",
       "      <td>992935821825</td>\n",
       "      <td>body</td>\n",
       "      <td>body</td>\n",
       "    </tr>\n",
       "    <tr>\n",
       "      <th>103643</th>\n",
       "      <td>144406</td>\n",
       "      <td>992935710316</td>\n",
       "      <td>Test SMS from Power Failure Monitor:Power Fail...</td>\n",
       "      <td>null</td>\n",
       "      <td>1.486200e+12</td>\n",
       "      <td>02/04/2017 13:55:39</td>\n",
       "      <td>2017-02-04 13:55:39</td>\n",
       "      <td>2017-02-04 14:20:00</td>\n",
       "      <td>992935710316</td>\n",
       "      <td>Test SMS from Power Failure Monitor</td>\n",
       "      <td>Power Failure detected. Il</td>\n",
       "    </tr>\n",
       "    <tr>\n",
       "      <th>143801</th>\n",
       "      <td>144406</td>\n",
       "      <td>938303656</td>\n",
       "      <td>?????</td>\n",
       "      <td>null</td>\n",
       "      <td>0.000000e+00</td>\n",
       "      <td>03/22/2017 16:57:26</td>\n",
       "      <td>2017-03-22 16:57:26</td>\n",
       "      <td>1970-01-01 05:00:00</td>\n",
       "      <td>938303656</td>\n",
       "      <td>body</td>\n",
       "      <td>body</td>\n",
       "    </tr>\n",
       "    <tr>\n",
       "      <th>143802</th>\n",
       "      <td>144406</td>\n",
       "      <td>938303656</td>\n",
       "      <td>?????????</td>\n",
       "      <td>null</td>\n",
       "      <td>0.000000e+00</td>\n",
       "      <td>03/22/2017 16:57:43</td>\n",
       "      <td>2017-03-22 16:57:43</td>\n",
       "      <td>1970-01-01 05:00:00</td>\n",
       "      <td>938303656</td>\n",
       "      <td>body</td>\n",
       "      <td>body</td>\n",
       "    </tr>\n",
       "    <tr>\n",
       "      <th>143805</th>\n",
       "      <td>144406</td>\n",
       "      <td>+992938303656</td>\n",
       "      <td>??????? ????? ?????? ??????? ???. ??????? ????...</td>\n",
       "      <td>null</td>\n",
       "      <td>1.490190e+12</td>\n",
       "      <td>03/22/2017 17:29:22</td>\n",
       "      <td>2017-03-22 17:29:22</td>\n",
       "      <td>2017-03-22 18:40:00</td>\n",
       "      <td>992938303656</td>\n",
       "      <td>body</td>\n",
       "      <td>body</td>\n",
       "    </tr>\n",
       "  </tbody>\n",
       "</table>\n",
       "</div>"
      ],
      "text/plain": [
       "         count        address  \\\n",
       "450     144406   992935711044   \n",
       "3165    144406   992935710834   \n",
       "3167    144406   992935710834   \n",
       "35018   144406  +992938303656   \n",
       "49961   144406  +992935821825   \n",
       "103643  144406   992935710316   \n",
       "143801  144406      938303656   \n",
       "143802  144406      938303656   \n",
       "143805  144406  +992938303656   \n",
       "\n",
       "                                                     body   toa     date_sent  \\\n",
       "450     Test SMS from Power Failure Monitor:Power Fail...  null  1.476880e+12   \n",
       "3165                                 Power Back detected.  null  1.477040e+12   \n",
       "3167                                 Power Back detected.  null  1.477040e+12   \n",
       "35018                                                Test  null  1.481120e+12   \n",
       "49961   ??????? ????? ?????? ??????? ???. ??????? ????...  null  1.482030e+12   \n",
       "103643  Test SMS from Power Failure Monitor:Power Fail...  null  1.486200e+12   \n",
       "143801                                              ?????  null  0.000000e+00   \n",
       "143802                                          ?????????  null  0.000000e+00   \n",
       "143805  ??????? ????? ?????? ??????? ???. ??????? ????...  null  1.490190e+12   \n",
       "\n",
       "              readable_date       datetime_rcvd       datetime_sent  \\\n",
       "450     10/19/2016 17:10:08 2016-10-19 17:10:08 2016-10-19 17:26:40   \n",
       "3165    10/21/2016 13:50:19 2016-10-21 13:50:19 2016-10-21 13:53:20   \n",
       "3167    10/21/2016 13:51:07 2016-10-21 13:51:07 2016-10-21 13:53:20   \n",
       "35018   12/07/2016 18:29:39 2016-12-07 18:29:39 2016-12-07 19:13:20   \n",
       "49961   12/18/2016 08:52:30 2016-12-18 08:52:30 2016-12-18 08:00:00   \n",
       "103643  02/04/2017 13:55:39 2017-02-04 13:55:39 2017-02-04 14:20:00   \n",
       "143801  03/22/2017 16:57:26 2017-03-22 16:57:26 1970-01-01 05:00:00   \n",
       "143802  03/22/2017 16:57:43 2017-03-22 16:57:43 1970-01-01 05:00:00   \n",
       "143805  03/22/2017 17:29:22 2017-03-22 17:29:22 2017-03-22 18:40:00   \n",
       "\n",
       "        phone_number                               body_1  \\\n",
       "450     992935711044  Test SMS from Power Failure Monitor   \n",
       "3165    992935710834                                 body   \n",
       "3167    992935710834                                 body   \n",
       "35018   992938303656                                 body   \n",
       "49961   992935821825                                 body   \n",
       "103643  992935710316  Test SMS from Power Failure Monitor   \n",
       "143801     938303656                                 body   \n",
       "143802     938303656                                 body   \n",
       "143805  992938303656                                 body   \n",
       "\n",
       "                              body_2  \n",
       "450     Power Failure  is running ID  \n",
       "3165                            body  \n",
       "3167                            body  \n",
       "35018                           body  \n",
       "49961                           body  \n",
       "103643    Power Failure detected. Il  \n",
       "143801                          body  \n",
       "143802                          body  \n",
       "143805                          body  "
      ]
     },
     "execution_count": 27,
     "metadata": {},
     "output_type": "execute_result"
    }
   ],
   "source": [
    "#Remove rows without Device ID\n",
    "msg = x.body\n",
    "to_drop = []\n",
    "device_id = {}\n",
    "for i,b in enumerate(msg):\n",
    "    str = re.findall(r'\\d+', b)\n",
    "    if len(str)<1:\n",
    "         print (i,'-', b)\n",
    "         to_drop.append(i)\n",
    "    else:\n",
    "        device_id [i] = str[0]\n",
    "    \n",
    "\n",
    "#Check the rows to be remnoved\n",
    "x.iloc[to_drop]"
   ]
  },
  {
   "cell_type": "code",
   "execution_count": 28,
   "metadata": {
    "collapsed": false
   },
   "outputs": [
    {
     "name": "stdout",
     "output_type": "stream",
     "text": [
      "We are dropping 9 rows with no device ID info\n"
     ]
    }
   ],
   "source": [
    "#Drop the rows now and add deviucxe id\n",
    "print ('We are dropping %s rows with no device ID info'%len(to_drop))\n",
    "x.drop(x.index[to_drop],inplace=True)\n",
    "\n",
    "df_device_id = pd.DataFrame.from_dict(device_id, orient='index')\n",
    "df_device_id.columns = ['device_id']\n",
    "#Join device id with original df\n",
    "x2 = pd.concat([x,df_device_id],axis=1, join='inner')\n",
    "x = x2"
   ]
  },
  {
   "cell_type": "code",
   "execution_count": 29,
   "metadata": {
    "collapsed": false
   },
   "outputs": [],
   "source": [
    "#Type of Message\n",
    "def detect_message(row):\n",
    "    if row['body'][:4]=='Test' or 'Test SMS' in row['body']:\n",
    "        return 'test'\n",
    "    elif row ['body_2'] == ' Monitoring... Power OK':\n",
    "            return 'pon_mon'\n",
    "    elif row ['body_2'] == ' Monitoring... Power Failure':\n",
    "            return 'pfail_mon'\n",
    "    elif row['body'][:19]== 'Power Back detected' or row ['body'][:10]== 'Power Back':\n",
    "            return 'pback'\n",
    "    elif row ['body'][:22]== 'Power Failure detected' or row ['body'][:13]== 'Power Failure':\n",
    "            return 'pfail'\n",
    "    else:\n",
    "        return 'None'"
   ]
  },
  {
   "cell_type": "code",
   "execution_count": null,
   "metadata": {
    "collapsed": false,
    "scrolled": true
   },
   "outputs": [],
   "source": [
    "#Generate message type variable\n",
    "x['msg'] = x.apply(lambda r: detect_message(r),axis=1)\n",
    "\n",
    "print ('Lets check messageb types...' + '\\n', x.msg.value_counts())\n",
    "\n",
    "#Drop rows with gibberish messages like below\n",
    "print (x[x.msg=='None'].head())\n",
    "\n",
    "#Drop rows with gibberish messages like below: only 2\n",
    "x = x[x.msg != 'None']"
   ]
  },
  {
   "cell_type": "code",
   "execution_count": 66,
   "metadata": {
    "collapsed": false
   },
   "outputs": [],
   "source": [
    "#Alive-variable to indicate whether box is alive or not\n",
    "#QUESTION: How about power back, shouldnt it also be alive?\n",
    "x[\"alive\"] = 0\n",
    "x.ix[x.msg==\"pfail_mon\", ['alive']] = 1\n",
    "x.ix[x.msg==\"pon_mon\", ['alive']] = 1"
   ]
  },
  {
   "cell_type": "code",
   "execution_count": 67,
   "metadata": {
    "collapsed": true
   },
   "outputs": [],
   "source": [
    "#Drop rows where message is test\n",
    "x = x[x.msg!='test']"
   ]
  },
  {
   "cell_type": "code",
   "execution_count": 39,
   "metadata": {
    "collapsed": true
   },
   "outputs": [],
   "source": [
    "#Generate variables\n",
    "def message_type(msg):\n",
    "    if msg == 'pback':\n",
    "        return 1\n",
    "    elif msg == 'pfail':\n",
    "        return 2\n",
    "    elif msg == 'pfail_mon':\n",
    "        return 3\n",
    "    elif msg == 'pon_mon':\n",
    "        return 4"
   ]
  },
  {
   "cell_type": "code",
   "execution_count": 68,
   "metadata": {
    "collapsed": true
   },
   "outputs": [],
   "source": [
    "#Message type-is the scale important here\n",
    "x['msg_num'] = x.apply(lambda row: message_type(row['msg']), axis = 1)"
   ]
  },
  {
   "cell_type": "code",
   "execution_count": 69,
   "metadata": {
    "collapsed": false
   },
   "outputs": [
    {
     "name": "stdout",
     "output_type": "stream",
     "text": [
      "Before dropping duplicates.... (143100, 18)\n",
      "After dropping duplicates.... (143100, 18)\n"
     ]
    }
   ],
   "source": [
    "#Check duplicates and drop duplicates\n",
    "print (\"Before dropping duplicates....\", x.shape)\n",
    "x.drop_duplicates(subset=['device_id', 'body', 'readable_date'], keep = 'first', inplace=True)\n",
    "print (\"After dropping duplicates....\", x.shape)"
   ]
  },
  {
   "cell_type": "code",
   "execution_count": 42,
   "metadata": {
    "collapsed": false
   },
   "outputs": [
    {
     "name": "stdout",
     "output_type": "stream",
     "text": [
      "Before dropping duplicates.... (143100, 14)\n",
      "After dropping duplicates.... (143100, 14)\n",
      "After dropping duplicates.... (143100, 14)\n"
     ]
    }
   ],
   "source": [
    "#Check duplicates and drop duplicates\n",
    "print (\"Before dropping duplicates....\", x.shape)\n",
    "x.drop_duplicates(subset=['device_id', 'body', 'readable_date'], keep = 'first', inplace=True)\n",
    "print (\"After dropping duplicates....\", x.shape)\n",
    "\n",
    "#print (\"Before dropping duplicates....\", x2.shape)\n",
    "x.drop_duplicates(subset=['device_id', 'datetime_rcvd'], keep = 'first', inplace=True)\n",
    "print (\"After dropping duplicates....\", x.shape)"
   ]
  },
  {
   "cell_type": "code",
   "execution_count": 59,
   "metadata": {
    "collapsed": false
   },
   "outputs": [],
   "source": [
    "#sort by device_id and datetime\n",
    "#QUESTION: Why sort by alive as this affects the time elapsed variable\n",
    "#I'm failing to get good elapse results when I sort by alive here\n",
    "\n",
    "#QUESTION: confused by computation of duration of power failure\n",
    "#QUESTION: why omitt pback and pfail in computing duration\n",
    "\n",
    "x = x.sort_values(by =['device_id','datetime_rcvd'])\n",
    "\n",
    "#create time elapsed between messages\n",
    "x['elapsed'] = (x['datetime_rcvd']-x['datetime_rcvd'].shift()).fillna(0)\n",
    "\n",
    "x['elapsed_sec']  = x.apply (lambda r: r['elapsed'].total_seconds(),axis=1)\n",
    "\n",
    "#ONLY interested in time elapsed when alive=0, so when alive=1, elapsed can be disregared\n",
    "#x[x.alive==1,['elapsed_sec']]"
   ]
  },
  {
   "cell_type": "code",
   "execution_count": 65,
   "metadata": {
    "collapsed": false
   },
   "outputs": [
    {
     "data": {
      "text/html": [
       "<div>\n",
       "<table border=\"1\" class=\"dataframe\">\n",
       "  <thead>\n",
       "    <tr style=\"text-align: right;\">\n",
       "      <th></th>\n",
       "      <th>device_id</th>\n",
       "      <th>alive</th>\n",
       "      <th>datetime_rcvd</th>\n",
       "      <th>elapsed_sec</th>\n",
       "      <th>msg</th>\n",
       "    </tr>\n",
       "  </thead>\n",
       "  <tbody>\n",
       "    <tr>\n",
       "      <th>6950</th>\n",
       "      <td>1001</td>\n",
       "      <td>1</td>\n",
       "      <td>2016-10-27 03:12:55</td>\n",
       "      <td>0.0</td>\n",
       "      <td>pfail_mon</td>\n",
       "    </tr>\n",
       "    <tr>\n",
       "      <th>7262</th>\n",
       "      <td>1001</td>\n",
       "      <td>1</td>\n",
       "      <td>2016-10-27 15:16:22</td>\n",
       "      <td>43407.0</td>\n",
       "      <td>pfail_mon</td>\n",
       "    </tr>\n",
       "    <tr>\n",
       "      <th>7511</th>\n",
       "      <td>1001</td>\n",
       "      <td>1</td>\n",
       "      <td>2016-10-28 03:16:26</td>\n",
       "      <td>43204.0</td>\n",
       "      <td>pfail_mon</td>\n",
       "    </tr>\n",
       "    <tr>\n",
       "      <th>7739</th>\n",
       "      <td>1001</td>\n",
       "      <td>1</td>\n",
       "      <td>2016-10-28 15:16:25</td>\n",
       "      <td>43199.0</td>\n",
       "      <td>pfail_mon</td>\n",
       "    </tr>\n",
       "    <tr>\n",
       "      <th>7751</th>\n",
       "      <td>1001</td>\n",
       "      <td></td>\n",
       "      <td>2016-10-28 15:33:40</td>\n",
       "      <td>1035.0</td>\n",
       "      <td>pback</td>\n",
       "    </tr>\n",
       "  </tbody>\n",
       "</table>\n",
       "</div>"
      ],
      "text/plain": [
       "     device_id alive       datetime_rcvd  elapsed_sec        msg\n",
       "6950      1001     1 2016-10-27 03:12:55          0.0  pfail_mon\n",
       "7262      1001     1 2016-10-27 15:16:22      43407.0  pfail_mon\n",
       "7511      1001     1 2016-10-28 03:16:26      43204.0  pfail_mon\n",
       "7739      1001     1 2016-10-28 15:16:25      43199.0  pfail_mon\n",
       "7751      1001       2016-10-28 15:33:40       1035.0      pback"
      ]
     },
     "execution_count": 65,
     "metadata": {},
     "output_type": "execute_result"
    }
   ],
   "source": [
    "x[['device_id','alive','datetime_rcvd','elapsed_sec','msg']].head()"
   ]
  },
  {
   "cell_type": "code",
   "execution_count": 71,
   "metadata": {
    "collapsed": false
   },
   "outputs": [],
   "source": [
    "x = x.sort_values(by =['device_id','alive','datetime_rcvd'])"
   ]
  },
  {
   "cell_type": "code",
   "execution_count": 72,
   "metadata": {
    "collapsed": false
   },
   "outputs": [
    {
     "data": {
      "text/html": [
       "<div>\n",
       "<table border=\"1\" class=\"dataframe\">\n",
       "  <thead>\n",
       "    <tr style=\"text-align: right;\">\n",
       "      <th></th>\n",
       "      <th>device_id</th>\n",
       "      <th>alive</th>\n",
       "      <th>datetime_rcvd</th>\n",
       "      <th>elapsed_sec</th>\n",
       "      <th>msg</th>\n",
       "    </tr>\n",
       "  </thead>\n",
       "  <tbody>\n",
       "    <tr>\n",
       "      <th>7751</th>\n",
       "      <td>1001</td>\n",
       "      <td>0</td>\n",
       "      <td>2016-10-28 15:33:40</td>\n",
       "      <td>1035.0</td>\n",
       "      <td>pback</td>\n",
       "    </tr>\n",
       "    <tr>\n",
       "      <th>7757</th>\n",
       "      <td>1001</td>\n",
       "      <td>0</td>\n",
       "      <td>2016-10-28 15:35:20</td>\n",
       "      <td>100.0</td>\n",
       "      <td>pfail</td>\n",
       "    </tr>\n",
       "    <tr>\n",
       "      <th>26045</th>\n",
       "      <td>1001</td>\n",
       "      <td>0</td>\n",
       "      <td>2016-11-25 16:20:01</td>\n",
       "      <td>2077396.0</td>\n",
       "      <td>pfail</td>\n",
       "    </tr>\n",
       "    <tr>\n",
       "      <th>26054</th>\n",
       "      <td>1001</td>\n",
       "      <td>0</td>\n",
       "      <td>2016-11-25 16:25:15</td>\n",
       "      <td>314.0</td>\n",
       "      <td>pback</td>\n",
       "    </tr>\n",
       "    <tr>\n",
       "      <th>27018</th>\n",
       "      <td>1001</td>\n",
       "      <td>0</td>\n",
       "      <td>2016-11-26 16:09:24</td>\n",
       "      <td>1708.0</td>\n",
       "      <td>pfail</td>\n",
       "    </tr>\n",
       "  </tbody>\n",
       "</table>\n",
       "</div>"
      ],
      "text/plain": [
       "      device_id  alive       datetime_rcvd  elapsed_sec    msg\n",
       "7751       1001      0 2016-10-28 15:33:40       1035.0  pback\n",
       "7757       1001      0 2016-10-28 15:35:20        100.0  pfail\n",
       "26045      1001      0 2016-11-25 16:20:01    2077396.0  pfail\n",
       "26054      1001      0 2016-11-25 16:25:15        314.0  pback\n",
       "27018      1001      0 2016-11-26 16:09:24       1708.0  pfail"
      ]
     },
     "execution_count": 72,
     "metadata": {},
     "output_type": "execute_result"
    }
   ],
   "source": [
    "x[['device_id','alive','datetime_rcvd','elapsed_sec','msg']].head()"
   ]
  },
  {
   "cell_type": "code",
   "execution_count": 63,
   "metadata": {
    "collapsed": false
   },
   "outputs": [],
   "source": [
    "#create delay variable\n",
    "#Delay in seconds\n",
    "#QUESTION: Need time zones inofrmation for this to be accurate\n",
    "x['delay'] = x.apply(lambda x: (x['datetime_sent']-x['datetime_rcvd']).total_seconds(),axis=1)"
   ]
  },
  {
   "cell_type": "code",
   "execution_count": 64,
   "metadata": {
    "collapsed": false
   },
   "outputs": [
    {
     "data": {
      "text/plain": [
       "count    143100.000000\n",
       "mean      -2572.496087\n",
       "std       12734.967316\n",
       "min     -167046.000000\n",
       "25%       -3133.000000\n",
       "50%        -482.000000\n",
       "75%        2184.000000\n",
       "max        5000.000000\n",
       "Name: delay, dtype: float64"
      ]
     },
     "execution_count": 64,
     "metadata": {},
     "output_type": "execute_result"
    }
   ],
   "source": [
    "x.delay.describe()"
   ]
  },
  {
   "cell_type": "code",
   "execution_count": 46,
   "metadata": {
    "collapsed": false
   },
   "outputs": [
    {
     "data": {
      "text/html": [
       "<div>\n",
       "<table border=\"1\" class=\"dataframe\">\n",
       "  <thead>\n",
       "    <tr style=\"text-align: right;\">\n",
       "      <th></th>\n",
       "      <th>device_id</th>\n",
       "      <th>alive</th>\n",
       "      <th>datetime_rcvd</th>\n",
       "    </tr>\n",
       "  </thead>\n",
       "  <tbody>\n",
       "    <tr>\n",
       "      <th>6950</th>\n",
       "      <td>1001</td>\n",
       "      <td>1</td>\n",
       "      <td>2016-10-27 03:12:55</td>\n",
       "    </tr>\n",
       "    <tr>\n",
       "      <th>7262</th>\n",
       "      <td>1001</td>\n",
       "      <td>1</td>\n",
       "      <td>2016-10-27 15:16:22</td>\n",
       "    </tr>\n",
       "    <tr>\n",
       "      <th>7511</th>\n",
       "      <td>1001</td>\n",
       "      <td>1</td>\n",
       "      <td>2016-10-28 03:16:26</td>\n",
       "    </tr>\n",
       "    <tr>\n",
       "      <th>7739</th>\n",
       "      <td>1001</td>\n",
       "      <td>1</td>\n",
       "      <td>2016-10-28 15:16:25</td>\n",
       "    </tr>\n",
       "    <tr>\n",
       "      <th>8041</th>\n",
       "      <td>1001</td>\n",
       "      <td>1</td>\n",
       "      <td>2016-10-29 03:16:28</td>\n",
       "    </tr>\n",
       "  </tbody>\n",
       "</table>\n",
       "</div>"
      ],
      "text/plain": [
       "     device_id alive       datetime_rcvd\n",
       "6950      1001     1 2016-10-27 03:12:55\n",
       "7262      1001     1 2016-10-27 15:16:22\n",
       "7511      1001     1 2016-10-28 03:16:26\n",
       "7739      1001     1 2016-10-28 15:16:25\n",
       "8041      1001     1 2016-10-29 03:16:28"
      ]
     },
     "execution_count": 46,
     "metadata": {},
     "output_type": "execute_result"
    }
   ],
   "source": [
    "#check sorting\n",
    "x[['device_id','alive','datetime_rcvd']].head()"
   ]
  },
  {
   "cell_type": "code",
   "execution_count": null,
   "metadata": {
    "collapsed": true
   },
   "outputs": [],
   "source": [
    "#create delay variable\n",
    "x2['delay'] = x2.apply(lambda x: (x['datetime_sent']-x['datetime_rcvd']).total_seconds(),axis=1)"
   ]
  },
  {
   "cell_type": "code",
   "execution_count": 37,
   "metadata": {
    "collapsed": false
   },
   "outputs": [
    {
     "data": {
      "text/html": [
       "<div>\n",
       "<table border=\"1\" class=\"dataframe\">\n",
       "  <thead>\n",
       "    <tr style=\"text-align: right;\">\n",
       "      <th></th>\n",
       "      <th>device_id</th>\n",
       "      <th>datetime_rcvd</th>\n",
       "      <th>alive</th>\n",
       "    </tr>\n",
       "  </thead>\n",
       "  <tbody>\n",
       "    <tr>\n",
       "      <th>142083</th>\n",
       "      <td>0</td>\n",
       "      <td>2017-03-20 06:07:41</td>\n",
       "      <td>1</td>\n",
       "    </tr>\n",
       "    <tr>\n",
       "      <th>6950</th>\n",
       "      <td>1001</td>\n",
       "      <td>2016-10-27 03:12:55</td>\n",
       "      <td>1</td>\n",
       "    </tr>\n",
       "    <tr>\n",
       "      <th>7262</th>\n",
       "      <td>1001</td>\n",
       "      <td>2016-10-27 15:16:22</td>\n",
       "      <td>1</td>\n",
       "    </tr>\n",
       "    <tr>\n",
       "      <th>7511</th>\n",
       "      <td>1001</td>\n",
       "      <td>2016-10-28 03:16:26</td>\n",
       "      <td>1</td>\n",
       "    </tr>\n",
       "    <tr>\n",
       "      <th>7739</th>\n",
       "      <td>1001</td>\n",
       "      <td>2016-10-28 15:16:25</td>\n",
       "      <td>1</td>\n",
       "    </tr>\n",
       "  </tbody>\n",
       "</table>\n",
       "</div>"
      ],
      "text/plain": [
       "       device_id       datetime_rcvd alive\n",
       "142083         0 2017-03-20 06:07:41     1\n",
       "6950        1001 2016-10-27 03:12:55     1\n",
       "7262        1001 2016-10-27 15:16:22     1\n",
       "7511        1001 2016-10-28 03:16:26     1\n",
       "7739        1001 2016-10-28 15:16:25     1"
      ]
     },
     "execution_count": 37,
     "metadata": {},
     "output_type": "execute_result"
    }
   ],
   "source": [
    "x2[['device_id','datetime_rcvd', 'alive']].head()"
   ]
  },
  {
   "cell_type": "code",
   "execution_count": 38,
   "metadata": {
    "collapsed": true
   },
   "outputs": [],
   "source": [
    "#create datetime-sent\n",
    "stata_refdt = datetime.strptime(\"1/1/1960 00:00:00\", '%m/%d/%Y %H:%M:%S')\n",
    "\n",
    "#The constant 315637200000 is being added as some kind of offset based on stata code\n",
    "x2['datetime_sent'] = x2.apply(lambda x: stata_refdt + timedelta(milliseconds = x['date_sent']+315637200000),axis=1)\n",
    "\n"
   ]
  },
  {
   "cell_type": "code",
   "execution_count": 39,
   "metadata": {
    "collapsed": true
   },
   "outputs": [],
   "source": [
    "#create delay variable\n",
    "x2['delay'] = x2.apply(lambda x: (x['datetime_sent']-x['datetime_rcvd']).total_seconds(),axis=1)"
   ]
  },
  {
   "cell_type": "code",
   "execution_count": 41,
   "metadata": {
    "collapsed": false
   },
   "outputs": [
    {
     "data": {
      "text/html": [
       "<div>\n",
       "<table border=\"1\" class=\"dataframe\">\n",
       "  <thead>\n",
       "    <tr style=\"text-align: right;\">\n",
       "      <th></th>\n",
       "      <th>datetime_sent</th>\n",
       "      <th>datetime_rcvd</th>\n",
       "      <th>delay</th>\n",
       "    </tr>\n",
       "  </thead>\n",
       "  <tbody>\n",
       "    <tr>\n",
       "      <th>142083</th>\n",
       "      <td>2017-03-20 05:33:20</td>\n",
       "      <td>2017-03-20 06:07:41</td>\n",
       "      <td>-2061.0</td>\n",
       "    </tr>\n",
       "    <tr>\n",
       "      <th>6950</th>\n",
       "      <td>2016-10-27 03:13:20</td>\n",
       "      <td>2016-10-27 03:12:55</td>\n",
       "      <td>25.0</td>\n",
       "    </tr>\n",
       "    <tr>\n",
       "      <th>7262</th>\n",
       "      <td>2016-10-27 14:20:00</td>\n",
       "      <td>2016-10-27 15:16:22</td>\n",
       "      <td>-3382.0</td>\n",
       "    </tr>\n",
       "    <tr>\n",
       "      <th>7511</th>\n",
       "      <td>2016-10-28 04:13:20</td>\n",
       "      <td>2016-10-28 03:16:26</td>\n",
       "      <td>3414.0</td>\n",
       "    </tr>\n",
       "    <tr>\n",
       "      <th>7739</th>\n",
       "      <td>2016-10-28 15:20:00</td>\n",
       "      <td>2016-10-28 15:16:25</td>\n",
       "      <td>215.0</td>\n",
       "    </tr>\n",
       "  </tbody>\n",
       "</table>\n",
       "</div>"
      ],
      "text/plain": [
       "             datetime_sent       datetime_rcvd   delay\n",
       "142083 2017-03-20 05:33:20 2017-03-20 06:07:41 -2061.0\n",
       "6950   2016-10-27 03:13:20 2016-10-27 03:12:55    25.0\n",
       "7262   2016-10-27 14:20:00 2016-10-27 15:16:22 -3382.0\n",
       "7511   2016-10-28 04:13:20 2016-10-28 03:16:26  3414.0\n",
       "7739   2016-10-28 15:20:00 2016-10-28 15:16:25   215.0"
      ]
     },
     "execution_count": 41,
     "metadata": {},
     "output_type": "execute_result"
    }
   ],
   "source": [
    "#Need to find out about the timezones of the time data\n",
    "x2[['datetime_sent','datetime_rcvd', 'delay']].head()"
   ]
  },
  {
   "cell_type": "markdown",
   "metadata": {},
   "source": [
    "**So up to here, I have all the data in Clean_Full_Elect_L2T@3.xlsx (Data) except for the following variables:**\n",
    "    1. DateCollectionStart\n",
    "    2. Delivered\n",
    "Curious about significance and usage of these variables."
   ]
  },
  {
   "cell_type": "markdown",
   "metadata": {},
   "source": [
    "**Questions**\n",
    "===============\n",
    "1. SMS types and expected frequencies•Power failure detected: When power fails\n",
    "\t- *Power failure monitoring:* How often are these messages supposed to be sent-every 10 seconds ( every 12 hrs)\n",
    "\t- *Power back:* when power is back\n",
    "\t- *Power on monitoring:* How often are these messages supposed to be sent-every 10 seconds ( every 12 hrs)\n",
    "\n",
    "2. I assume a 1-1 mapping between device_id and phone number?  I will check this\n",
    "\n",
    "3. Date data collection actually started. I remeber you explained about this BUT what does this exactly mean?\n",
    "  \n",
    "  If the box was sending sms before datestart, does it mean the data is bad? I thought its a sensor, \n",
    "  \n",
    "  so the data should be usable anyways.\n",
    "\n",
    "4. Variable *alive*: The use of this variable for sms events data is a little confusing for me. \n",
    "\n",
    "\tMy understanding is that if we got that particular vent (sms), then for that instant, the box is alive.\n"
   ]
  },
  {
   "cell_type": "code",
   "execution_count": 3,
   "metadata": {
    "collapsed": false
   },
   "outputs": [
    {
     "data": {
      "image/png": "[encoded data removed]",
      "text/plain": [
       "<IPython.core.display.Image object>"
      ]
     },
     "execution_count": 3,
     "metadata": {},
     "output_type": "execute_result"
    }
   ],
   "source": [
    "#Architecture\n",
    "Image(filename='..//04.docs\\\\ltjk_architecture.png') "
   ]
  },
  {
   "cell_type": "markdown",
   "metadata": {},
   "source": [
    "*Whats the detail with the date collection started and the actual date started in the data?*"
   ]
  },
  {
   "cell_type": "code",
   "execution_count": null,
   "metadata": {
    "collapsed": true
   },
   "outputs": [],
   "source": []
  }
 ],
 "metadata": {
  "kernelspec": {
   "display_name": "Python 3",
   "language": "python",
   "name": "python3"
  },
  "language_info": {
   "codemirror_mode": {
    "name": "ipython",
    "version": 3
   },
   "file_extension": ".py",
   "mimetype": "text/x-python",
   "name": "python",
   "nbconvert_exporter": "python",
   "pygments_lexer": "ipython3",
   "version": "3.6.0"
  }
 },
 "nbformat": 4,
 "nbformat_minor": 2
}
