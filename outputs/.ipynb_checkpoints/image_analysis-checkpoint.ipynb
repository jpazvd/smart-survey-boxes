{
 "cells": [
  {
   "cell_type": "code",
   "execution_count": 126,
   "metadata": {
    "collapsed": true
   },
   "outputs": [],
   "source": [
    "import os\n",
    "import zipfile\n",
    "import pandas as pd\n",
    "import numpy as np\n",
    "from prettytable import PrettyTable\n",
    "\n",
    "# We'll also import seaborn, a Python graphing library\n",
    "import warnings # current version of seaborn generates a bunch of warnings that we'll ignore\n",
    "warnings.filterwarnings(\"ignore\")\n",
    "import seaborn as sns\n",
    "\n",
    "import matplotlib.pyplot as plt\n",
    "\n",
    "from sklearn.ensemble import RandomForestClassifier\n",
    "from sklearn.metrics import accuracy_score, precision_score\n",
    "from sklearn.model_selection import StratifiedKFold\n",
    "\n",
    "from IPython.display import display"
   ]
  },
  {
   "cell_type": "markdown",
   "metadata": {},
   "source": [
    "**Set up where to get data**\n",
    "=============================="
   ]
  },
  {
   "cell_type": "code",
   "execution_count": 4,
   "metadata": {
    "collapsed": true
   },
   "outputs": [],
   "source": [
    "img_dir = '/Users/dmatekenya/world_bank_noaa_images/images_from_noaa'\n",
    "data_dir = \"/Users/dmatekenya/Google Drive/World-Bank/electricity_monitoring/01.data/processed_sms/\"\n",
    "\n",
    "sms1 = pd.read_csv(data_dir + 'sms_observed.csv')\n",
    "sms2 = pd.read_csv(data_dir + 'sms_rect_hr.csv')"
   ]
  },
  {
   "cell_type": "markdown",
   "metadata": {},
   "source": [
    "**Generate image metadata**\n",
    "==============================="
   ]
  },
  {
   "cell_type": "code",
   "execution_count": 3,
   "metadata": {
    "collapsed": true
   },
   "outputs": [],
   "source": [
    "def generate_image_metadata(image_dir=None):\n",
    "    folders = []\n",
    "    data = []\n",
    "    img_cnt = 0 \n",
    "\n",
    "    for entry in os.scandir(img_dir):\n",
    "        if entry.is_dir():\n",
    "            folders.append(entry.path)\n",
    "\n",
    "    for fd in folders:\n",
    "        for entry in os.scandir(fd):\n",
    "            if entry.is_file():\n",
    "                f = entry.name\n",
    "                if f[-3:] == 'tif':\n",
    "                    img_cnt += 1\n",
    "                path = entry.path\n",
    "                data.append ({'path': path, 'ext': f[-3:],'ts': f[11:19] + ' ' + f[21:27],\"te\": f[11:19] + ' ' + f[30:36]})\n",
    "\n",
    "    #create dataframe\n",
    "    print ('Number of images-%s'%img_cnt)\n",
    "    df = pd.DataFrame(data)\n",
    "    \n",
    "    df['ts'] =  pd.to_datetime(df['ts'], format='%Y%m%d %H%M%S')\n",
    "    df['te'] =  pd.to_datetime(df['te'], format='%Y%m%d %H%M%S')\n",
    "    df['hr'] =  df.apply (lambda x: x['ts'].hour, axis = 1)\n",
    "    \n",
    "    return df"
   ]
  },
  {
   "cell_type": "markdown",
   "metadata": {},
   "source": [
    "**Basic image metadata for presentation**\n",
    "---------------------------------------------"
   ]
  },
  {
   "cell_type": "code",
   "execution_count": 4,
   "metadata": {
    "collapsed": true
   },
   "outputs": [],
   "source": [
    "def print_image_hrs_meta(df=None, target_var='hr'):\n",
    "    x = PrettyTable(field_names=['Acquisition hour', 'Proportion (%)'])\n",
    "    counts = df[target_var].value_counts(normalize=True)\n",
    "    for idx in counts.index:\n",
    "        x.add_row([idx, round(counts[idx] * 100, 2)])\n",
    "    print('Image acquisition time-summary')\n",
    "    print('===============================')\n",
    "    print(x)"
   ]
  },
  {
   "cell_type": "code",
   "execution_count": 5,
   "metadata": {},
   "outputs": [
    {
     "name": "stdout",
     "output_type": "stream",
     "text": [
      "Number of images-317\n",
      "Image acquisition time-summary\n",
      "===============================\n",
      "+------------------+----------------+\n",
      "| Acquisition hour | Proportion (%) |\n",
      "+------------------+----------------+\n",
      "|        21        |     40.06      |\n",
      "|        20        |     39.75      |\n",
      "|        22        |     14.51      |\n",
      "|        19        |      5.68      |\n",
      "+------------------+----------------+\n"
     ]
    }
   ],
   "source": [
    "df_img = generate_image_metadata(image_dir=img_dir)\n",
    "print_image_hrs_meta(df_img)"
   ]
  },
  {
   "cell_type": "markdown",
   "metadata": {},
   "source": [
    "**EXTRACT ONLY NIGHT OUTAGES!!!**\n",
    "==================================\n",
    "From sm2_rect_hr.csv, keep only required events\n",
    "1. Limit hours to match those in images\n",
    "2. Summarise events by PSU (For this analysis, \n",
    "I only keep hours which have same event in both boxes)"
   ]
  },
  {
   "cell_type": "code",
   "execution_count": 6,
   "metadata": {
    "collapsed": true
   },
   "outputs": [],
   "source": [
    "def summarise_events_by_psu(df_psu):\n",
    "    \"\"\"\n",
    "    Very strict: Take only hours where boxes have same events and discard the rest\n",
    "    \"\"\"\n",
    "    hrs = df_psu.str_datetime_sent_hr.unique()\n",
    "    keep = []\n",
    "    \n",
    "    for hr in hrs:\n",
    "        df_hr = df_psu[df_psu.str_datetime_sent_hr==hr]\n",
    "        events = df_hr.power_state.unique()\n",
    "    \n",
    "        if len(events) > 1:\n",
    "            # print('Different events, drop this hours')\n",
    "            continue\n",
    "        elif len(events)==1:\n",
    "            keep.append(hr)\n",
    "    \n",
    "    # \n",
    "    df_psu2 = df_psu[df_psu['str_datetime_sent_hr'].isin(keep)]\n",
    "    \n",
    "    df_psu3 = df_psu2.groupby(['psu', 'lon', 'lat', 'str_datetime_sent_hr'])['power_state'].max()\n",
    "    \n",
    "    return df_psu3.reset_index()"
   ]
  },
  {
   "cell_type": "code",
   "execution_count": 7,
   "metadata": {
    "collapsed": true
   },
   "outputs": [],
   "source": [
    "def generate_event_data_by_psu(df):\n",
    "\n",
    "    for i, psu in enumerate(list(df.psu.unique())):\n",
    "        df_psu = summarise_events_by_psu(df[df.psu==psu])\n",
    "        \n",
    "        if i == 0:\n",
    "            all_df = df_psu\n",
    "        elif i > 0:\n",
    "            all_df = all_df.append(df_psu)\n",
    "            \n",
    "    return all_df  "
   ]
  },
  {
   "cell_type": "code",
   "execution_count": 11,
   "metadata": {
    "collapsed": true
   },
   "outputs": [],
   "source": [
    "def extract_data_for_image_analysis(sms2, hrs=[18, 19, 20, 21, 22]):\n",
    "    \n",
    "    # preliminary processing\n",
    "    sms2_ = sms2[sms2.power_state != -1]\n",
    "    reqcols = ['box_id', 'region', 'district', 'urban_rural', 'psu', 'lon', 'lat',\n",
    "       'str_datetime_sent','str_datetime_sent_hr', 'day_sent', 'hour_sent', 'month_sent',\n",
    "       'power_state', 'data_source']\n",
    "    sms2_ = sms2_[reqcols]\n",
    "    \n",
    "    sms2_night = sms2_[sms2['hour_sent'].isin([18, 19, 20, 21, 22])]\n",
    "    \n",
    "    # generate event data by psu\n",
    "    df2 = generate_event_data_by_psu(sms2_night)\n",
    "    \n",
    "    return df2"
   ]
  },
  {
   "cell_type": "code",
   "execution_count": 50,
   "metadata": {
    "collapsed": true
   },
   "outputs": [],
   "source": [
    "def join_image_box_data(df_box=None,df_image=None):\n",
    "    # covert datetime for images to hour based on starttime\n",
    "    df_image['image_date'] = df_image['ts'].values.astype('<M8[h]')\n",
    "    \n",
    "    df_image = df_image[['image_date', 'path']]\n",
    "    \n",
    "    # Ensure str_datetime_sent_hr is in datetime format\n",
    "    df_box['str_datetime_sent_hr'] =  pd.to_datetime(df_box['str_datetime_sent_hr'])\n",
    "    \n",
    "    #merge\n",
    "    \n",
    "    df = df_box.merge(right=df_image, how='inner', right_on='image_date', \n",
    "                      left_on='str_datetime_sent_hr')\n",
    "    \n",
    "    return df"
   ]
  },
  {
   "cell_type": "code",
   "execution_count": 49,
   "metadata": {},
   "outputs": [
    {
     "name": "stderr",
     "output_type": "stream",
     "text": [
      "/Library/Frameworks/Python.framework/Versions/3.5/lib/python3.5/site-packages/ipykernel_launcher.py:10: UserWarning: Boolean Series key will be reindexed to match DataFrame index.\n",
      "  # Remove the CWD from sys.path while we load stuff.\n"
     ]
    }
   ],
   "source": [
    "df = extract_data_for_image_analysis(sms2, hrs=[18, 19, 20, 21, 22])"
   ]
  },
  {
   "cell_type": "code",
   "execution_count": 15,
   "metadata": {
    "collapsed": true
   },
   "outputs": [],
   "source": [
    "df.to_csv(data_dir + 'psu_power_state.csv', index=False)"
   ]
  },
  {
   "cell_type": "code",
   "execution_count": 48,
   "metadata": {
    "collapsed": true
   },
   "outputs": [],
   "source": [
    "def save_location_data(df):\n",
    "    \"\"\"\n",
    "    Save lat_lon in file\n",
    "    \"\"\"\n",
    "\n",
    "    location_file = df.groupby(['psu', 'lon', 'lat']).agg('count')\n",
    "    xy = location_file.reset_index()\n",
    "    xy = xy[['psu', 'lon', 'lat']]\n",
    "    # Remove PSU 21 because of bad coordinates\n",
    "    xy = xy [xy.psu != 21]\n",
    "    xy.to_csv(data_dir + 'lat_lon.csv', index=False)"
   ]
  },
  {
   "cell_type": "code",
   "execution_count": 54,
   "metadata": {
    "collapsed": true
   },
   "outputs": [],
   "source": [
    "# save events which with corresponding image\n",
    "df_image_box.rename(columns={'path':'image_path'})\n",
    "df_image_box.to_csv(data_dir + 'box_events_vs_image.csv', index=False)"
   ]
  },
  {
   "cell_type": "markdown",
   "metadata": {
    "collapsed": true
   },
   "source": [
    "**Analyse the pixel values**\n",
    "=============================\n",
    "After extracting pixel values at the locaitons, lets check out how it looks.\n"
   ]
  },
  {
   "cell_type": "code",
   "execution_count": 53,
   "metadata": {},
   "outputs": [],
   "source": [
    "pix = pd.read_csv(data_dir + 'box_events_vs_image3.csv')"
   ]
  },
  {
   "cell_type": "code",
   "execution_count": 61,
   "metadata": {},
   "outputs": [],
   "source": [
    "pix['log_radiance'] = pix.radiance.map(np.log)"
   ]
  },
  {
   "cell_type": "code",
   "execution_count": 81,
   "metadata": {},
   "outputs": [],
   "source": [
    "# Let's look at the density of the age of happy/unhappy customers for saldo_var30\n",
    "def plot_radiance_by_power_status(df_pix, target_var, filename, xlabel):\n",
    "    # df_pix = df_pix[df_pix.radiance < 40]\n",
    "    sns.set_palette(\"husl\", 2)\n",
    "    sns.set_style('darkgrid', {'legend.frameon':True})\n",
    "    g = sns.FacetGrid(df_pix, hue=\"power_state\", size=8) \\\n",
    "           .map(sns.kdeplot, target_var) \\\n",
    "           .add_legend()\n",
    "    \n",
    "    g.set_xlabels(xlabel)\n",
    "    g.set_ylabels('Proportion')\n",
    "    \n",
    "    print(dir(g))\n",
    "    g.fig.savefig(filename)\n",
    "    plt.show()"
   ]
  },
  {
   "cell_type": "markdown",
   "metadata": {},
   "source": [
    "** How good can pixel values predict power_status**\n",
    "===================================================\n"
   ]
  },
  {
   "cell_type": "code",
   "execution_count": 50,
   "metadata": {},
   "outputs": [
    {
     "data": {
      "text/plain": [
       "1    0.899346\n",
       "0    0.100654\n",
       "Name: power_state, dtype: float64"
      ]
     },
     "execution_count": 50,
     "metadata": {},
     "output_type": "execute_result"
    }
   ],
   "source": [
    "pix.power_state.value_counts(normalize=True)"
   ]
  },
  {
   "cell_type": "code",
   "execution_count": 51,
   "metadata": {},
   "outputs": [
    {
     "data": {
      "text/plain": [
       "(25672, 8)"
      ]
     },
     "execution_count": 51,
     "metadata": {},
     "output_type": "execute_result"
    }
   ],
   "source": [
    "pix.shape"
   ]
  },
  {
   "cell_type": "code",
   "execution_count": 83,
   "metadata": {},
   "outputs": [
    {
     "data": {
      "text/html": [
       "<div>\n",
       "<table border=\"1\" class=\"dataframe\">\n",
       "  <thead>\n",
       "    <tr style=\"text-align: right;\">\n",
       "      <th></th>\n",
       "      <th>psu</th>\n",
       "      <th>lon</th>\n",
       "      <th>lat</th>\n",
       "      <th>str_datetime_sent_hr</th>\n",
       "      <th>power_state</th>\n",
       "      <th>image_date</th>\n",
       "      <th>path</th>\n",
       "      <th>radiance</th>\n",
       "      <th>log_radiance</th>\n",
       "    </tr>\n",
       "  </thead>\n",
       "  <tbody>\n",
       "    <tr>\n",
       "      <th>0</th>\n",
       "      <td>35</td>\n",
       "      <td>69.075835</td>\n",
       "      <td>38.563905</td>\n",
       "      <td>2016-11-22 22:00:00</td>\n",
       "      <td>0</td>\n",
       "      <td>2016-11-22 22:00:00</td>\n",
       "      <td>/Users/dmatekenya/world_bank_noaa_images/image...</td>\n",
       "      <td>1.555751</td>\n",
       "      <td>0.441959</td>\n",
       "    </tr>\n",
       "    <tr>\n",
       "      <th>1</th>\n",
       "      <td>113</td>\n",
       "      <td>69.945693</td>\n",
       "      <td>40.432452</td>\n",
       "      <td>2016-11-22 22:00:00</td>\n",
       "      <td>1</td>\n",
       "      <td>2016-11-22 22:00:00</td>\n",
       "      <td>/Users/dmatekenya/world_bank_noaa_images/image...</td>\n",
       "      <td>1.286921</td>\n",
       "      <td>0.252253</td>\n",
       "    </tr>\n",
       "    <tr>\n",
       "      <th>2</th>\n",
       "      <td>140</td>\n",
       "      <td>67.627770</td>\n",
       "      <td>39.499137</td>\n",
       "      <td>2016-11-22 22:00:00</td>\n",
       "      <td>0</td>\n",
       "      <td>2016-11-22 22:00:00</td>\n",
       "      <td>/Users/dmatekenya/world_bank_noaa_images/image...</td>\n",
       "      <td>1.803644</td>\n",
       "      <td>0.589809</td>\n",
       "    </tr>\n",
       "    <tr>\n",
       "      <th>3</th>\n",
       "      <td>97</td>\n",
       "      <td>69.756089</td>\n",
       "      <td>38.355409</td>\n",
       "      <td>2016-11-22 22:00:00</td>\n",
       "      <td>0</td>\n",
       "      <td>2016-11-22 22:00:00</td>\n",
       "      <td>/Users/dmatekenya/world_bank_noaa_images/image...</td>\n",
       "      <td>0.761194</td>\n",
       "      <td>-0.272867</td>\n",
       "    </tr>\n",
       "    <tr>\n",
       "      <th>4</th>\n",
       "      <td>47</td>\n",
       "      <td>70.090710</td>\n",
       "      <td>38.995396</td>\n",
       "      <td>2016-11-22 22:00:00</td>\n",
       "      <td>0</td>\n",
       "      <td>2016-11-22 22:00:00</td>\n",
       "      <td>/Users/dmatekenya/world_bank_noaa_images/image...</td>\n",
       "      <td>0.996926</td>\n",
       "      <td>-0.003079</td>\n",
       "    </tr>\n",
       "  </tbody>\n",
       "</table>\n",
       "</div>"
      ],
      "text/plain": [
       "   psu        lon        lat str_datetime_sent_hr  power_state  \\\n",
       "0   35  69.075835  38.563905  2016-11-22 22:00:00            0   \n",
       "1  113  69.945693  40.432452  2016-11-22 22:00:00            1   \n",
       "2  140  67.627770  39.499137  2016-11-22 22:00:00            0   \n",
       "3   97  69.756089  38.355409  2016-11-22 22:00:00            0   \n",
       "4   47  70.090710  38.995396  2016-11-22 22:00:00            0   \n",
       "\n",
       "            image_date                                               path  \\\n",
       "0  2016-11-22 22:00:00  /Users/dmatekenya/world_bank_noaa_images/image...   \n",
       "1  2016-11-22 22:00:00  /Users/dmatekenya/world_bank_noaa_images/image...   \n",
       "2  2016-11-22 22:00:00  /Users/dmatekenya/world_bank_noaa_images/image...   \n",
       "3  2016-11-22 22:00:00  /Users/dmatekenya/world_bank_noaa_images/image...   \n",
       "4  2016-11-22 22:00:00  /Users/dmatekenya/world_bank_noaa_images/image...   \n",
       "\n",
       "   radiance  log_radiance  \n",
       "0  1.555751      0.441959  \n",
       "1  1.286921      0.252253  \n",
       "2  1.803644      0.589809  \n",
       "3  0.761194     -0.272867  \n",
       "4  0.996926     -0.003079  "
      ]
     },
     "execution_count": 83,
     "metadata": {},
     "output_type": "execute_result"
    }
   ],
   "source": [
    "pix.head()"
   ]
  },
  {
   "cell_type": "code",
   "execution_count": 95,
   "metadata": {
    "collapsed": true
   },
   "outputs": [],
   "source": [
    "px = pix.dropna(subset=['log_radiance'])"
   ]
  },
  {
   "cell_type": "code",
   "execution_count": 93,
   "metadata": {},
   "outputs": [],
   "source": [
    "n = pix.loc[pix.log_radiance.isnull()]\n",
    "n2 = pix.loc[pix.radiance.isnull()]"
   ]
  },
  {
   "cell_type": "code",
   "execution_count": 98,
   "metadata": {},
   "outputs": [],
   "source": [
    "nn = px.loc[pix.log_radiance.isnull()]"
   ]
  },
  {
   "cell_type": "code",
   "execution_count": 99,
   "metadata": {},
   "outputs": [
    {
     "data": {
      "text/plain": [
       "(0, 9)"
      ]
     },
     "execution_count": 99,
     "metadata": {},
     "output_type": "execute_result"
    }
   ],
   "source": [
    "nn.shape"
   ]
  },
  {
   "cell_type": "code",
   "execution_count": 100,
   "metadata": {},
   "outputs": [
    {
     "data": {
      "text/plain": [
       "(25672, 9)"
      ]
     },
     "execution_count": 100,
     "metadata": {},
     "output_type": "execute_result"
    }
   ],
   "source": [
    "pix.shape"
   ]
  },
  {
   "cell_type": "code",
   "execution_count": 115,
   "metadata": {},
   "outputs": [],
   "source": [
    "dark_nights = pix_counts.reset_index()"
   ]
  },
  {
   "cell_type": "code",
   "execution_count": 120,
   "metadata": {},
   "outputs": [
    {
     "data": {
      "text/html": [
       "<div>\n",
       "<table border=\"1\" class=\"dataframe\">\n",
       "  <thead>\n",
       "    <tr style=\"text-align: right;\">\n",
       "      <th></th>\n",
       "      <th>str_datetime_sent_hr</th>\n",
       "      <th>path</th>\n",
       "      <th>power_state</th>\n",
       "    </tr>\n",
       "  </thead>\n",
       "  <tbody>\n",
       "    <tr>\n",
       "      <th>0</th>\n",
       "      <td>2016-10-24 21:00:00</td>\n",
       "      <td>/Users/dmatekenya/world_bank_noaa_images/image...</td>\n",
       "      <td>3</td>\n",
       "    </tr>\n",
       "    <tr>\n",
       "      <th>1</th>\n",
       "      <td>2016-10-25 21:00:00</td>\n",
       "      <td>/Users/dmatekenya/world_bank_noaa_images/image...</td>\n",
       "      <td>5</td>\n",
       "    </tr>\n",
       "    <tr>\n",
       "      <th>2</th>\n",
       "      <td>2016-10-26 20:00:00</td>\n",
       "      <td>/Users/dmatekenya/world_bank_noaa_images/image...</td>\n",
       "      <td>6</td>\n",
       "    </tr>\n",
       "    <tr>\n",
       "      <th>3</th>\n",
       "      <td>2016-10-27 20:00:00</td>\n",
       "      <td>/Users/dmatekenya/world_bank_noaa_images/image...</td>\n",
       "      <td>9</td>\n",
       "    </tr>\n",
       "    <tr>\n",
       "      <th>4</th>\n",
       "      <td>2016-10-27 22:00:00</td>\n",
       "      <td>/Users/dmatekenya/world_bank_noaa_images/image...</td>\n",
       "      <td>2</td>\n",
       "    </tr>\n",
       "  </tbody>\n",
       "</table>\n",
       "</div>"
      ],
      "text/plain": [
       "  str_datetime_sent_hr                                               path  \\\n",
       "0  2016-10-24 21:00:00  /Users/dmatekenya/world_bank_noaa_images/image...   \n",
       "1  2016-10-25 21:00:00  /Users/dmatekenya/world_bank_noaa_images/image...   \n",
       "2  2016-10-26 20:00:00  /Users/dmatekenya/world_bank_noaa_images/image...   \n",
       "3  2016-10-27 20:00:00  /Users/dmatekenya/world_bank_noaa_images/image...   \n",
       "4  2016-10-27 22:00:00  /Users/dmatekenya/world_bank_noaa_images/image...   \n",
       "\n",
       "   power_state  \n",
       "0            3  \n",
       "1            5  \n",
       "2            6  \n",
       "3            9  \n",
       "4            2  "
      ]
     },
     "execution_count": 120,
     "metadata": {},
     "output_type": "execute_result"
    }
   ],
   "source": [
    "dark_nights.head()"
   ]
  },
  {
   "cell_type": "code",
   "execution_count": 123,
   "metadata": {},
   "outputs": [],
   "source": [
    "dark_nights2 = dark_nights.sort_values(by='power_state',ascending=False)"
   ]
  },
  {
   "cell_type": "code",
   "execution_count": 119,
   "metadata": {},
   "outputs": [
    {
     "data": {
      "text/plain": [
       "'/Users/dmatekenya/world_bank_noaa_images/images_from_noaa/SVDNB_npp_d201610/SVDNB_npp_d20161024_t2123409_e2129213_b25871_c20161025032921541333_noaa_ops_tjk.rade9.tif'"
      ]
     },
     "execution_count": 119,
     "metadata": {},
     "output_type": "execute_result"
    }
   ],
   "source": [
    "dark_nights.loc[0].path"
   ]
  },
  {
   "cell_type": "code",
   "execution_count": 129,
   "metadata": {},
   "outputs": [
    {
     "name": "stdout",
     "output_type": "stream",
     "text": [
      "/Users/dmatekenya/world_bank_noaa_images/images_from_noaa/SVDNB_npp_d201611/SVDNB_npp_d20161111_t2047294_e2053098_b26126_c20161112025310158569_noaa_ops_tjk.rade9.tif\n",
      "/Users/dmatekenya/world_bank_noaa_images/images_from_noaa/SVDNB_npp_d201610/SVDNB_npp_d20161027_t2025286_e2036506_b25913_c20161028023651896306_noaa_ops_tjk.rade9.tif\n",
      "/Users/dmatekenya/world_bank_noaa_images/images_from_noaa/SVDNB_npp_d201611/SVDNB_npp_d20161103_t1954013_e2005233_b26012_c20161104020523675834_noaa_ops_tjk.rade9.tif\n",
      "/Users/dmatekenya/world_bank_noaa_images/images_from_noaa/SVDNB_npp_d201611/SVDNB_npp_d20161107_t2203101_e2208505_b26070_c20161108040851874720_noaa_ops_tjk.rade9.tif\n",
      "/Users/dmatekenya/world_bank_noaa_images/images_from_noaa/SVDNB_npp_d201611/SVDNB_npp_d20161106_t2220403_e2226207_b26056_c20161107042621471215_noaa_ops_tjk.rade9.tif\n",
      "/Users/dmatekenya/world_bank_noaa_images/images_from_noaa/SVDNB_npp_d201611/SVDNB_npp_d20161103_t2136269_e2142073_b26013_c20161104034207792767_noaa_ops_tjk.rade9.tif\n",
      "/Users/dmatekenya/world_bank_noaa_images/images_from_noaa/SVDNB_npp_d201610/SVDNB_npp_d20161026_t2048404_e2054208_b25899_c20161027025421316118_noaa_ops_tjk.rade9.tif\n",
      "/Users/dmatekenya/world_bank_noaa_images/images_from_noaa/SVDNB_npp_d201610/SVDNB_npp_d20161025_t2106107_e2111511_b25885_c20161026031151397360_noaa_ops_tjk.rade9.tif\n",
      "/Users/dmatekenya/world_bank_noaa_images/images_from_noaa/SVDNB_npp_d201611/SVDNB_npp_d20161101_t2211273_e2222493_b25985_c20161102042249670199_noaa_ops_tjk.rade9.tif\n",
      "/Users/dmatekenya/world_bank_noaa_images/images_from_noaa/SVDNB_npp_d201610/SVDNB_npp_d20161028_t2150240_e2156044_b25928_c20161029035605753356_noaa_ops_tjk.rade9.tif\n",
      "/Users/dmatekenya/world_bank_noaa_images/images_from_noaa/SVDNB_npp_d201610/SVDNB_npp_d20161030_t2109437_e2121040_b25956_c20161031032105114894_noaa_ops_tjk.rade9.tif\n",
      "/Users/dmatekenya/world_bank_noaa_images/images_from_noaa/SVDNB_npp_d201610/SVDNB_npp_d20161024_t2123409_e2129213_b25871_c20161025032921541333_noaa_ops_tjk.rade9.tif\n",
      "/Users/dmatekenya/world_bank_noaa_images/images_from_noaa/SVDNB_npp_d201610/SVDNB_npp_d20161028_t2007584_e2013388_b25927_c20161029021340604499_noaa_ops_tjk.rade9.tif\n",
      "/Users/dmatekenya/world_bank_noaa_images/images_from_noaa/SVDNB_npp_d201610/SVDNB_npp_d20161027_t2207542_e2213346_b25914_c20161028041335937379_noaa_ops_tjk.rade9.tif\n"
     ]
    }
   ],
   "source": [
    "for index, row in dark_nights2.iterrows():\n",
    "    #display(print(row['path'], 'outages-->', row['power_state']))\n",
    "    \n",
    "    if row['power_state'] < 10:\n",
    "        print(row['path'])\n",
    "        "
   ]
  },
  {
   "cell_type": "code",
   "execution_count": null,
   "metadata": {
    "collapsed": true
   },
   "outputs": [],
   "source": []
  }
 ],
 "metadata": {
  "kernelspec": {
   "display_name": "Python 3",
   "language": "python",
   "name": "python3"
  },
  "language_info": {
   "codemirror_mode": {
    "name": "ipython",
    "version": 3
   },
   "file_extension": ".py",
   "mimetype": "text/x-python",
   "name": "python",
   "nbconvert_exporter": "python",
   "pygments_lexer": "ipython3",
   "version": "3.5.1"
  }
 },
 "nbformat": 4,
 "nbformat_minor": 2
}
