{
 "cells": [
  {
   "cell_type": "markdown",
   "metadata": {},
   "source": [
    "**The purpose of this notebook is to compute distances**\n",
    "================================"
   ]
  },
  {
   "cell_type": "code",
   "execution_count": 1,
   "metadata": {
    "collapsed": true
   },
   "outputs": [],
   "source": [
    "#Working Directory\n",
    "wd = \"/Users/dmatekenya/The_Bank/China_Firms/\"\n",
    "data = wd + \"chntestdat.csv\""
   ]
  },
  {
   "cell_type": "code",
   "execution_count": 3,
   "metadata": {
    "collapsed": true
   },
   "outputs": [],
   "source": [
    "#Import some useful libraries\n",
    "import pandas as pd\n",
    "import numpy as np\n",
    "import timeit\n",
    "import datetime\n",
    "from scipy import stats"
   ]
  },
  {
   "cell_type": "code",
   "execution_count": 46,
   "metadata": {
    "collapsed": true
   },
   "outputs": [],
   "source": [
    "### DO this later"
   ]
  },
  {
   "cell_type": "code",
   "execution_count": 5,
   "metadata": {
    "collapsed": true
   },
   "outputs": [],
   "source": [
    "#Distance Function\n",
    "def compute_distances(coordinate_array):\n",
    "    \"\"\"\n",
    "    Compute a distance matrix of the coordinates using a spherical metric.\n",
    "    :param coordinate_array: numpy.ndarray with shape (n,2); latitude is in 1st col, longitude in 2nd.\n",
    "    :returns distance_mat: numpy.ndarray with shape (n, n) containing distance in km between coords.\n",
    "    \"\"\"\n",
    "    # Radius of the earth in km (Hayford-Ellipsoid)\n",
    "    EARTH_RADIUS = 6378388/1000\n",
    "\n",
    "    # Unpacking coordinates\n",
    "    latitudes = coordinate_array[:, 0]\n",
    "    longitudes = coordinate_array[:, 1]\n",
    "    n_pts = coordinate_array.shape[0]\n",
    "\n",
    "    # Convert latitude and longitude to spherical coordinates in radians.\n",
    "    degrees_to_radians = np.pi/180.0\n",
    "    phi_values = (90.0 - latitudes)*degrees_to_radians #Latitudes\n",
    "    theta_values = longitudes*degrees_to_radians   #Longitudes\n",
    "\n",
    "    # Expand phi_values and theta_values into grids\n",
    "    theta_1, theta_2 = np.meshgrid(theta_values, theta_values)\n",
    "    theta_diff_mat = theta_1 - theta_2\n",
    "\n",
    "    phi_1, phi_2 = np.meshgrid(phi_values, phi_values)\n",
    "\n",
    "    # Compute spherical distance from spherical coordinates\n",
    "    angle = (np.sin(phi_1) * np.sin(phi_2) * np.cos(theta_diff_mat) + \n",
    "           np.cos(phi_1) * np.cos(phi_2))\n",
    "    arc = np.arccos(angle)\n",
    "\n",
    "    # Multiply by earth's radius to obtain distance in km\n",
    "    return arc * EARTH_RADIUS"
   ]
  },
  {
   "cell_type": "code",
   "execution_count": 8,
   "metadata": {
    "collapsed": true
   },
   "outputs": [],
   "source": [
    "xy = np.array([[38.904702,-77.036257],[40.807120,-73.962645],[51.561898,0.073332]])"
   ]
  },
  {
   "cell_type": "code",
   "execution_count": 9,
   "metadata": {},
   "outputs": [
    {
     "data": {
      "text/plain": [
       "array([[  3.89047020e+01,  -7.70362570e+01],\n",
       "       [  4.08071200e+01,  -7.39626450e+01],\n",
       "       [  5.15618980e+01,   7.33320000e-02]])"
      ]
     },
     "execution_count": 9,
     "metadata": {},
     "output_type": "execute_result"
    }
   ],
   "source": [
    "xy"
   ]
  },
  {
   "cell_type": "code",
   "execution_count": 22,
   "metadata": {},
   "outputs": [],
   "source": [
    "d = compute_distances(xy)"
   ]
  },
  {
   "cell_type": "code",
   "execution_count": 23,
   "metadata": {},
   "outputs": [
    {
     "data": {
      "text/plain": [
       "array([[    0.        ,   337.37252957,  5915.8803255 ],\n",
       "       [  337.37252957,     0.        ,  5578.5520734 ],\n",
       "       [ 5915.8803255 ,  5578.5520734 ,     0.        ]])"
      ]
     },
     "execution_count": 23,
     "metadata": {},
     "output_type": "execute_result"
    }
   ],
   "source": [
    "d"
   ]
  },
  {
   "cell_type": "code",
   "execution_count": 28,
   "metadata": {},
   "outputs": [
    {
     "data": {
      "text/plain": [
       "array([  337.37252957,  5915.8803255 ,  5578.5520734 ])"
      ]
     },
     "execution_count": 28,
     "metadata": {},
     "output_type": "execute_result"
    }
   ],
   "source": [
    "d[np.tril_indices(d.shape[0], -1)]"
   ]
  },
  {
   "cell_type": "code",
   "execution_count": 27,
   "metadata": {},
   "outputs": [
    {
     "data": {
      "text/plain": [
       "array([[ True, False, False],\n",
       "       [False,  True, False],\n",
       "       [False, False,  True]], dtype=bool)"
      ]
     },
     "execution_count": 27,
     "metadata": {},
     "output_type": "execute_result"
    }
   ],
   "source": [
    "np.eye(d.shape[0],dtype=bool)"
   ]
  },
  {
   "cell_type": "code",
   "execution_count": 4,
   "metadata": {
    "collapsed": true
   },
   "outputs": [],
   "source": [
    "import nltk"
   ]
  },
  {
   "cell_type": "code",
   "execution_count": null,
   "metadata": {
    "collapsed": true
   },
   "outputs": [],
   "source": [
    "nl"
   ]
  }
 ],
 "metadata": {
  "kernelspec": {
   "display_name": "Python 3",
   "language": "python",
   "name": "python3"
  },
  "language_info": {
   "codemirror_mode": {
    "name": "ipython",
    "version": 3
   },
   "file_extension": ".py",
   "mimetype": "text/x-python",
   "name": "python",
   "nbconvert_exporter": "python",
   "pygments_lexer": "ipython3",
   "version": "3.5.1"
  }
 },
 "nbformat": 4,
 "nbformat_minor": 2
}
