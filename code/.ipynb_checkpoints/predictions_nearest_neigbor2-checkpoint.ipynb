{
 "cells": [
  {
   "cell_type": "markdown",
   "metadata": {},
   "source": [
    "**In this notebook, I would like to predicting power fails in 10 days periods.**\n",
    "===========================================\n",
    "1. Generate a dataset for this task\n",
    "2. Try out and evaluate models"
   ]
  },
  {
   "cell_type": "code",
   "execution_count": 2,
   "metadata": {
    "collapsed": true
   },
   "outputs": [],
   "source": [
    "#Import packages\n",
    "import pytz\n",
    "import pandas as pd\n",
    "import numpy as np\n",
    "from datetime import datetime, date, time, timedelta\n",
    "import re\n",
    "from IPython.display import Image\n",
    "import itertools\n",
    "import folium\n",
    "import pandas as pd\n",
    "import folium\n",
    "from IPython.display import display\n",
    "import geojson"
   ]
  },
  {
   "cell_type": "code",
   "execution_count": 4,
   "metadata": {
    "collapsed": true
   },
   "outputs": [],
   "source": [
    "#Set up Working Directory and Data Files\n",
    "drive = 'G'\n",
    "if drive == 'G':\n",
    "    data_dir = '../01.data/'\n",
    "    output_dir = '../05.outputs/'\n",
    "else:\n",
    "    data_dir = '..\\\\01.data\\\\'\n"
   ]
  },
  {
   "cell_type": "code",
   "execution_count": 183,
   "metadata": {
    "scrolled": true
   },
   "outputs": [],
   "source": [
    "#import box details\n",
    "bx = pd.read_csv(data_dir + 'Boxes.csv', usecols=['LONG','LAT','ClusterId','BoxID'])\n",
    "#rename some cols\n",
    "bx.rename (columns={'LONG': 'lon','LAT':'lat'},inplace=True)\n",
    "\n",
    "#Load data of hourly power events: data prpcessed by JP\n",
    "d1 = pd.read_csv(data_dir + 'powerout.csv')"
   ]
  },
  {
   "cell_type": "code",
   "execution_count": 195,
   "metadata": {},
   "outputs": [],
   "source": [
    "#change to datetime objects\n",
    "d = pd.read_csv(data_dir + 'powerout.csv')\n",
    "d['date_powerfailure2'] = d.apply(lambda x: datetime.strptime(x['date_powerfailure'], '%d%b%Y'), axis=1)"
   ]
  },
  {
   "cell_type": "code",
   "execution_count": 197,
   "metadata": {},
   "outputs": [],
   "source": [
    "#Change duration to hours\n",
    "d['duration_hrs'] = d['duration']/60"
   ]
  },
  {
   "cell_type": "code",
   "execution_count": 199,
   "metadata": {},
   "outputs": [
    {
     "data": {
      "text/plain": [
       "3.7730619309334781"
      ]
     },
     "execution_count": 199,
     "metadata": {},
     "output_type": "execute_result"
    }
   ],
   "source": [
    "d.duration_hrs.mean()"
   ]
  },
  {
   "cell_type": "code",
   "execution_count": 184,
   "metadata": {
    "collapsed": true
   },
   "outputs": [],
   "source": [
    "d2 = pd.read_csv(data_dir + 'powerout.csv',parse_dates=['date_powerfailure'])"
   ]
  },
  {
   "cell_type": "code",
   "execution_count": 176,
   "metadata": {
    "collapsed": true
   },
   "outputs": [],
   "source": [
    "#Kepp only required columns\n",
    "to_keep = ['BoxID', 'date_powerfailure', 'date_powerfailure_hour',\n",
    "       'date_powerback', 'date_powerback_hour','duration','POWERout']\n",
    "\n",
    "d = d[to_keep]\n",
    "\n",
    "#Change duration to hours\n",
    "d['duration_hrs'] = d.apply(lambda x: x['duration']/60,axis=1)\n",
    "\n",
    "#change to datetime objects\n",
    "d['date_powerfailure'] = d.apply(lambda x: pd.datetime.strptime(x['date_powerfailure'], '%d%b%Y'), axis=1)"
   ]
  },
  {
   "cell_type": "code",
   "execution_count": 12,
   "metadata": {},
   "outputs": [
    {
     "data": {
      "text/html": [
       "<div>\n",
       "<table border=\"1\" class=\"dataframe\">\n",
       "  <thead>\n",
       "    <tr style=\"text-align: right;\">\n",
       "      <th></th>\n",
       "      <th>BoxID</th>\n",
       "      <th>date_powerfailure</th>\n",
       "      <th>date_powerfailure_hour</th>\n",
       "      <th>date_powerback</th>\n",
       "      <th>date_powerback_hour</th>\n",
       "      <th>duration</th>\n",
       "      <th>POWERout</th>\n",
       "      <th>duration_hrs</th>\n",
       "    </tr>\n",
       "  </thead>\n",
       "  <tbody>\n",
       "    <tr>\n",
       "      <th>808</th>\n",
       "      <td>1001</td>\n",
       "      <td>2016-11-26</td>\n",
       "      <td>16.0</td>\n",
       "      <td>28nov2016</td>\n",
       "      <td>16.0</td>\n",
       "      <td>2876.699951</td>\n",
       "      <td>1.0</td>\n",
       "      <td>47.944999</td>\n",
       "    </tr>\n",
       "    <tr>\n",
       "      <th>879</th>\n",
       "      <td>1001</td>\n",
       "      <td>2016-11-29</td>\n",
       "      <td>15.0</td>\n",
       "      <td>29nov2016</td>\n",
       "      <td>15.0</td>\n",
       "      <td>2.833333</td>\n",
       "      <td>1.0</td>\n",
       "      <td>0.047222</td>\n",
       "    </tr>\n",
       "    <tr>\n",
       "      <th>927</th>\n",
       "      <td>1001</td>\n",
       "      <td>2016-12-02</td>\n",
       "      <td>15.0</td>\n",
       "      <td>02dec2016</td>\n",
       "      <td>15.0</td>\n",
       "      <td>25.183332</td>\n",
       "      <td>1.0</td>\n",
       "      <td>0.419722</td>\n",
       "    </tr>\n",
       "    <tr>\n",
       "      <th>928</th>\n",
       "      <td>1001</td>\n",
       "      <td>2016-12-02</td>\n",
       "      <td>16.0</td>\n",
       "      <td>02dec2016</td>\n",
       "      <td>16.0</td>\n",
       "      <td>28.166666</td>\n",
       "      <td>1.0</td>\n",
       "      <td>0.469444</td>\n",
       "    </tr>\n",
       "    <tr>\n",
       "      <th>935</th>\n",
       "      <td>1001</td>\n",
       "      <td>2016-12-02</td>\n",
       "      <td>23.0</td>\n",
       "      <td>03dec2016</td>\n",
       "      <td>10.0</td>\n",
       "      <td>656.049988</td>\n",
       "      <td>1.0</td>\n",
       "      <td>10.934166</td>\n",
       "    </tr>\n",
       "  </tbody>\n",
       "</table>\n",
       "</div>"
      ],
      "text/plain": [
       "     BoxID date_powerfailure  date_powerfailure_hour date_powerback  \\\n",
       "808   1001        2016-11-26                    16.0      28nov2016   \n",
       "879   1001        2016-11-29                    15.0      29nov2016   \n",
       "927   1001        2016-12-02                    15.0      02dec2016   \n",
       "928   1001        2016-12-02                    16.0      02dec2016   \n",
       "935   1001        2016-12-02                    23.0      03dec2016   \n",
       "\n",
       "     date_powerback_hour     duration  POWERout  duration_hrs  \n",
       "808                 16.0  2876.699951       1.0     47.944999  \n",
       "879                 15.0     2.833333       1.0      0.047222  \n",
       "927                 15.0    25.183332       1.0      0.419722  \n",
       "928                 16.0    28.166666       1.0      0.469444  \n",
       "935                 10.0   656.049988       1.0     10.934166  "
      ]
     },
     "execution_count": 12,
     "metadata": {},
     "output_type": "execute_result"
    }
   ],
   "source": [
    "d_out.h"
   ]
  },
  {
   "cell_type": "code",
   "execution_count": 76,
   "metadata": {},
   "outputs": [],
   "source": [
    "def compute_mean_duration (df, cut_off_date):\n",
    "    '''\n",
    "    The idea is to track number of hours when power is off not\n",
    "    later than some given cut off date by box.\n",
    "    @param:  df: the data file under consideration\n",
    "    @param:  cut_off_date: upper date limit for considerin events\n",
    "    @return: a pd.DataFrame object with two columns containing average duration of each box\n",
    "    '''\n",
    "    #select events earlier than cut off date\n",
    "    d_date = d[d <= date]\n",
    "    \n",
    "    #selec only powerout events\n",
    "    d_out = d[d.duration_hrs.notnull()]\n",
    "    \n",
    "    #Exclude all outages longer than 2 days ()\n",
    "    print ('Leaving out %s events whose power out duration is over 24 hrs!!!' %(len(d_out[d_out.duration_hrs>=24])))\n",
    "    d_out = d_out[d_out.duration_hrs < 24]\n",
    "    #Group by box id and compute mean\n",
    "    by_box = d_out.groupby(['BoxID'])['duration_hrs'].mean()\n",
    "    \n",
    "    return by_box.reset_index()"
   ]
  },
  {
   "cell_type": "code",
   "execution_count": 177,
   "metadata": {},
   "outputs": [
    {
     "data": {
      "text/html": [
       "<div>\n",
       "<table border=\"1\" class=\"dataframe\">\n",
       "  <thead>\n",
       "    <tr style=\"text-align: right;\">\n",
       "      <th></th>\n",
       "      <th>BoxID</th>\n",
       "      <th>date_powerfailure</th>\n",
       "      <th>date_powerfailure_hour</th>\n",
       "      <th>date_powerback</th>\n",
       "      <th>date_powerback_hour</th>\n",
       "      <th>duration</th>\n",
       "      <th>POWERout</th>\n",
       "      <th>duration_hrs</th>\n",
       "    </tr>\n",
       "  </thead>\n",
       "  <tbody>\n",
       "    <tr>\n",
       "      <th>0</th>\n",
       "      <td>1001</td>\n",
       "      <td>2016-10-22</td>\n",
       "      <td>0.0</td>\n",
       "      <td>NaN</td>\n",
       "      <td>NaN</td>\n",
       "      <td>NaN</td>\n",
       "      <td>0.0</td>\n",
       "      <td>NaN</td>\n",
       "    </tr>\n",
       "    <tr>\n",
       "      <th>1</th>\n",
       "      <td>1001</td>\n",
       "      <td>2016-10-22</td>\n",
       "      <td>1.0</td>\n",
       "      <td>NaN</td>\n",
       "      <td>NaN</td>\n",
       "      <td>NaN</td>\n",
       "      <td>0.0</td>\n",
       "      <td>NaN</td>\n",
       "    </tr>\n",
       "    <tr>\n",
       "      <th>2</th>\n",
       "      <td>1001</td>\n",
       "      <td>2016-10-22</td>\n",
       "      <td>2.0</td>\n",
       "      <td>NaN</td>\n",
       "      <td>NaN</td>\n",
       "      <td>NaN</td>\n",
       "      <td>0.0</td>\n",
       "      <td>NaN</td>\n",
       "    </tr>\n",
       "    <tr>\n",
       "      <th>3</th>\n",
       "      <td>1001</td>\n",
       "      <td>2016-10-22</td>\n",
       "      <td>3.0</td>\n",
       "      <td>NaN</td>\n",
       "      <td>NaN</td>\n",
       "      <td>NaN</td>\n",
       "      <td>0.0</td>\n",
       "      <td>NaN</td>\n",
       "    </tr>\n",
       "    <tr>\n",
       "      <th>4</th>\n",
       "      <td>1001</td>\n",
       "      <td>2016-10-22</td>\n",
       "      <td>4.0</td>\n",
       "      <td>NaN</td>\n",
       "      <td>NaN</td>\n",
       "      <td>NaN</td>\n",
       "      <td>0.0</td>\n",
       "      <td>NaN</td>\n",
       "    </tr>\n",
       "  </tbody>\n",
       "</table>\n",
       "</div>"
      ],
      "text/plain": [
       "   BoxID date_powerfailure  date_powerfailure_hour date_powerback  \\\n",
       "0   1001        2016-10-22                     0.0            NaN   \n",
       "1   1001        2016-10-22                     1.0            NaN   \n",
       "2   1001        2016-10-22                     2.0            NaN   \n",
       "3   1001        2016-10-22                     3.0            NaN   \n",
       "4   1001        2016-10-22                     4.0            NaN   \n",
       "\n",
       "   date_powerback_hour  duration  POWERout  duration_hrs  \n",
       "0                  NaN       NaN       0.0           NaN  \n",
       "1                  NaN       NaN       0.0           NaN  \n",
       "2                  NaN       NaN       0.0           NaN  \n",
       "3                  NaN       NaN       0.0           NaN  \n",
       "4                  NaN       NaN       0.0           NaN  "
      ]
     },
     "execution_count": 177,
     "metadata": {},
     "output_type": "execute_result"
    }
   ],
   "source": [
    "d.head()"
   ]
  },
  {
   "cell_type": "code",
   "execution_count": 178,
   "metadata": {},
   "outputs": [
    {
     "name": "stdout",
     "output_type": "stream",
     "text": [
      "Leaving out 397 events whose power out duration is over 24 hrs\n"
     ]
    }
   ],
   "source": [
    "d2 = compute_mean_duration (d, '2016-10-30')"
   ]
  },
  {
   "cell_type": "code",
   "execution_count": 180,
   "metadata": {},
   "outputs": [
    {
     "data": {
      "text/html": [
       "<div>\n",
       "<table border=\"1\" class=\"dataframe\">\n",
       "  <thead>\n",
       "    <tr style=\"text-align: right;\">\n",
       "      <th></th>\n",
       "      <th>BoxID</th>\n",
       "      <th>duration_hrs</th>\n",
       "    </tr>\n",
       "  </thead>\n",
       "  <tbody>\n",
       "    <tr>\n",
       "      <th>0</th>\n",
       "      <td>1001</td>\n",
       "      <td>2.958106</td>\n",
       "    </tr>\n",
       "    <tr>\n",
       "      <th>1</th>\n",
       "      <td>1002</td>\n",
       "      <td>0.890012</td>\n",
       "    </tr>\n",
       "    <tr>\n",
       "      <th>2</th>\n",
       "      <td>1003</td>\n",
       "      <td>2.591902</td>\n",
       "    </tr>\n",
       "    <tr>\n",
       "      <th>3</th>\n",
       "      <td>1004</td>\n",
       "      <td>0.839474</td>\n",
       "    </tr>\n",
       "    <tr>\n",
       "      <th>4</th>\n",
       "      <td>1005</td>\n",
       "      <td>1.275770</td>\n",
       "    </tr>\n",
       "  </tbody>\n",
       "</table>\n",
       "</div>"
      ],
      "text/plain": [
       "   BoxID  duration_hrs\n",
       "0   1001      2.958106\n",
       "1   1002      0.890012\n",
       "2   1003      2.591902\n",
       "3   1004      0.839474\n",
       "4   1005      1.275770"
      ]
     },
     "execution_count": 180,
     "metadata": {},
     "output_type": "execute_result"
    }
   ],
   "source": [
    "d2.head()"
   ]
  },
  {
   "cell_type": "code",
   "execution_count": 66,
   "metadata": {},
   "outputs": [
    {
     "name": "stdout",
     "output_type": "stream",
     "text": [
      "Leaving out 397 \n"
     ]
    }
   ],
   "source": [
    "#select events earlier than cut off date\n",
    "date = pd.Timestamp('2016-10-30')\n",
    "\n",
    "d_date = d[d.date_powerfailure <= date]\n",
    "    \n",
    "    #selec only powerout events\n",
    "d_out = d[d.duration_hrs.notnull()]\n",
    "    \n",
    "#Exclude all outages longer than 2 days ()\n",
    "    \n",
    "print ('Leaving out %s ' %(len(d_out[d_out.duration_hrs>=24])))\n",
    "    \n",
    "#Group by box id and compute mean\n",
    "    \n",
    "by_box = d_out.groupby(['BoxID'])['duration_hrs'].mean()\n",
    "\n",
    "return by_box.reset_index()"
   ]
  },
  {
   "cell_type": "markdown",
   "metadata": {},
   "source": [
    "**Predict whether there was a power failure in the past 1 day**\n",
    "================================================================"
   ]
  },
  {
   "cell_type": "code",
   "execution_count": 5,
   "metadata": {
    "collapsed": true
   },
   "outputs": [],
   "source": [
    "#Collapse data to daily level\n",
    "#For all the hours of the day, I simply take the maximum POWERout val\n",
    "d_dy = pd.DataFrame(d.groupby(['BoxID','date_powerfailure'])['POWERout'].max())\n",
    "d_dy.reset_index(inplace=True)\n",
    "d_dy.rename(columns={'POWERout': 'pwrout_1dy'},inplace=True)"
   ]
  },
  {
   "cell_type": "code",
   "execution_count": 17,
   "metadata": {},
   "outputs": [
    {
     "data": {
      "text/html": [
       "<div>\n",
       "<table border=\"1\" class=\"dataframe\">\n",
       "  <thead>\n",
       "    <tr style=\"text-align: right;\">\n",
       "      <th></th>\n",
       "      <th>BoxID</th>\n",
       "      <th>date_powerfailure</th>\n",
       "      <th>pwrout_1dy</th>\n",
       "    </tr>\n",
       "  </thead>\n",
       "  <tbody>\n",
       "    <tr>\n",
       "      <th>0</th>\n",
       "      <td>1001</td>\n",
       "      <td>2016-10-22</td>\n",
       "      <td>0.0</td>\n",
       "    </tr>\n",
       "    <tr>\n",
       "      <th>1</th>\n",
       "      <td>1001</td>\n",
       "      <td>2016-10-25</td>\n",
       "      <td>0.0</td>\n",
       "    </tr>\n",
       "    <tr>\n",
       "      <th>2</th>\n",
       "      <td>1001</td>\n",
       "      <td>2016-10-26</td>\n",
       "      <td>0.0</td>\n",
       "    </tr>\n",
       "    <tr>\n",
       "      <th>3</th>\n",
       "      <td>1001</td>\n",
       "      <td>2016-10-27</td>\n",
       "      <td>0.0</td>\n",
       "    </tr>\n",
       "    <tr>\n",
       "      <th>4</th>\n",
       "      <td>1001</td>\n",
       "      <td>2016-10-28</td>\n",
       "      <td>0.0</td>\n",
       "    </tr>\n",
       "  </tbody>\n",
       "</table>\n",
       "</div>"
      ],
      "text/plain": [
       "   BoxID date_powerfailure  pwrout_1dy\n",
       "0   1001        2016-10-22         0.0\n",
       "1   1001        2016-10-25         0.0\n",
       "2   1001        2016-10-26         0.0\n",
       "3   1001        2016-10-27         0.0\n",
       "4   1001        2016-10-28         0.0"
      ]
     },
     "execution_count": 17,
     "metadata": {},
     "output_type": "execute_result"
    }
   ],
   "source": [
    "d_dy.head()"
   ]
  },
  {
   "cell_type": "code",
   "execution_count": 6,
   "metadata": {
    "collapsed": true
   },
   "outputs": [],
   "source": [
    "def generate_train_data (d_raw,date,num_days,target):\n",
    "    \"\"\"\n",
    "    This function returns a training dataset for prediction.\n",
    "\n",
    "    @param d_raw: reasonably preprocessed data\n",
    "    @param date: date threshold (when to stop) e.g., 2016/10/20\n",
    "    @param num_days: Number of days to consider\n",
    "    @return: Returns a dataset where each row represents a time interval(num_days) with corresponding\n",
    "    @raise keyError: raises an exception\n",
    "    \"\"\"\n",
    "    \n",
    "    #create a list of num_days time intervals covering 2016 october-1 up date\n",
    "    start = d_raw.date_powerfailure.min().date()\n",
    "    end = datetime.strptime(date,'%Y/%m/%d').date()\n",
    "    delta = timedelta(days=num_days)\n",
    "    date_list = []\n",
    "\n",
    "    while start <= end:\n",
    "        tup = (start,start+delta)\n",
    "        date_list.append (tup)\n",
    "\n",
    "        start +=  timedelta(days=num_days+ 1)\n",
    "        \n",
    "    #Use cartesian product to create a dataframe of the dates created above\n",
    "    #and boxID's\n",
    "    date_boxid = pd.DataFrame(list(itertools.product(date_list,list(d_raw.BoxID.unique()))),columns=['dates','BoxID'])\n",
    "    \n",
    "    result =[]\n",
    "    d_10dy = pd.DataFrame\n",
    "    for date in list(date_list):\n",
    "        #Select events in this range\n",
    "        mask = (d_raw['date_powerfailure'] >= date[0]) & (d_raw['date_powerfailure'] <= date[1])\n",
    "        d_raw_within = d_raw.loc[mask]\n",
    "        \n",
    "        #Summarise powerouts to num_days level\n",
    "        d_raw_by_box = pd.DataFrame(d_raw_within.groupby(['BoxID'])[target].max())\n",
    "        d_raw_by_box.reset_index(inplace=True)\n",
    "        \n",
    "        new_powerout_col = 'pwrout_' + str(num_days) + 'dy'\n",
    "        d_raw_by_box.rename(columns={target: new_powerout_col},inplace=True)\n",
    "        d_raw_by_box['dates'] = [date for i in range(d_raw_by_box.shape[0])]\n",
    "        \n",
    "        #create a df of summarised power failure events\n",
    "        if len (result) == 0:\n",
    "            d_10dy = d_raw_by_box\n",
    "        else:\n",
    "            d_10dy = d_10dy.append (d_raw_by_box)\n",
    "        \n",
    "        result.append (d_raw_by_box)\n",
    "            \n",
    "    #print (date_boxid.head())\n",
    "    d2 = pd.merge (left = bx, right=d_10dy,on='BoxID', how='right')\n",
    "    \n",
    "    #Rearrange columns\n",
    "    d2 = d2 [['dates','ClusterId','BoxID','LONG','LAT','pwrout_10dy']]\n",
    "    \n",
    "    #rename soem cols\n",
    "    d2.rename (columns={'LONG': 'lon','LAT':'lat'},inplace=True)\n",
    "    return d2"
   ]
  },
  {
   "cell_type": "code",
   "execution_count": 82,
   "metadata": {
    "collapsed": true
   },
   "outputs": [],
   "source": [
    "from math import sin, cos, sqrt, atan2, radians\n",
    "def calculate_distance (pt1,pt2):\n",
    "    \"\"\"\n",
    "    Computes distance between two geographic coordinates\n",
    "    :param pt1: [Lat,Lon] for first point\n",
    "    :param pt2: [Lat,Lon] for second\n",
    "    :returns distance in km between the two points\n",
    "    \"\"\"\n",
    "    # Radius of the earth in km (Hayford-Ellipsoid)\n",
    "    EARTH_RADIUS = 6378388/1000\n",
    "    \n",
    "    d_lat = radians (pt1[0] - pt2[0])\n",
    "    d_lon = radians (pt1[1] - pt2[1])\n",
    "    \n",
    "    lat1 = radians(pt1[0])\n",
    "    lat2 = radians(pt2[0])\n",
    "    \n",
    "    a = sin(d_lat/2) * sin(d_lat/2) + \\\n",
    "        sin(d_lon/2) * sin(d_lon/2) * cos(lat1) * cos(lat2)\n",
    "        \n",
    "    c = 2 * atan2(sqrt(a), sqrt(1-a))\n",
    "\n",
    "    return c * EARTH_RADIUS"
   ]
  },
  {
   "cell_type": "code",
   "execution_count": 8,
   "metadata": {
    "collapsed": true
   },
   "outputs": [],
   "source": [
    "def predict_with_nearest_neighbor (poi,points,target):\n",
    "    \"\"\"\n",
    "    Computes distance between a point of interest and the rest of the points\n",
    "    :param pt1: [Lat,Lon] for first point\n",
    "    :param pt2: [Lat,Lon] for second\n",
    "    :returns a dict object with BoxID and distances\n",
    "    \"\"\"\n",
    "    #dict object to \n",
    "    distances = {}\n",
    "    min = 500000.000\n",
    "    min_bx = ''\n",
    "    predicted_pwrstate = ''\n",
    "    \n",
    "    for bx in list(points.BoxID.unique()):\n",
    "        d_bx = points[points.BoxID == bx]\n",
    "        dist = calculate_distance (poi,[d_bx.lat,d_bx.lon])\n",
    "        \n",
    "        if dist < min:\n",
    "            min = dist\n",
    "            predicted_pwrstate = d_bx[target].values[0]\n",
    "            min_bx = bx\n",
    "    \n",
    "    #print (predicted_pwrstate)\n",
    "    return [min_bx, predicted_pwrstate, min]"
   ]
  },
  {
   "cell_type": "code",
   "execution_count": 181,
   "metadata": {
    "collapsed": true
   },
   "outputs": [],
   "source": [
    "#Inorder to get location of boxes, I merge the d_dy dataframe with boxes details\n",
    "d3 = pd.merge (left = d2, right=bx, on='BoxID', how='left')"
   ]
  },
  {
   "cell_type": "code",
   "execution_count": 182,
   "metadata": {},
   "outputs": [
    {
     "data": {
      "text/html": [
       "<div>\n",
       "<table border=\"1\" class=\"dataframe\">\n",
       "  <thead>\n",
       "    <tr style=\"text-align: right;\">\n",
       "      <th></th>\n",
       "      <th>BoxID</th>\n",
       "      <th>duration_hrs</th>\n",
       "      <th>ClusterId</th>\n",
       "      <th>lon</th>\n",
       "      <th>lat</th>\n",
       "    </tr>\n",
       "  </thead>\n",
       "  <tbody>\n",
       "    <tr>\n",
       "      <th>0</th>\n",
       "      <td>1001</td>\n",
       "      <td>2.958106</td>\n",
       "      <td>10</td>\n",
       "      <td>68.763315</td>\n",
       "      <td>38.517016</td>\n",
       "    </tr>\n",
       "    <tr>\n",
       "      <th>1</th>\n",
       "      <td>1002</td>\n",
       "      <td>0.890012</td>\n",
       "      <td>12</td>\n",
       "      <td>68.845202</td>\n",
       "      <td>38.562540</td>\n",
       "    </tr>\n",
       "    <tr>\n",
       "      <th>2</th>\n",
       "      <td>1003</td>\n",
       "      <td>2.591902</td>\n",
       "      <td>41</td>\n",
       "      <td>69.600202</td>\n",
       "      <td>38.694671</td>\n",
       "    </tr>\n",
       "    <tr>\n",
       "      <th>3</th>\n",
       "      <td>1004</td>\n",
       "      <td>0.839474</td>\n",
       "      <td>122</td>\n",
       "      <td>70.314881</td>\n",
       "      <td>40.672851</td>\n",
       "    </tr>\n",
       "    <tr>\n",
       "      <th>4</th>\n",
       "      <td>1005</td>\n",
       "      <td>1.275770</td>\n",
       "      <td>94</td>\n",
       "      <td>69.385761</td>\n",
       "      <td>37.529461</td>\n",
       "    </tr>\n",
       "  </tbody>\n",
       "</table>\n",
       "</div>"
      ],
      "text/plain": [
       "   BoxID  duration_hrs  ClusterId        lon        lat\n",
       "0   1001      2.958106         10  68.763315  38.517016\n",
       "1   1002      0.890012         12  68.845202  38.562540\n",
       "2   1003      2.591902         41  69.600202  38.694671\n",
       "3   1004      0.839474        122  70.314881  40.672851\n",
       "4   1005      1.275770         94  69.385761  37.529461"
      ]
     },
     "execution_count": 182,
     "metadata": {},
     "output_type": "execute_result"
    }
   ],
   "source": [
    "d3.head()"
   ]
  },
  {
   "cell_type": "code",
   "execution_count": 173,
   "metadata": {},
   "outputs": [],
   "source": [
    "def predict_with_nearest_neighbor2(df, target, num_neighbors, how):\n",
    "    \"\"\"\n",
    "    Given a dataframe with lat/lon and average duration of power failure for that location\n",
    "    this function finds the nearest point to the target point and return the avg power duration\n",
    "    from the nearest point.\n",
    "    :param df: pd.DataFrame with cols: BoxID, lat/lon, avg power failure duration (hours) \n",
    "    :param target: [lat,lon]-The unsampled location where the avg power failure duration needs to be estimated\n",
    "    :param num_neighbors: NUmber of neighbors to use for the nearest neigbor\n",
    "    :param how: The approach to use. If num_neighbors == 1, just return value of nearest point..otherwise, it can\n",
    "    be 'mean', 'mode' or 'median'.\n",
    "    :returns the avg power failure duration and posssibly the BoxID\n",
    "    \"\"\"\n",
    "    #Just incase, remove all duplicate lat/lon pairs\n",
    "    df = df.drop_duplicates (['lon','lat'])\n",
    "    \n",
    "    df ['dist'] = df.apply(lambda row: calculate_distance([row['lat'],row['lon']],target),axis=1)\n",
    "    \n",
    "    #In the simplest case, assign to this new location valaue based on a single nearest neighbor\n",
    "    if num_neighbors==1:\n",
    "        min_dist = df.dist.min()\n",
    "        predicted = df[df.dist==min_dist].duration_hrs.values[0]\n",
    "        return predicted\n",
    "    else: #cases with more than one neighbor\n",
    "        #Select only the 'num_neaighbors' nearest neighbors\n",
    "        df = df.sort_values (by = ['dist'], ascending=True)[:num_neighbors]\n",
    "        if how=='wmean':\n",
    "            #Add weight based on distance\n",
    "            df['dist_wght'] = 1/df['dist']\n",
    "            \n",
    "            #compute simple weighted mean\n",
    "            wmean = (df['duration_hrs'] * df['dist_wght']).sum() /df.dist_wght.sum()\n",
    "            \n",
    "            return wmean\n",
    "        elif how == 'mean':\n",
    "            return df['duration_hrs'].mean (axis=0)\n",
    "        elif how == 'median':\n",
    "            return df['duration_hrs'].median (axis=0)\n"
   ]
  },
  {
   "cell_type": "code",
   "execution_count": 162,
   "metadata": {},
   "outputs": [
    {
     "data": {
      "text/plain": [
       "2.5919020426011929"
      ]
     },
     "execution_count": 162,
     "metadata": {},
     "output_type": "execute_result"
    }
   ],
   "source": [
    "pred_nearest = predict_with_nearest_neighbor2(d3,[38.694671,69.600202],1,'mean')\n",
    "pred_nearest"
   ]
  },
  {
   "cell_type": "code",
   "execution_count": 170,
   "metadata": {
    "scrolled": true
   },
   "outputs": [
    {
     "name": "stdout",
     "output_type": "stream",
     "text": [
      "     BoxID  duration_hrs  ClusterId        lon        lat   distances  \\\n",
      "2     1003      2.591902         41  69.600202  38.694671   75.442884   \n",
      "133   1148      3.934954         42  69.881006  38.805994  102.344461   \n",
      "19    1021      3.228125         39  69.313598  38.526070   47.938515   \n",
      "73    1085      6.633009         40  69.230206  38.530390   40.690747   \n",
      "186   1210      2.156907         43  69.910987  38.940772  110.269031   \n",
      "\n",
      "          dist  \n",
      "2     0.000041  \n",
      "133  27.348302  \n",
      "19   31.206777  \n",
      "73   37.017812  \n",
      "186  38.434994  \n"
     ]
    },
    {
     "data": {
      "text/plain": [
       "3.7089793184602384"
      ]
     },
     "execution_count": 170,
     "metadata": {},
     "output_type": "execute_result"
    }
   ],
   "source": [
    "pred_5_mean = predict_with_nearest_neighbor2(d3,[38.694671,69.600202],5,'mean')\n",
    "pred_5_mean"
   ]
  },
  {
   "cell_type": "code",
   "execution_count": 172,
   "metadata": {},
   "outputs": [
    {
     "name": "stdout",
     "output_type": "stream",
     "text": [
      "     BoxID  duration_hrs  ClusterId        lon        lat   distances  \\\n",
      "2     1003      2.591902         41  69.600202  38.694671   75.442884   \n",
      "133   1148      3.934954         42  69.881006  38.805994  102.344461   \n",
      "19    1021      3.228125         39  69.313598  38.526070   47.938515   \n",
      "73    1085      6.633009         40  69.230206  38.530390   40.690747   \n",
      "186   1210      2.156907         43  69.910987  38.940772  110.269031   \n",
      "\n",
      "          dist  \n",
      "2     0.000041  \n",
      "133  27.348302  \n",
      "19   31.206777  \n",
      "73   37.017812  \n",
      "186  38.434994  \n"
     ]
    },
    {
     "data": {
      "text/plain": [
       "2.591908937277184"
      ]
     },
     "execution_count": 172,
     "metadata": {},
     "output_type": "execute_result"
    }
   ],
   "source": [
    "pred_5_wmean = predict_with_nearest_neighbor2(d3,[38.694671,69.600202],5,'wmean')\n",
    "pred_5_wmean"
   ]
  },
  {
   "cell_type": "code",
   "execution_count": 110,
   "metadata": {},
   "outputs": [
    {
     "data": {
      "text/html": [
       "<div>\n",
       "<table border=\"1\" class=\"dataframe\">\n",
       "  <thead>\n",
       "    <tr style=\"text-align: right;\">\n",
       "      <th></th>\n",
       "      <th>BoxID</th>\n",
       "      <th>duration_hrs</th>\n",
       "      <th>ClusterId</th>\n",
       "      <th>lon</th>\n",
       "      <th>lat</th>\n",
       "      <th>distances</th>\n",
       "      <th>dist</th>\n",
       "    </tr>\n",
       "  </thead>\n",
       "  <tbody>\n",
       "    <tr>\n",
       "      <th>0</th>\n",
       "      <td>1001</td>\n",
       "      <td>2.958106</td>\n",
       "      <td>10</td>\n",
       "      <td>68.763315</td>\n",
       "      <td>38.517016</td>\n",
       "      <td>0.000029</td>\n",
       "      <td>0.000029</td>\n",
       "    </tr>\n",
       "    <tr>\n",
       "      <th>36</th>\n",
       "      <td>1042</td>\n",
       "      <td>0.942250</td>\n",
       "      <td>10</td>\n",
       "      <td>68.763315</td>\n",
       "      <td>38.517016</td>\n",
       "      <td>0.000029</td>\n",
       "      <td>0.000029</td>\n",
       "    </tr>\n",
       "    <tr>\n",
       "      <th>169</th>\n",
       "      <td>1192</td>\n",
       "      <td>0.876840</td>\n",
       "      <td>10</td>\n",
       "      <td>68.763315</td>\n",
       "      <td>38.517016</td>\n",
       "      <td>0.000029</td>\n",
       "      <td>0.000029</td>\n",
       "    </tr>\n",
       "    <tr>\n",
       "      <th>266</th>\n",
       "      <td>1299</td>\n",
       "      <td>1.381085</td>\n",
       "      <td>10</td>\n",
       "      <td>68.763315</td>\n",
       "      <td>38.517016</td>\n",
       "      <td>0.000029</td>\n",
       "      <td>0.000029</td>\n",
       "    </tr>\n",
       "  </tbody>\n",
       "</table>\n",
       "</div>"
      ],
      "text/plain": [
       "     BoxID  duration_hrs  ClusterId        lon        lat  distances      dist\n",
       "0     1001      2.958106         10  68.763315  38.517016   0.000029  0.000029\n",
       "36    1042      0.942250         10  68.763315  38.517016   0.000029  0.000029\n",
       "169   1192      0.876840         10  68.763315  38.517016   0.000029  0.000029\n",
       "266   1299      1.381085         10  68.763315  38.517016   0.000029  0.000029"
      ]
     },
     "execution_count": 110,
     "metadata": {},
     "output_type": "execute_result"
    }
   ],
   "source": [
    "d3[d3.dist==min_dist]"
   ]
  },
  {
   "cell_type": "code",
   "execution_count": null,
   "metadata": {
    "collapsed": true
   },
   "outputs": [],
   "source": [
    "def simple_mean (df, idw):\n",
    "    #add weighted duration-weights is 1/distance\n",
    "    df['dist_wght'] = 1/df['dist']\n",
    "    \n",
    "    #compute mean based on weighted duration\n",
    "    mean = df.['duration_hrs_wgted'].mean()\n",
    "    \n",
    "    if idw:\n",
    "        wmean = (df['duration_hrs'] * df['dist_wght']).sum() /df.dist_wght.sum()\n",
    "        \n",
    "        return wmean"
   ]
  },
  {
   "cell_type": "code",
   "execution_count": 144,
   "metadata": {
    "collapsed": true
   },
   "outputs": [],
   "source": [
    "df['duration_hrs_wgted'] = df.apply (lambda x: 1/x['dist'] * x['duration_hrs'],axis=1)"
   ]
  },
  {
   "cell_type": "code",
   "execution_count": 152,
   "metadata": {},
   "outputs": [
    {
     "data": {
      "text/plain": [
       "452.61447190486371"
      ]
     },
     "execution_count": 152,
     "metadata": {},
     "output_type": "execute_result"
    }
   ],
   "source": [
    "df.duration_hrs_wgted.mean(axis = 0)"
   ]
  },
  {
   "cell_type": "code",
   "execution_count": 154,
   "metadata": {},
   "outputs": [
    {
     "data": {
      "text/plain": [
       "2.5919120370124613"
      ]
     },
     "execution_count": 154,
     "metadata": {},
     "output_type": "execute_result"
    }
   ],
   "source": [
    "df['dist_wght'] = 1/df['dist']\n",
    "\n",
    "(df['duration_hrs'] * df['dist_wght']).sum() /df.dist_wght.sum()"
   ]
  },
  {
   "cell_type": "code",
   "execution_count": 156,
   "metadata": {},
   "outputs": [
    {
     "data": {
      "text/plain": [
       "2.8184598818548512"
      ]
     },
     "execution_count": 156,
     "metadata": {},
     "output_type": "execute_result"
    }
   ],
   "source": [
    "df.duration_hrs.mean(axis = 0)"
   ]
  },
  {
   "cell_type": "markdown",
   "metadata": {},
   "source": [
    "**Finally lets see perfomance on separate locations....**\n",
    "============================================================\n",
    "Note that this evaluation is being done on sampled locations...just leaving them out"
   ]
  },
  {
   "cell_type": "code",
   "execution_count": 10,
   "metadata": {
    "collapsed": true
   },
   "outputs": [],
   "source": [
    "#Inorder to get location of boxes, I merge the d_dy dataframe with boxes details\n",
    "d2 = pd.merge (left = d_dy, right=bx, on='BoxID', how='left')"
   ]
  },
  {
   "cell_type": "code",
   "execution_count": 19,
   "metadata": {
    "collapsed": true
   },
   "outputs": [],
   "source": [
    "#Export this data for quick demo\n",
    "d2.to_csv('../01.data/powerouts_1dy.csv',index=False)"
   ]
  },
  {
   "cell_type": "code",
   "execution_count": null,
   "metadata": {
    "collapsed": true
   },
   "outputs": [],
   "source": [
    "#A batch Evaluation\n",
    "evaluate_nearest_neighbor_predictor(d2, 50, 50)"
   ]
  },
  {
   "cell_type": "code",
   "execution_count": 14,
   "metadata": {
    "collapsed": true
   },
   "outputs": [],
   "source": [
    "folium?"
   ]
  },
  {
   "cell_type": "markdown",
   "metadata": {
    "collapsed": true
   },
   "source": [
    "**Make predictions on random locaitons on a map**\n",
    "==================================================="
   ]
  },
  {
   "cell_type": "code",
   "execution_count": 30,
   "metadata": {
    "collapsed": true
   },
   "outputs": [],
   "source": [
    "def data2geojson2(df):\n",
    "    features = []\n",
    "    df.apply(lambda X: features.append( \n",
    "            geojson.Feature(geometry=geojson.Point((X[\"lon\"], \n",
    "                                                    X[\"lat\"])), \n",
    "                properties=dict(name=X[\"BoxID\"], \n",
    "                                description=X[\"ClusterId\"]))\n",
    "                                    )\n",
    "            , axis=1)\n",
    "    \n",
    "    return geojson.dumps(geojson.FeatureCollection(features), sort_keys=True)   "
   ]
  },
  {
   "cell_type": "code",
   "execution_count": 33,
   "metadata": {
    "collapsed": true
   },
   "outputs": [],
   "source": [
    "coords = d2 [['lon','lat', 'ClusterId', 'BoxID']]\n",
    "coords = coords.sort_values(by  = ['lon','lat'] )\n",
    "coords['xy'] = coords.apply(lambda x: (x['lon'], x['lat']),axis=1)\n",
    "xy = coords.xy.unique()"
   ]
  },
  {
   "cell_type": "code",
   "execution_count": 34,
   "metadata": {},
   "outputs": [
    {
     "data": {
      "text/html": [
       "<div>\n",
       "<table border=\"1\" class=\"dataframe\">\n",
       "  <thead>\n",
       "    <tr style=\"text-align: right;\">\n",
       "      <th></th>\n",
       "      <th>lon</th>\n",
       "      <th>lat</th>\n",
       "      <th>ClusterId</th>\n",
       "      <th>BoxID</th>\n",
       "      <th>xy</th>\n",
       "    </tr>\n",
       "  </thead>\n",
       "  <tbody>\n",
       "    <tr>\n",
       "      <th>24596</th>\n",
       "      <td>38.533566</td>\n",
       "      <td>68.862146</td>\n",
       "      <td>21</td>\n",
       "      <td>1183</td>\n",
       "      <td>(38.53356644, 68.86214562)</td>\n",
       "    </tr>\n",
       "    <tr>\n",
       "      <th>24597</th>\n",
       "      <td>38.533566</td>\n",
       "      <td>68.862146</td>\n",
       "      <td>21</td>\n",
       "      <td>1183</td>\n",
       "      <td>(38.53356644, 68.86214562)</td>\n",
       "    </tr>\n",
       "    <tr>\n",
       "      <th>24598</th>\n",
       "      <td>38.533566</td>\n",
       "      <td>68.862146</td>\n",
       "      <td>21</td>\n",
       "      <td>1183</td>\n",
       "      <td>(38.53356644, 68.86214562)</td>\n",
       "    </tr>\n",
       "    <tr>\n",
       "      <th>24599</th>\n",
       "      <td>38.533566</td>\n",
       "      <td>68.862146</td>\n",
       "      <td>21</td>\n",
       "      <td>1183</td>\n",
       "      <td>(38.53356644, 68.86214562)</td>\n",
       "    </tr>\n",
       "    <tr>\n",
       "      <th>24600</th>\n",
       "      <td>38.533566</td>\n",
       "      <td>68.862146</td>\n",
       "      <td>21</td>\n",
       "      <td>1183</td>\n",
       "      <td>(38.53356644, 68.86214562)</td>\n",
       "    </tr>\n",
       "  </tbody>\n",
       "</table>\n",
       "</div>"
      ],
      "text/plain": [
       "             lon        lat  ClusterId  BoxID                          xy\n",
       "24596  38.533566  68.862146         21   1183  (38.53356644, 68.86214562)\n",
       "24597  38.533566  68.862146         21   1183  (38.53356644, 68.86214562)\n",
       "24598  38.533566  68.862146         21   1183  (38.53356644, 68.86214562)\n",
       "24599  38.533566  68.862146         21   1183  (38.53356644, 68.86214562)\n",
       "24600  38.533566  68.862146         21   1183  (38.53356644, 68.86214562)"
      ]
     },
     "execution_count": 34,
     "metadata": {},
     "output_type": "execute_result"
    }
   ],
   "source": [
    "coords.head()"
   ]
  },
  {
   "cell_type": "code",
   "execution_count": 42,
   "metadata": {
    "collapsed": true
   },
   "outputs": [],
   "source": [
    "j = coords.to_json()"
   ]
  },
  {
   "cell_type": "code",
   "execution_count": 43,
   "metadata": {},
   "outputs": [
    {
     "ename": "AttributeError",
     "evalue": "'str' object has no attribute 'lon'",
     "output_type": "error",
     "traceback": [
      "\u001b[0;31m---------------------------------------------------------------------------\u001b[0m",
      "\u001b[0;31mAttributeError\u001b[0m                            Traceback (most recent call last)",
      "\u001b[0;32m<ipython-input-43-b4d9762d93fe>\u001b[0m in \u001b[0;36m<module>\u001b[0;34m()\u001b[0m\n\u001b[0;32m----> 1\u001b[0;31m \u001b[0mj\u001b[0m\u001b[0;34m.\u001b[0m\u001b[0mlon\u001b[0m\u001b[0;34m\u001b[0m\u001b[0m\n\u001b[0m",
      "\u001b[0;31mAttributeError\u001b[0m: 'str' object has no attribute 'lon'"
     ]
    }
   ],
   "source": [
    "j.lon"
   ]
  },
  {
   "cell_type": "code",
   "execution_count": 137,
   "metadata": {},
   "outputs": [
    {
     "name": "stdout",
     "output_type": "stream",
     "text": [
      "Predicted power state-0.0  from box at distance 145.9631965834707 km \n"
     ]
    }
   ],
   "source": [
    "print ('Predicted power state-%s  from box at distance %s km '%(predicted[1],predicted[2]))"
   ]
  },
  {
   "cell_type": "code",
   "execution_count": 138,
   "metadata": {
    "collapsed": true
   },
   "outputs": [],
   "source": [
    "boxid = predicted[0]\n",
    "\n",
    "box_loc = [d2[d2.BoxID==boxid].lon,d2[d2.BoxID==boxid].lat]"
   ]
  },
  {
   "cell_type": "code",
   "execution_count": 26,
   "metadata": {
    "collapsed": true
   },
   "outputs": [],
   "source": [
    "xy = pd.read_csv('../01.data/powerouts_1dy.csv')\n",
    "\t\n",
    "features = data2geojson2(xy)"
   ]
  },
  {
   "cell_type": "code",
   "execution_count": 32,
   "metadata": {
    "collapsed": true
   },
   "outputs": [],
   "source": [
    "def add_boxes_location():\n",
    "    \"\"\"Get location of the boxes and them to the map\"\"\"\n",
    "    features = []\n",
    "    df = pd.read_csv(data_path + 'powerouts_1dy.csv')\n",
    "    df.apply(lambda X: features.append( \n",
    "            geojson.Feature(geometry=geojson.Point((X[\"lon\"],X[\"lat\"])), \n",
    "            properties=dict(name=X[\"BoxID\"], description=X[\"ClusterId\"])))\n",
    "            , axis=1)\n",
    "    \n",
    "    return geojson.dumps(geojson.FeatureCollection(features), sort_keys=True)\n"
   ]
  },
  {
   "cell_type": "code",
   "execution_count": 174,
   "metadata": {},
   "outputs": [
    {
     "data": {
      "text/html": [
       "<div>\n",
       "<table border=\"1\" class=\"dataframe\">\n",
       "  <thead>\n",
       "    <tr style=\"text-align: right;\">\n",
       "      <th></th>\n",
       "      <th>BoxID</th>\n",
       "      <th>duration_hrs</th>\n",
       "      <th>ClusterId</th>\n",
       "      <th>lon</th>\n",
       "      <th>lat</th>\n",
       "      <th>distances</th>\n",
       "      <th>dist</th>\n",
       "      <th>duration_hrs_wgted</th>\n",
       "      <th>dist_wght</th>\n",
       "    </tr>\n",
       "  </thead>\n",
       "  <tbody>\n",
       "    <tr>\n",
       "      <th>0</th>\n",
       "      <td>1001</td>\n",
       "      <td>2.958106</td>\n",
       "      <td>10</td>\n",
       "      <td>68.763315</td>\n",
       "      <td>38.517016</td>\n",
       "      <td>0.000029</td>\n",
       "      <td>75.442892</td>\n",
       "      <td>0.039210</td>\n",
       "      <td>0.013255</td>\n",
       "    </tr>\n",
       "    <tr>\n",
       "      <th>1</th>\n",
       "      <td>1002</td>\n",
       "      <td>0.890012</td>\n",
       "      <td>12</td>\n",
       "      <td>68.845202</td>\n",
       "      <td>38.562540</td>\n",
       "      <td>8.747834</td>\n",
       "      <td>67.287465</td>\n",
       "      <td>0.013227</td>\n",
       "      <td>0.014862</td>\n",
       "    </tr>\n",
       "    <tr>\n",
       "      <th>2</th>\n",
       "      <td>1003</td>\n",
       "      <td>2.591902</td>\n",
       "      <td>41</td>\n",
       "      <td>69.600202</td>\n",
       "      <td>38.694671</td>\n",
       "      <td>75.442884</td>\n",
       "      <td>0.000041</td>\n",
       "      <td>62909.492437</td>\n",
       "      <td>24271.554790</td>\n",
       "    </tr>\n",
       "    <tr>\n",
       "      <th>3</th>\n",
       "      <td>1004</td>\n",
       "      <td>0.839474</td>\n",
       "      <td>122</td>\n",
       "      <td>70.314881</td>\n",
       "      <td>40.672851</td>\n",
       "      <td>274.419717</td>\n",
       "      <td>228.569473</td>\n",
       "      <td>0.003673</td>\n",
       "      <td>0.004375</td>\n",
       "    </tr>\n",
       "    <tr>\n",
       "      <th>4</th>\n",
       "      <td>1005</td>\n",
       "      <td>1.275770</td>\n",
       "      <td>94</td>\n",
       "      <td>69.385761</td>\n",
       "      <td>37.529461</td>\n",
       "      <td>122.743293</td>\n",
       "      <td>131.068379</td>\n",
       "      <td>0.009734</td>\n",
       "      <td>0.007630</td>\n",
       "    </tr>\n",
       "  </tbody>\n",
       "</table>\n",
       "</div>"
      ],
      "text/plain": [
       "   BoxID  duration_hrs  ClusterId        lon        lat   distances  \\\n",
       "0   1001      2.958106         10  68.763315  38.517016    0.000029   \n",
       "1   1002      0.890012         12  68.845202  38.562540    8.747834   \n",
       "2   1003      2.591902         41  69.600202  38.694671   75.442884   \n",
       "3   1004      0.839474        122  70.314881  40.672851  274.419717   \n",
       "4   1005      1.275770         94  69.385761  37.529461  122.743293   \n",
       "\n",
       "         dist  duration_hrs_wgted     dist_wght  \n",
       "0   75.442892            0.039210      0.013255  \n",
       "1   67.287465            0.013227      0.014862  \n",
       "2    0.000041        62909.492437  24271.554790  \n",
       "3  228.569473            0.003673      0.004375  \n",
       "4  131.068379            0.009734      0.007630  "
      ]
     },
     "execution_count": 174,
     "metadata": {},
     "output_type": "execute_result"
    }
   ],
   "source": [
    "df.head()"
   ]
  },
  {
   "cell_type": "code",
   "execution_count": null,
   "metadata": {
    "collapsed": true
   },
   "outputs": [],
   "source": []
  }
 ],
 "metadata": {
  "kernelspec": {
   "display_name": "Python 3",
   "language": "python",
   "name": "python3"
  },
  "language_info": {
   "codemirror_mode": {
    "name": "ipython",
    "version": 3
   },
   "file_extension": ".py",
   "mimetype": "text/x-python",
   "name": "python",
   "nbconvert_exporter": "python",
   "pygments_lexer": "ipython3",
   "version": "3.5.1"
  }
 },
 "nbformat": 4,
 "nbformat_minor": 2
}
