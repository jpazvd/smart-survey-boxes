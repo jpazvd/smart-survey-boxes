{
 "cells": [
  {
   "cell_type": "code",
   "execution_count": 57,
   "metadata": {
    "collapsed": true
   },
   "outputs": [],
   "source": [
    "%matplotlib inline\n",
    "import pandas as pd\n",
    "import numpy as np\n",
    "import matplotlib.pyplot as plt\n",
    "import seaborn as sns"
   ]
  },
  {
   "cell_type": "code",
   "execution_count": 58,
   "metadata": {
    "collapsed": true
   },
   "outputs": [],
   "source": [
    "data = pd.read_excel('../00_original/01.data/sms.xlsx')"
   ]
  },
  {
   "cell_type": "code",
   "execution_count": 59,
   "metadata": {
    "collapsed": true,
    "scrolled": true
   },
   "outputs": [],
   "source": [
    "data = data[['address', 'body', 'date_sent', 'readable_date', 'service_center', 'read', 'type']]"
   ]
  },
  {
   "cell_type": "code",
   "execution_count": 60,
   "metadata": {},
   "outputs": [
    {
     "data": {
      "text/html": [
       "<div>\n",
       "<table border=\"1\" class=\"dataframe\">\n",
       "  <thead>\n",
       "    <tr style=\"text-align: right;\">\n",
       "      <th></th>\n",
       "      <th>date_sent</th>\n",
       "      <th>read</th>\n",
       "      <th>type</th>\n",
       "    </tr>\n",
       "  </thead>\n",
       "  <tbody>\n",
       "    <tr>\n",
       "      <th>count</th>\n",
       "      <td>1.444060e+05</td>\n",
       "      <td>144406.000000</td>\n",
       "      <td>144406.000000</td>\n",
       "    </tr>\n",
       "    <tr>\n",
       "      <th>mean</th>\n",
       "      <td>1.483646e+12</td>\n",
       "      <td>0.007943</td>\n",
       "      <td>1.000048</td>\n",
       "    </tr>\n",
       "    <tr>\n",
       "      <th>std</th>\n",
       "      <td>6.589481e+09</td>\n",
       "      <td>0.088769</td>\n",
       "      <td>0.013158</td>\n",
       "    </tr>\n",
       "    <tr>\n",
       "      <th>min</th>\n",
       "      <td>0.000000e+00</td>\n",
       "      <td>0.000000</td>\n",
       "      <td>1.000000</td>\n",
       "    </tr>\n",
       "    <tr>\n",
       "      <th>25%</th>\n",
       "      <td>1.481198e+12</td>\n",
       "      <td>0.000000</td>\n",
       "      <td>1.000000</td>\n",
       "    </tr>\n",
       "    <tr>\n",
       "      <th>50%</th>\n",
       "      <td>1.483450e+12</td>\n",
       "      <td>0.000000</td>\n",
       "      <td>1.000000</td>\n",
       "    </tr>\n",
       "    <tr>\n",
       "      <th>75%</th>\n",
       "      <td>1.486677e+12</td>\n",
       "      <td>0.000000</td>\n",
       "      <td>1.000000</td>\n",
       "    </tr>\n",
       "    <tr>\n",
       "      <th>max</th>\n",
       "      <td>1.490270e+12</td>\n",
       "      <td>1.000000</td>\n",
       "      <td>5.000000</td>\n",
       "    </tr>\n",
       "  </tbody>\n",
       "</table>\n",
       "</div>"
      ],
      "text/plain": [
       "          date_sent           read           type\n",
       "count  1.444060e+05  144406.000000  144406.000000\n",
       "mean   1.483646e+12       0.007943       1.000048\n",
       "std    6.589481e+09       0.088769       0.013158\n",
       "min    0.000000e+00       0.000000       1.000000\n",
       "25%    1.481198e+12       0.000000       1.000000\n",
       "50%    1.483450e+12       0.000000       1.000000\n",
       "75%    1.486677e+12       0.000000       1.000000\n",
       "max    1.490270e+12       1.000000       5.000000"
      ]
     },
     "execution_count": 60,
     "metadata": {},
     "output_type": "execute_result"
    }
   ],
   "source": [
    "data.describe()"
   ]
  },
  {
   "cell_type": "code",
   "execution_count": 61,
   "metadata": {},
   "outputs": [
    {
     "name": "stdout",
     "output_type": "stream",
     "text": [
      "address :\n",
      "+992935710967    4603\n",
      "+992935710859    1799\n",
      "+992935711015    1589\n",
      "+992935710499    1566\n",
      "+992935710469    1299\n",
      "+992935710977    1271\n",
      "+992935710826    1258\n",
      "+992935710791    1169\n",
      "+992935710625    1081\n",
      "+992935710846    1052\n",
      "+992935710650    1047\n",
      "+992935710414    1035\n",
      "+992935710942    1021\n",
      "+992935710789    1006\n",
      "+992935710536     975\n",
      "+992935710453     974\n",
      "+992935710529     939\n",
      "+992935711236     934\n",
      "+992935710420     913\n",
      "+992935710458     902\n",
      "+992935710951     884\n",
      "+992935710445     881\n",
      "+992935711238     867\n",
      "+992935710328     866\n",
      "+992935710957     855\n",
      "+992935710874     853\n",
      "+992935710979     852\n",
      "+992935710875     824\n",
      "+992935710627     819\n",
      "+992935710415     816\n",
      "                 ... \n",
      "+992935710489      35\n",
      "+992935710554      35\n",
      "+992935710336      34\n",
      "+992935710856      34\n",
      "+992935710946      32\n",
      "+992935710786      31\n",
      "+992935710423      26\n",
      "+992935711071      25\n",
      "+992935710767      25\n",
      "+992935710968      24\n",
      "+992935710836      23\n",
      "+992935710519      23\n",
      "+992935710468      21\n",
      "+992935710862      21\n",
      "+992935710442      20\n",
      "+992935710806      19\n",
      "+992935710454      17\n",
      "+992900004351      16\n",
      "+992935710829      14\n",
      "+992935710427      14\n",
      "+992935710527      13\n",
      "+992935710787      13\n",
      "+992935710436      10\n",
      "+992900004395       9\n",
      "+992935710431       6\n",
      "938303656           2\n",
      "Tcell               2\n",
      "+992938303656       2\n",
      "+992935821825       1\n",
      "+992938809973       1\n",
      "Name: address, dtype: int64\n",
      "\n",
      "body :\n",
      "Power Failure detected.ID 1067                                           2223\n",
      "Power Back detected.ID 1067                                              2220\n",
      "Power Failure detected.ID 1193                                            690\n",
      "Power Back detected.ID 1193                                               669\n",
      "Power Back detected.ID 1134                                               665\n",
      "Power Failure detected.ID 1134                                            665\n",
      "Power Failure detected.ID 1028                                            567\n",
      "Power Back detected.ID 1028                                               545\n",
      "Power Failure detected.ID 1276                                            521\n",
      "Power Back detected.ID 1276                                               517\n",
      "Power Failure detected.ID 1008                                            503\n",
      "Power Back detected.ID 1008                                               481\n",
      "Power Failure  is running ID 1089 | Monitoring... Power OK                458\n",
      "Power Failure detected.ID 1259                                            452\n",
      "Power Back detected.ID 1259                                               446\n",
      "Power Back detected.ID 1019                                               440\n",
      "Power Failure detected.ID 1019                                            439\n",
      "Power Failure detected.ID 1130                                            391\n",
      "Power Back detected.ID 1130                                               390\n",
      "Power Back detected. ID 1094                                              385\n",
      "Power Failure detected. ID 1094                                           384\n",
      "Power Failure  is running ID 1053 | Monitoring... Power OK                380\n",
      "Power Failure detected.ID 1093                                            359\n",
      "Power Back detected.ID 1093                                               358\n",
      "Power Failure detected.ID 1144                                            356\n",
      "Power Failure detected.ID 1103                                            355\n",
      "Power Failure detected.ID 1032                                            354\n",
      "Power Failure detected. ID 1096                                           354\n",
      "Power Failure detected.ID 1212                                            353\n",
      "Power Back detected.ID 1103                                               353\n",
      "                                                                         ... \n",
      "Power Failure detected id 1180                                              1\n",
      "Test SMS from Power Failure Monitor:Power Back detected.ID 1132             1\n",
      "Test SMS from Power Failure Monitor:Power Failure  is running ID 1292       1\n",
      "Test SMS from Power Failure Monitor:Power Back detected.ID 1289             1\n",
      "Test SMS from Power Failure Monitor:Power Back detected.ID 1247             1\n",
      "Test SMS from Power Failure Monitor:Power Back detected.ID 1108             1\n",
      "Test SMS from Power Failure Monitor:Power Back detected.ID 1165             1\n",
      "Test SMS from Power Failure Monitor:Power Back detected. ID 1056            1\n",
      "Test SMS from Power Failure Monitor:Power Back detected.ID 1074             1\n",
      "Test SMS from Power Failure Monitor:Power Failure detected.ID 1098          1\n",
      "Test SMS from Power Failure Monitor:Power Failure is running ID 1275        1\n",
      "Test SMS from Power Failure Monitor:Power Back detected.ID 1089             1\n",
      "Test SMS from Power Failure Monitor:Power Back detected. ID 1265            1\n",
      "Test SMS from Power Failure Monitor:Power Failure detected.ID 1231          1\n",
      "Test SMS from Power Failure Monitor:Power Failure detected.ID 1180          1\n",
      "Test SMS from Power Failure Monitor:Power Failure  is running ID 1276       1\n",
      "Test SMS from Power Failure Monitor:Power Failure  is running id 1231       1\n",
      "Test SMS from Power Failure Monitor:Power Back detected.ID 1255             1\n",
      "Power Back detected. ID 1074                                                1\n",
      "Test SMS from Power Failure Monitor:Power Back detected.ID 1192             1\n",
      "Test SMS from Power Failure Monitor:Power Failure is running ID 1042        1\n",
      "Test SMS from Power Failure Monitor:Power Failure  is running id 1225       1\n",
      "Test SMS from Power Failure Monitor:Power Failure detected.ID 1174          1\n",
      "Test SMS from Power Failure Monitor:Power Back detected.ID 1142             1\n",
      "Power Failure detected. ID 1114                                             1\n",
      "Test SMS from Power Failure Monitor:Power Failure  is running ID 1073       1\n",
      "Test SMS from Power Failure Monitor:Power Failure  is running ID 1237       1\n",
      "Test SMS from Power Failure Monitor:Power Failure  is running ID 1140       1\n",
      "Test SMS from Power Failure Monitor:Power Failure  is running ID 1224       1\n",
      "Test SMS from Power Failure Monitor:Power Failure  is running ID 1062       1\n",
      "Name: body, dtype: int64\n",
      "\n",
      "date_sent :\n",
      "1484490170000    15\n",
      "1484188219000    15\n",
      "1484188218000    14\n",
      "1484482663000    11\n",
      "1484482665000    11\n",
      "1487248181000    11\n",
      "1482289908000    11\n",
      "1482289905000    10\n",
      "1489554536000    10\n",
      "1489811431000     9\n",
      "1484190185000     9\n",
      "1477725384000     8\n",
      "1488735358000     8\n",
      "1476885652000     8\n",
      "1484189007000     8\n",
      "1482490753000     8\n",
      "1477728358000     8\n",
      "1482289906000     8\n",
      "1477785607000     8\n",
      "1476889253000     8\n",
      "1477722729000     8\n",
      "1484490871000     8\n",
      "1477721141000     7\n",
      "1477564678000     7\n",
      "1477721152000     7\n",
      "1487218874000     7\n",
      "1487279580000     7\n",
      "1487218855000     7\n",
      "1487279581000     7\n",
      "1484102010000     7\n",
      "                 ..\n",
      "1485754672000     1\n",
      "1482656425000     1\n",
      "1483985067000     1\n",
      "1485266401000     1\n",
      "1482573209000     1\n",
      "1481674777000     1\n",
      "1485796986000     1\n",
      "1477813444000     1\n",
      "1481975169000     1\n",
      "1486798739000     1\n",
      "1484828939000     1\n",
      "1483216056000     1\n",
      "1482855439000     1\n",
      "1477658222000     1\n",
      "1486374510000     1\n",
      "1489668163000     1\n",
      "1480156143000     1\n",
      "1483098106000     1\n",
      "1481392709000     1\n",
      "1486733893000     1\n",
      "1482429577000     1\n",
      "1488773841000     1\n",
      "1484300258000     1\n",
      "1483317616000     1\n",
      "1487336396000     1\n",
      "1485997534000     1\n",
      "1486279721000     1\n",
      "1485427760000     1\n",
      "1484304758000     1\n",
      "1487409462000     1\n",
      "Name: date_sent, dtype: int64\n",
      "\n",
      "readable_date :\n",
      "10/29/2016 12:16:24         8\n",
      "10/29/2016 11:32:09         8\n",
      "10/30/2016 05:00:07         8\n",
      "10/19/2016 20:00:53         8\n",
      "10/29/2016 13:05:58         8\n",
      "10/19/2016 19:00:52         8\n",
      "10/29/2016 11:05:52         7\n",
      "10/29/2016 11:06:53         7\n",
      "10/27/2016 15:37:58         7\n",
      "10/28/2016 18:30:12         7\n",
      "10/28/2016 05:01:33         7\n",
      "10/29/2016 11:05:41         7\n",
      "11/02/2016 17:52:34         7\n",
      "10/29/2016 16:01:18         6\n",
      "10/29/2016 17:52:07         6\n",
      "10/27/2016 15:31:27         6\n",
      "10/31/2016 05:00:20         6\n",
      "10/28/2016 18:19:07         6\n",
      "10/22/2016 03:20:53         6\n",
      "10/31/2016 08:00:00         6\n",
      "11/02/2016 22:00:47         6\n",
      "10/28/2016 17:56:28         6\n",
      "10/29/2016 11:05:34         6\n",
      "10/30/2016 22:00:49         6\n",
      "10/27/2016 22:05:03         5\n",
      "10/29/2016 11:05:54         5\n",
      "10/29/2016 10:03:32         5\n",
      "10/26/2016 18:49:59         5\n",
      "10/31/2016 11:57:02         5\n",
      "10/28/2016 15:33:40         5\n",
      "                           ..\n",
      "01/12/2017 16:48:28         1\n",
      "03/04/2017 15:51:28         1\n",
      "01/18/2017 08:20:20         1\n",
      "02/26/2017 12:08:19         1\n",
      "12/09/2016 17:01:59         1\n",
      "01/12/2017 21:26:28         1\n",
      "12/24/2016 22:00:47         1\n",
      "10/20/2016 08:20:51         1\n",
      "01/11/2017 15:16:32         1\n",
      "02/10/2017 10:56:32         1\n",
      "02/16/2017 16:51:24         1\n",
      "01/30/2017 18:58:21         1\n",
      "11/08/2016 17:07:33         1\n",
      "11/02/2016 05:28:49         1\n",
      "11/29/2016 15:00:09         1\n",
      "02/12/2017 09:15:32         1\n",
      "10/19/2016 18:01:08         1\n",
      "11/10/2016 23:58:24         1\n",
      "10/31/2016 12:33:30         1\n",
      "03/03/2017 18:46:08         1\n",
      "01/14/2017 06:25:40         1\n",
      "12/28/2016 21:51:56         1\n",
      "01/23/2017 04:21:06         1\n",
      "08 дек. 2016 г. 22:12:15    1\n",
      "02/16/2017 23:03:55         1\n",
      "02/20/2017 22:57:33         1\n",
      "11/27/2016 07:58:02         1\n",
      "03/06/2017 06:38:42         1\n",
      "01/17/2017 16:38:40         1\n",
      "07 дек. 2016 г. 22:20:28    1\n",
      "Name: readable_date, dtype: int64\n",
      "\n",
      "service_center :\n",
      "+992939999999      144035\n",
      "+992907777777         368\n",
      "null                    2\n",
      "+99293000000013         1\n",
      "Name: service_center, dtype: int64\n",
      "\n",
      "read :\n",
      "0    143259\n",
      "1      1147\n",
      "Name: read, dtype: int64\n",
      "\n",
      "type :\n",
      "1    144404\n",
      "5         1\n",
      "4         1\n",
      "Name: type, dtype: int64\n",
      "\n"
     ]
    }
   ],
   "source": [
    "for col in data.columns:\n",
    "    print(col,':')\n",
    "    print(data[col].value_counts())\n",
    "    print()\n"
   ]
  },
  {
   "cell_type": "code",
   "execution_count": 62,
   "metadata": {},
   "outputs": [
    {
     "data": {
      "text/plain": [
       "'\\nWhy does service center vary? (The two cases with \"null\" are the numbers missing + 992)\\nWhat is read?\\nWhat is type? Nevermind: the only two cases not equal to one are the numbers missing +992 (see below)\\n\\nIn address:\\n938303656 should be +992938303656  (all start with \\'+992\\' and there is such a number)\\n'"
      ]
     },
     "execution_count": 62,
     "metadata": {},
     "output_type": "execute_result"
    }
   ],
   "source": [
    "\"\"\"\n",
    "Why does service center vary? (The two cases with \"null\" are the numbers missing + 992)\n",
    "What is read?\n",
    "What is type? Nevermind: the only two cases not equal to one are the numbers missing +992 (see below)\n",
    "\n",
    "In address:\n",
    "938303656 should be +992938303656  (all start with '+992' and there is such a number)\n",
    "\"\"\""
   ]
  },
  {
   "cell_type": "code",
   "execution_count": 63,
   "metadata": {},
   "outputs": [
    {
     "data": {
      "text/html": [
       "<div>\n",
       "<table border=\"1\" class=\"dataframe\">\n",
       "  <thead>\n",
       "    <tr style=\"text-align: right;\">\n",
       "      <th></th>\n",
       "      <th>address</th>\n",
       "      <th>body</th>\n",
       "      <th>date_sent</th>\n",
       "      <th>readable_date</th>\n",
       "      <th>service_center</th>\n",
       "      <th>read</th>\n",
       "      <th>type</th>\n",
       "    </tr>\n",
       "  </thead>\n",
       "  <tbody>\n",
       "    <tr>\n",
       "      <th>46063</th>\n",
       "      <td>Tcell</td>\n",
       "      <td>Муштарии Мухтарам, Дархости шумо тахти №461640...</td>\n",
       "      <td>1481785352000</td>\n",
       "      <td>12/15/2016 12:02:38</td>\n",
       "      <td>+992939999999</td>\n",
       "      <td>0</td>\n",
       "      <td>1</td>\n",
       "    </tr>\n",
       "    <tr>\n",
       "      <th>143801</th>\n",
       "      <td>938303656</td>\n",
       "      <td>Апррр</td>\n",
       "      <td>0</td>\n",
       "      <td>03/22/2017 16:57:26</td>\n",
       "      <td>null</td>\n",
       "      <td>1</td>\n",
       "      <td>4</td>\n",
       "    </tr>\n",
       "    <tr>\n",
       "      <th>143802</th>\n",
       "      <td>938303656</td>\n",
       "      <td>Тщлщшолзд</td>\n",
       "      <td>0</td>\n",
       "      <td>03/22/2017 16:57:43</td>\n",
       "      <td>null</td>\n",
       "      <td>1</td>\n",
       "      <td>5</td>\n",
       "    </tr>\n",
       "    <tr>\n",
       "      <th>143989</th>\n",
       "      <td>Tcell</td>\n",
       "      <td>Муштарии мухтарам, аз хисоби Шумо пардохти мох...</td>\n",
       "      <td>1490213385000</td>\n",
       "      <td>03/23/2017 01:11:05</td>\n",
       "      <td>+992939999999</td>\n",
       "      <td>0</td>\n",
       "      <td>1</td>\n",
       "    </tr>\n",
       "  </tbody>\n",
       "</table>\n",
       "</div>"
      ],
      "text/plain": [
       "          address                                               body  \\\n",
       "46063       Tcell  Муштарии Мухтарам, Дархости шумо тахти №461640...   \n",
       "143801  938303656                                              Апррр   \n",
       "143802  938303656                                          Тщлщшолзд   \n",
       "143989      Tcell  Муштарии мухтарам, аз хисоби Шумо пардохти мох...   \n",
       "\n",
       "            date_sent        readable_date service_center  read  type  \n",
       "46063   1481785352000  12/15/2016 12:02:38  +992939999999     0     1  \n",
       "143801              0  03/22/2017 16:57:26           null     1     4  \n",
       "143802              0  03/22/2017 16:57:43           null     1     5  \n",
       "143989  1490213385000  03/23/2017 01:11:05  +992939999999     0     1  "
      ]
     },
     "execution_count": 63,
     "metadata": {},
     "output_type": "execute_result"
    }
   ],
   "source": [
    "# Check all address fields start with + 992. Four do not\n",
    "data[~data['address'].str.strip().str.startswith('+992')]"
   ]
  },
  {
   "cell_type": "code",
   "execution_count": null,
   "metadata": {
    "collapsed": true
   },
   "outputs": [],
   "source": [
    "\"\"\"\n",
    "Four:\n",
    "\n",
    "Two we know how to fix:\n",
    "938303656 should be +992938303656  (all start with '+992' and there is such a number)\n",
    "These also include the only types not == 1 (one case of type 4, one of type 5)\n",
    "They are missing service center (the only two cases with Null)\n",
    "However, they also have what Google recognizes as Tajik text in \"body\"\n",
    "(but cannot translate, though maybe app and threshold?)\n",
    "AND are missing date sent (but do have readable_date)\n",
    "\n",
    "Two are \"Tcell\" and have what looks like Tajik text in body\n",
    "The first one reads 'Subscriber & Query, you №461640 throne.'\n",
    "The second, 'Dear customer, your cost of the month ...'\n",
    "(they both start with same characters so 'Subscriber & Query' must mean 'Dear custumer')\n",
    "\"\"\""
   ]
  },
  {
   "cell_type": "code",
   "execution_count": null,
   "metadata": {
    "collapsed": true
   },
   "outputs": [],
   "source": [
    "\"\"\"\n",
    "Read date_sent into date time mdyhms(1,1,1970,5,0,0) then compare to readable date\n",
    "Zero time in Unix time is UTC 00:00:00 1 January 1970 and TJK is UTC + 5 hrs\n",
    "However, max frequency in date_sent is 15, while it's 8 in readable_date, suggesting it's not the same.\n",
    "\"\"\""
   ]
  },
  {
   "cell_type": "code",
   "execution_count": 64,
   "metadata": {
    "collapsed": true
   },
   "outputs": [],
   "source": [
    "data = data[data['address'].str.strip() != 'Tcell']\n",
    "data['address'][~data['address'].str.strip().str.startswith('+992')] = '+992938303656'"
   ]
  },
  {
   "cell_type": "code",
   "execution_count": 65,
   "metadata": {
    "collapsed": true
   },
   "outputs": [],
   "source": [
    "counts = data[['address', 'body', 'type']].groupby('address').count()\n",
    "#[['body','type']].groupby('body').count()"
   ]
  },
  {
   "cell_type": "code",
   "execution_count": 66,
   "metadata": {},
   "outputs": [
    {
     "data": {
      "text/plain": [
       "count     307.000000\n",
       "mean      470.371336\n",
       "std       382.097914\n",
       "min         1.000000\n",
       "25%       254.000000\n",
       "50%       438.000000\n",
       "75%       648.500000\n",
       "max      4603.000000\n",
       "Name: body, dtype: float64"
      ]
     },
     "execution_count": 66,
     "metadata": {},
     "output_type": "execute_result"
    }
   ],
   "source": [
    "counts['body'].describe()"
   ]
  },
  {
   "cell_type": "code",
   "execution_count": 67,
   "metadata": {},
   "outputs": [
    {
     "data": {
      "text/plain": [
       "0   2016-10-19 10:11:54\n",
       "1   2016-10-19 10:12:07\n",
       "2   2016-10-19 10:12:34\n",
       "3   2016-10-19 10:14:22\n",
       "4   2016-10-19 10:14:38\n",
       "Name: readable_date, dtype: datetime64[ns]"
      ]
     },
     "execution_count": 67,
     "metadata": {},
     "output_type": "execute_result"
    }
   ],
   "source": [
    "# дек translates to Dec\n",
    "data['readable_date'] = data['readable_date'].str.replace('дек.', 'Dec').str.replace('г. ', '')\n",
    "data['readable_date'] = pd.to_datetime(data['readable_date'], infer_datetime_format=True) #.tz_localize('Asia/Dushanbe')\n",
    "data['readable_date'].head()"
   ]
  },
  {
   "cell_type": "code",
   "execution_count": 68,
   "metadata": {},
   "outputs": [
    {
     "data": {
      "text/plain": [
       "count                  144404\n",
       "unique                 131218\n",
       "top       2017-01-15 14:22:50\n",
       "freq                       15\n",
       "first     1970-01-01 00:00:00\n",
       "last      2017-03-23 11:56:32\n",
       "Name: date_sent, dtype: object"
      ]
     },
     "execution_count": 68,
     "metadata": {},
     "output_type": "execute_result"
    }
   ],
   "source": [
    "data['date_sent'] = pd.to_datetime(data['date_sent'], unit='ms')\n",
    "data['date_sent'].describe()"
   ]
  },
  {
   "cell_type": "code",
   "execution_count": 69,
   "metadata": {},
   "outputs": [
    {
     "data": {
      "text/plain": [
       "143801   1970-01-01 00:00:00\n",
       "143802   1970-01-01 00:00:00\n",
       "0        2016-10-19 05:11:54\n",
       "1        2016-10-19 05:12:07\n",
       "2        2016-10-19 05:12:34\n",
       "Name: date_sent, dtype: datetime64[ns]"
      ]
     },
     "execution_count": 69,
     "metadata": {},
     "output_type": "execute_result"
    }
   ],
   "source": [
    "data['date_sent'].sort_values(inplace=False).head()"
   ]
  },
  {
   "cell_type": "code",
   "execution_count": 70,
   "metadata": {},
   "outputs": [
    {
     "data": {
      "text/plain": [
       "count                  144404\n",
       "unique                 141475\n",
       "top       2016-10-19 19:00:52\n",
       "freq                        8\n",
       "first     2016-10-19 10:11:54\n",
       "last      2017-03-23 16:58:24\n",
       "Name: readable_date, dtype: object"
      ]
     },
     "execution_count": 70,
     "metadata": {},
     "output_type": "execute_result"
    }
   ],
   "source": [
    "data['readable_date'].describe()"
   ]
  },
  {
   "cell_type": "code",
   "execution_count": 71,
   "metadata": {},
   "outputs": [
    {
     "data": {
      "text/plain": [
       "0   2016-10-19 10:11:54\n",
       "1   2016-10-19 10:12:07\n",
       "2   2016-10-19 10:12:34\n",
       "3   2016-10-19 10:14:22\n",
       "4   2016-10-19 10:14:38\n",
       "Name: readable_date, dtype: datetime64[ns]"
      ]
     },
     "execution_count": 71,
     "metadata": {},
     "output_type": "execute_result"
    }
   ],
   "source": [
    "data['readable_date'].sort_values(inplace=False).head()"
   ]
  },
  {
   "cell_type": "code",
   "execution_count": 72,
   "metadata": {},
   "outputs": [
    {
     "data": {
      "text/plain": [
       "count                     144404\n",
       "mean      0 days 06:26:37.461136\n",
       "std      64 days 04:29:58.208276\n",
       "min              0 days 00:00:00\n",
       "25%              0 days 00:00:03\n",
       "50%              0 days 00:00:07\n",
       "75%              0 days 00:01:30\n",
       "max          17247 days 11:57:43\n",
       "dtype: object"
      ]
     },
     "execution_count": 72,
     "metadata": {},
     "output_type": "execute_result"
    }
   ],
   "source": [
    "(data['readable_date']- data['date_sent'] - pd.to_timedelta(5, 'h')).describe()"
   ]
  },
  {
   "cell_type": "code",
   "execution_count": 212,
   "metadata": {},
   "outputs": [
    {
     "data": {
      "text/plain": [
       "\"\\nThe two 1970-01-01 00:00:00 are errors. These had 0 as values as that is UTC 0\\nOtherwise, dateSent is GMT time (five hours difference)...\\nbut there are some slight differences! Do they increase at later dates\\nI'll keep it to see if it makes sense later\\n\""
      ]
     },
     "execution_count": 212,
     "metadata": {},
     "output_type": "execute_result"
    }
   ],
   "source": [
    "\"\"\"\n",
    "The two 1970-01-01 00:00:00 are errors. These had 0 as values as that is UTC 0\n",
    "Otherwise, dateSent is GMT time (five hours difference)...\n",
    "but there are some slight differences! Do they increase at later dates\n",
    "I'll keep it to see if it makes sense later\n",
    "\"\"\""
   ]
  },
  {
   "cell_type": "code",
   "execution_count": 73,
   "metadata": {
    "collapsed": true
   },
   "outputs": [],
   "source": [
    "data['date_sent'] = data['date_sent'] + pd.to_timedelta(5, 'h') # date_sent into TJK time"
   ]
  },
  {
   "cell_type": "code",
   "execution_count": 74,
   "metadata": {},
   "outputs": [
    {
     "data": {
      "text/plain": [
       "power failure is running | monitoring power ok                     42907\n",
       "power failure detected                                             41792\n",
       "power back detected                                                40297\n",
       "power failure is running | monitoring power failure                17531\n",
       "test sms from power failure monitor:power failure is running         454\n",
       "test sms from power failure monitor:power failure detected           420\n",
       "test sms from power failure monitor:power back detected              395\n",
       "power failure                                                        229\n",
       "power back                                                           229\n",
       "power back detected                                                  138\n",
       "муштари занги шуморо интизор аст абонент просит вас перезвонить        2\n",
       "test sms from power failure monitor:power back detec                   2\n",
       "test sms from power failure monitor:power failure detected il          1\n",
       "test sms from power failure monitor:power failure is running _         1\n",
       "муштари + ба шумо бор занг зад ::, //                                  1\n",
       "test                                                                   1\n",
       "test sms from power failure monitor:power back detected                1\n",
       "test sms from power failure monitor: power failure detected            1\n",
       "апррр                                                                  1\n",
       "тщлщшолзд                                                              1\n",
       "Name: body, dtype: int64"
      ]
     },
     "execution_count": 74,
     "metadata": {},
     "output_type": "execute_result"
    }
   ],
   "source": [
    "bodyNoId = pd.Series(data['body'].str.strip().str.replace('\\d+', '').str.lower().str.replace('id', '').str.replace('  ', ' '))\n",
    "bodyNoId = bodyNoId.str.replace('.', '').str.replace('  ', ' ').str.replace('_ ', '').str.replace('l ', '')\n",
    "bodyNoId.value_counts()"
   ]
  },
  {
   "cell_type": "code",
   "execution_count": 75,
   "metadata": {
    "collapsed": true
   },
   "outputs": [],
   "source": [
    "data['id'] = pd.Series(data['body'].str.extract('(\\d{4})', expand=False), dtype='int')"
   ]
  },
  {
   "cell_type": "code",
   "execution_count": 76,
   "metadata": {},
   "outputs": [
    {
     "data": {
      "text/plain": [
       "count     144395\n",
       "unique       301\n",
       "top         1067\n",
       "freq        4603\n",
       "Name: id, dtype: object"
      ]
     },
     "execution_count": 76,
     "metadata": {},
     "output_type": "execute_result"
    }
   ],
   "source": [
    "data['id'].describe()"
   ]
  },
  {
   "cell_type": "code",
   "execution_count": 77,
   "metadata": {},
   "outputs": [
    {
     "data": {
      "text/plain": [
       "9"
      ]
     },
     "execution_count": 77,
     "metadata": {},
     "output_type": "execute_result"
    }
   ],
   "source": [
    "data['id'].isnull().sum()"
   ]
  },
  {
   "cell_type": "code",
   "execution_count": 78,
   "metadata": {},
   "outputs": [
    {
     "name": "stdout",
     "output_type": "stream",
     "text": [
      "              address  \\\n",
      "450     +992935711044   \n",
      "3165    +992935710834   \n",
      "3167    +992935710834   \n",
      "35018   +992938303656   \n",
      "49961   +992935821825   \n",
      "103643  +992935710316   \n",
      "143801  +992938303656   \n",
      "143802  +992938303656   \n",
      "143805  +992938303656   \n",
      "\n",
      "                                                                    body  \\\n",
      "450     Test SMS from Power Failure Monitor:Power Failure  is running ID   \n",
      "3165    Power Back detected.                                               \n",
      "3167    Power Back detected.                                               \n",
      "35018   Test                                                               \n",
      "49961   Муштари занги Шуморо интизор аст. Абонент просит Вас перезвонить   \n",
      "103643  Test SMS from Power Failure Monitor:Power Failure detected. Il     \n",
      "143801  Апррр                                                              \n",
      "143802  Тщлщшолзд                                                          \n",
      "143805  Муштари занги Шуморо интизор аст. Абонент просит Вас перезвонить   \n",
      "\n",
      "                 date_sent       readable_date service_center  read  type   id  \n",
      "450    2016-10-19 17:10:08 2016-10-19 17:10:08  +992939999999  1     1     NaN  \n",
      "3165   2016-10-21 13:50:19 2016-10-21 13:50:19  +992939999999  0     1     NaN  \n",
      "3167   2016-10-21 13:51:07 2016-10-21 13:51:07  +992939999999  0     1     NaN  \n",
      "35018  2016-12-07 18:29:38 2016-12-07 18:29:39  +992939999999  1     1     NaN  \n",
      "49961  2016-12-18 08:52:24 2016-12-18 08:52:30  +992939999999  0     1     NaN  \n",
      "103643 2017-02-04 13:54:10 2017-02-04 13:55:39  +992939999999  0     1     NaN  \n",
      "143801 1970-01-01 05:00:00 2017-03-22 16:57:26  null           1     4     NaN  \n",
      "143802 1970-01-01 05:00:00 2017-03-22 16:57:43  null           1     5     NaN  \n",
      "143805 2017-03-22 17:28:44 2017-03-22 17:29:22  +992939999999  0     1     NaN  \n"
     ]
    }
   ],
   "source": [
    "pd.set_option('display.max_colwidth', -1)\n",
    "print(data[data['id'].isnull() == True])\n",
    "pd.set_option('display.max_colwidth', 50)"
   ]
  },
  {
   "cell_type": "code",
   "execution_count": null,
   "metadata": {
    "collapsed": true
   },
   "outputs": [],
   "source": [
    "# Question is: can we add id from address for these 9 cases?\n",
    "\"\"\"\n",
    "Муштари занги Шуморо интизор аст. Абонент просит Вас перезвонить = \n",
    "Client is waiting for your call. Prosit the subscriber Vas perezvonitь\n",
    "\n",
    "The other two with Tajik writitng are the ones where we corrected address\n",
    "Апррр = Aprrr (April?)\n",
    "Тщлщшолзд   = ???\n",
    "\n",
    "One has 'Test' and that alone, with no 'Monitor'. We checked and it's the only one with 'Test' only\n",
    "\"\"\""
   ]
  },
  {
   "cell_type": "code",
   "execution_count": 79,
   "metadata": {},
   "outputs": [
    {
     "name": "stdout",
     "output_type": "stream",
     "text": [
      "(305,) (301,)\n"
     ]
    }
   ],
   "source": [
    "print(data['address'][data['id'].notnull()].drop_duplicates().shape, data['id'][data['id'].notnull()].drop_duplicates().shape)"
   ]
  },
  {
   "cell_type": "code",
   "execution_count": 80,
   "metadata": {
    "collapsed": true
   },
   "outputs": [],
   "source": [
    "addressToId = {}\n",
    "for address in data['address'][data['id'].notnull()].drop_duplicates():\n",
    "    addressToId[address] = set(data['id'][(data['address'] == address) & (data['id'].notnull())])"
   ]
  },
  {
   "cell_type": "code",
   "execution_count": 81,
   "metadata": {
    "collapsed": true
   },
   "outputs": [],
   "source": [
    "idToAddress = {}\n",
    "for id in data['id'][data['id'].notnull()].drop_duplicates():\n",
    "    idToAddress[id] = set(data['address'][data['id'] == id])"
   ]
  },
  {
   "cell_type": "code",
   "execution_count": 82,
   "metadata": {},
   "outputs": [
    {
     "data": {
      "text/plain": [
       "{'+992935710316': {'1040', nan, '1056'},\n",
       " '+992935710834': {nan, '1253'},\n",
       " '+992935711044': {nan, '1221'},\n",
       " '+992935821825': {nan},\n",
       " '+992938303656': {nan}}"
      ]
     },
     "execution_count": 82,
     "metadata": {},
     "output_type": "execute_result"
    }
   ],
   "source": [
    "addressToNullId = {}\n",
    "for address in data['address'][data['id'].isnull()].drop_duplicates():\n",
    "    addressToNullId[address] = set(data['id'][data['address'] == address])\n",
    "addressToNullId"
   ]
  },
  {
   "cell_type": "code",
   "execution_count": 83,
   "metadata": {},
   "outputs": [
    {
     "name": "stdout",
     "output_type": "stream",
     "text": [
      "+992935710433 : {'1269', '1069'}\n",
      "+992935710986 : {'1240', '1140'}\n",
      "+992935710316 : {'1040', '1056'}\n"
     ]
    }
   ],
   "source": [
    "for multAddress in addressToId.keys():\n",
    "    if len(addressToId[multAddress]) > 1:\n",
    "        print(multAddress, ':', addressToId[multAddress])"
   ]
  },
  {
   "cell_type": "code",
   "execution_count": 84,
   "metadata": {},
   "outputs": [
    {
     "name": "stdout",
     "output_type": "stream",
     "text": [
      "1230 : {'+992900004352', '+992935710527'}\n",
      "1135 : {'+992900004351', '+992935710870'}\n",
      "1123 : {'+992900004354', '+992935710336'}\n",
      "1269 : {'+992935711038', '+992935710433'}\n",
      "1056 : {'+992935710316', '+992935710463'}\n",
      "1140 : {'+992935710597', '+992935710986'}\n",
      "1095 : {'+992935710787', '+992900004395'}\n"
     ]
    }
   ],
   "source": [
    "for multId in idToAddress.keys():\n",
    "    if len(idToAddress[multId]) > 1:\n",
    "        print(multId, ':', idToAddress[multId])"
   ]
  },
  {
   "cell_type": "code",
   "execution_count": 85,
   "metadata": {},
   "outputs": [
    {
     "name": "stdout",
     "output_type": "stream",
     "text": [
      "+992935711044 : {'1221'}\n",
      "+992935710834 : {'1253'}\n",
      "+992935710316 : {'1040', '1056'}\n"
     ]
    }
   ],
   "source": [
    "for corrections in ['+992935711044', '+992935710834', '+992935710316']:\n",
    "    print(corrections, ':', addressToId[corrections])"
   ]
  },
  {
   "cell_type": "code",
   "execution_count": null,
   "metadata": {
    "collapsed": true
   },
   "outputs": [],
   "source": [
    "\"\"\"\n",
    "Why do we have multiple addresses to ID and viceversa?\n",
    "We would like to use address to impute ID (ID is the field to merge with Boxes data set),\n",
    "so let's wait until we understand\n",
    "\"\"\""
   ]
  },
  {
   "cell_type": "code",
   "execution_count": null,
   "metadata": {
    "collapsed": true
   },
   "outputs": [],
   "source": []
  },
  {
   "cell_type": "code",
   "execution_count": 86,
   "metadata": {},
   "outputs": [
    {
     "name": "stdout",
     "output_type": "stream",
     "text": [
      "(296, 14)\n"
     ]
    }
   ],
   "source": [
    "boxes = pd.read_csv('../00_original/01.data/Boxes.csv')\n",
    "boxes.rename(columns={'BoxID' : 'id'}, inplace = True)\n",
    "print(boxes.shape)"
   ]
  },
  {
   "cell_type": "code",
   "execution_count": null,
   "metadata": {
    "collapsed": true
   },
   "outputs": [],
   "source": [
    "\"\"\"\n",
    "There are 296 boxes here, but 301 in the sms data?\n",
    "\"\"\""
   ]
  },
  {
   "cell_type": "code",
   "execution_count": 87,
   "metadata": {
    "collapsed": true
   },
   "outputs": [],
   "source": [
    "data['id'] = data['id'].astype('float')\n",
    "boxes['id'] = boxes['id'].astype('float')\n",
    "boxes['dateCollectionStartDays'] = pd.to_datetime(boxes['DateCollectionStart'], infer_datetime_format=True).dt.date\n",
    "#boxes.drop('DateCollectionStart', axis=1, inplace=True)\n",
    "data = data.merge(boxes, how='outer', on='id', indicator=True)"
   ]
  },
  {
   "cell_type": "code",
   "execution_count": 88,
   "metadata": {},
   "outputs": [
    {
     "data": {
      "text/plain": [
       "both          143642\n",
       "left_only        762\n",
       "right_only         0\n",
       "Name: _merge, dtype: int64"
      ]
     },
     "execution_count": 88,
     "metadata": {},
     "output_type": "execute_result"
    }
   ],
   "source": [
    "data['_merge'].value_counts()"
   ]
  },
  {
   "cell_type": "code",
   "execution_count": 89,
   "metadata": {},
   "outputs": [
    {
     "data": {
      "text/plain": [
       "1175.0    326\n",
       "1190.0    212\n",
       "1164.0    169\n",
       "1157.0     45\n",
       "9929.0      1\n",
       "Name: id, dtype: int64"
      ]
     },
     "execution_count": 89,
     "metadata": {},
     "output_type": "execute_result"
    }
   ],
   "source": [
    "data['id'][data._merge == 'left_only'].value_counts()"
   ]
  },
  {
   "cell_type": "code",
   "execution_count": null,
   "metadata": {
    "collapsed": true
   },
   "outputs": [],
   "source": [
    "\"\"\"\n",
    "The last (9929) seems to be an error.\n",
    "The other four... what happened?\n",
    "\"\"\""
   ]
  },
  {
   "cell_type": "code",
   "execution_count": 108,
   "metadata": {
    "collapsed": true
   },
   "outputs": [],
   "source": [
    "\"\"\"\n",
    "Temporarily, settle for those in both\n",
    "\"\"\""
   ]
  },
  {
   "cell_type": "code",
   "execution_count": 90,
   "metadata": {
    "collapsed": true
   },
   "outputs": [],
   "source": [
    "data = data[data['_merge'] == 'both']"
   ]
  },
  {
   "cell_type": "code",
   "execution_count": null,
   "metadata": {
    "collapsed": true
   },
   "outputs": [],
   "source": []
  },
  {
   "cell_type": "code",
   "execution_count": 91,
   "metadata": {},
   "outputs": [
    {
     "data": {
      "text/plain": [
       "count    143642.000000\n",
       "mean         78.730476\n",
       "std          41.635258\n",
       "min           0.000000\n",
       "25%          50.000000\n",
       "50%          76.000000\n",
       "75%         114.000000\n",
       "max         155.000000\n",
       "Name: readable_date, dtype: float64"
      ]
     },
     "execution_count": 91,
     "metadata": {},
     "output_type": "execute_result"
    }
   ],
   "source": [
    "date = data['readable_date'].dt.date\n",
    "date = (date - date.min())  / np.timedelta64(1,'D')\n",
    "date.describe()"
   ]
  },
  {
   "cell_type": "code",
   "execution_count": 92,
   "metadata": {},
   "outputs": [
    {
     "data": {
      "text/plain": [
       "(array([ 0.00699966,  0.00966219,  0.01172215,  0.00680347,  0.00341925,\n",
       "         0.00299185,  0.00268355,  0.00390972,  0.00372054,  0.00360143,\n",
       "         0.01033483,  0.00763026,  0.01369103,  0.00258546,  0.00208799,\n",
       "         0.00220009,  0.00271859,  0.00196187,  0.00233322,  0.00243832,\n",
       "         0.00275362,  0.00271859,  0.002102  ,  0.00471549,  0.00389571,\n",
       "         0.00323007,  0.0034683 ,  0.0040989 ,  0.00418999,  0.00444923,\n",
       "         0.00424604,  0.00502378,  0.01247187,  0.00158351,  0.00198989,\n",
       "         0.00667735,  0.00613083,  0.00690157,  0.00684551,  0.00686653,\n",
       "         0.00666334,  0.00372054,  0.        ,  0.00355238,  0.00742707,\n",
       "         0.00701367,  0.00776339,  0.00011211,  0.0043091 ,  0.00745509,\n",
       "         0.00901057,  0.01027878,  0.01235275,  0.01001953,  0.01048197,\n",
       "         0.00994246,  0.00924179,  0.00865323,  0.0086182 ,  0.01182725,\n",
       "         0.00856915,  0.00936091,  0.00833093,  0.00896853,  0.00866024,\n",
       "         0.00901057,  0.01009661,  0.01032082,  0.00975328,  0.01114761,\n",
       "         0.00985838,  0.01101448,  0.01059408,  0.00629899,  0.00531105,\n",
       "         0.01148393,  0.01184827,  0.01142087,  0.00774937,  0.0078825 ,\n",
       "         0.00358741,  0.        ,  0.00757421,  0.00931887,  0.00771434,\n",
       "         0.00898255,  0.00709075,  0.00517092,  0.00635505,  0.00577349,\n",
       "         0.00636205,  0.00716782,  0.00596267,  0.00494671,  0.00545119,\n",
       "         0.005255  ,  0.00613083,  0.00806467,  0.00539513,  0.00599771,\n",
       "         0.00653021,  0.00812073,  0.00704871,  0.00997049,  0.00791053,\n",
       "         0.00626396,  0.00632702,  0.00885643,  0.0092488 ,  0.00589961,\n",
       "         0.00591363,  0.00573846,  0.0053601 ,  0.00532507,  0.00554227,\n",
       "         0.00470147,  0.00573145,  0.00604675,  0.00643212,  0.00738503,\n",
       "         0.00988641,  0.00778441,  0.01090938,  0.01034885,  0.00823984,\n",
       "         0.00538813,  0.00594165,  0.00671239,  0.00643913,  0.00540214,\n",
       "         0.00519194,  0.00582955,  0.00581553,  0.00670538,  0.00600471,\n",
       "         0.00600471,  0.00526201,  0.00524099,  0.00524099,  0.00524099,\n",
       "         0.00541615,  0.00571043,  0.00592764,  0.00519895,  0.0053601 ,\n",
       "         0.00479256,  0.0060958 ,  0.00587859,  0.00475753,  0.00535309,\n",
       "         0.00538112,  0.00526901,  0.00477855,  0.00507283,  0.00421801,\n",
       "         0.00301987]),\n",
       " array([   0.        ,    0.99358974,    1.98717949,    2.98076923,\n",
       "           3.97435897,    4.96794872,    5.96153846,    6.95512821,\n",
       "           7.94871795,    8.94230769,    9.93589744,   10.92948718,\n",
       "          11.92307692,   12.91666667,   13.91025641,   14.90384615,\n",
       "          15.8974359 ,   16.89102564,   17.88461538,   18.87820513,\n",
       "          19.87179487,   20.86538462,   21.85897436,   22.8525641 ,\n",
       "          23.84615385,   24.83974359,   25.83333333,   26.82692308,\n",
       "          27.82051282,   28.81410256,   29.80769231,   30.80128205,\n",
       "          31.79487179,   32.78846154,   33.78205128,   34.77564103,\n",
       "          35.76923077,   36.76282051,   37.75641026,   38.75      ,\n",
       "          39.74358974,   40.73717949,   41.73076923,   42.72435897,\n",
       "          43.71794872,   44.71153846,   45.70512821,   46.69871795,\n",
       "          47.69230769,   48.68589744,   49.67948718,   50.67307692,\n",
       "          51.66666667,   52.66025641,   53.65384615,   54.6474359 ,\n",
       "          55.64102564,   56.63461538,   57.62820513,   58.62179487,\n",
       "          59.61538462,   60.60897436,   61.6025641 ,   62.59615385,\n",
       "          63.58974359,   64.58333333,   65.57692308,   66.57051282,\n",
       "          67.56410256,   68.55769231,   69.55128205,   70.54487179,\n",
       "          71.53846154,   72.53205128,   73.52564103,   74.51923077,\n",
       "          75.51282051,   76.50641026,   77.5       ,   78.49358974,\n",
       "          79.48717949,   80.48076923,   81.47435897,   82.46794872,\n",
       "          83.46153846,   84.45512821,   85.44871795,   86.44230769,\n",
       "          87.43589744,   88.42948718,   89.42307692,   90.41666667,\n",
       "          91.41025641,   92.40384615,   93.3974359 ,   94.39102564,\n",
       "          95.38461538,   96.37820513,   97.37179487,   98.36538462,\n",
       "          99.35897436,  100.3525641 ,  101.34615385,  102.33974359,\n",
       "         103.33333333,  104.32692308,  105.32051282,  106.31410256,\n",
       "         107.30769231,  108.30128205,  109.29487179,  110.28846154,\n",
       "         111.28205128,  112.27564103,  113.26923077,  114.26282051,\n",
       "         115.25641026,  116.25      ,  117.24358974,  118.23717949,\n",
       "         119.23076923,  120.22435897,  121.21794872,  122.21153846,\n",
       "         123.20512821,  124.19871795,  125.19230769,  126.18589744,\n",
       "         127.17948718,  128.17307692,  129.16666667,  130.16025641,\n",
       "         131.15384615,  132.1474359 ,  133.14102564,  134.13461538,\n",
       "         135.12820513,  136.12179487,  137.11538462,  138.10897436,\n",
       "         139.1025641 ,  140.09615385,  141.08974359,  142.08333333,\n",
       "         143.07692308,  144.07051282,  145.06410256,  146.05769231,\n",
       "         147.05128205,  148.04487179,  149.03846154,  150.03205128,\n",
       "         151.02564103,  152.01923077,  153.01282051,  154.00641026,  155.        ]),\n",
       " <a list of 1 Patch objects>)"
      ]
     },
     "execution_count": 92,
     "metadata": {},
     "output_type": "execute_result"
    },
    {
     "data": {
      "image/png": "[encoded data removed]",
      "text/plain": [
       "<matplotlib.figure.Figure at 0x7fc72fb13828>"
      ]
     },
     "metadata": {},
     "output_type": "display_data"
    }
   ],
   "source": [
    "plt.hist(date,\n",
    "         bins=156,\n",
    "         normed=True,\n",
    "         alpha=0.5,\n",
    "         histtype='stepfilled',\n",
    "         color='steelblue',\n",
    "         edgecolor='none')"
   ]
  },
  {
   "cell_type": "code",
   "execution_count": 93,
   "metadata": {},
   "outputs": [
    {
     "data": {
      "text/plain": [
       "0.4168975647791036"
      ]
     },
     "execution_count": 93,
     "metadata": {},
     "output_type": "execute_result"
    }
   ],
   "source": [
    "dataMonitor = data[data['body'].str.lower().str.contains('monitoring')].copy()\n",
    "dataMonitor.shape[0] / data.shape[0]"
   ]
  },
  {
   "cell_type": "code",
   "execution_count": 94,
   "metadata": {},
   "outputs": [
    {
     "data": {
      "text/plain": [
       "count    59884.000000\n",
       "mean        84.844817\n",
       "std         43.876032\n",
       "min          0.000000\n",
       "25%         54.000000\n",
       "50%         89.000000\n",
       "75%        122.000000\n",
       "max        155.000000\n",
       "Name: displaceDateDays, dtype: float64"
      ]
     },
     "execution_count": 94,
     "metadata": {},
     "output_type": "execute_result"
    }
   ],
   "source": [
    "dataMonitor['readableDateDays'] = dataMonitor['readable_date'].dt.date\n",
    "dataMonitor['displaceDateDays'] = (dataMonitor['readableDateDays'] - dataMonitor['readableDateDays'].min()\n",
    "                               ) / np.timedelta64(1,'D')\n",
    "dataMonitor['displaceDateDays'].describe()"
   ]
  },
  {
   "cell_type": "code",
   "execution_count": 95,
   "metadata": {},
   "outputs": [
    {
     "data": {
      "text/plain": [
       "(array([ 0.01230249,  0.02189911,  0.01132771,  0.00709242,  0.00781511,\n",
       "         0.00675629,  0.00584873,  0.0047731 ,  0.00569747,  0.00546217,\n",
       "         0.00438655,  0.0022689 ,  0.00248739,  0.00278991,  0.0025042 ,\n",
       "         0.00233613,  0.00218487,  0.00196638,  0.00186554,  0.00191596,\n",
       "         0.00210084,  0.00208403,  0.0020168 ,  0.00179832,  0.00240336,\n",
       "         0.0025042 ,  0.00287394,  0.00322688,  0.00337814,  0.0035126 ,\n",
       "         0.00373108,  0.00406722,  0.00398318,  0.00131092,  0.0014958 ,\n",
       "         0.00468907,  0.00435293,  0.00499159,  0.0052773 ,  0.00526049,\n",
       "         0.00524369,  0.00374789,  0.        ,  0.00299159,  0.00573108,\n",
       "         0.00593276,  0.00608402,  0.00026891,  0.00393276,  0.00635293,\n",
       "         0.00643696,  0.00685713,  0.00721007,  0.00732772,  0.00715965,\n",
       "         0.00714284,  0.00712604,  0.00709242,  0.00705881,  0.00700839,\n",
       "         0.00694116,  0.00689074,  0.00702519,  0.00697477,  0.00694116,\n",
       "         0.00747898,  0.00774788,  0.00806721,  0.00789914,  0.00783192,\n",
       "         0.00773108,  0.00781511,  0.0077983 ,  0.0077983 ,  0.00773108,\n",
       "         0.0077983 ,  0.00759662,  0.00759662,  0.00769746,  0.00788234,\n",
       "         0.00388234,  0.        ,  0.00721007,  0.00773108,  0.00769746,\n",
       "         0.00756301,  0.00759662,  0.00766385,  0.0075294 ,  0.00768066,\n",
       "         0.00769746,  0.00773108,  0.00771427,  0.00774788,  0.00781511,\n",
       "         0.0077815 ,  0.00773108,  0.00757982,  0.00717646,  0.00808402,\n",
       "         0.00835292,  0.00815124,  0.00798318,  0.00794956,  0.00764704,\n",
       "         0.00791595,  0.00786553,  0.00771427,  0.00783192,  0.00794956,\n",
       "         0.00774788,  0.00783192,  0.00768066,  0.00766385,  0.00768066,\n",
       "         0.00774788,  0.0077815 ,  0.00764704,  0.00781511,  0.0042689 ,\n",
       "         0.00799998,  0.00621847,  0.01068905,  0.00726049,  0.00994956,\n",
       "         0.00759662,  0.00783192,  0.00593276,  0.00974788,  0.0077815 ,\n",
       "         0.00781511,  0.0075294 ,  0.00739494,  0.0077815 ,  0.0077815 ,\n",
       "         0.00756301,  0.00776469,  0.0077815 ,  0.00771427,  0.00783192,\n",
       "         0.00786553,  0.00766385,  0.0077815 ,  0.00798318,  0.00794956,\n",
       "         0.0072941 ,  0.00761343,  0.00736133,  0.00724368,  0.0072941 ,\n",
       "         0.00719326,  0.0072941 ,  0.00722688,  0.00715965,  0.00341176,\n",
       "         0.00462184]),\n",
       " array([   0.        ,    0.99358974,    1.98717949,    2.98076923,\n",
       "           3.97435897,    4.96794872,    5.96153846,    6.95512821,\n",
       "           7.94871795,    8.94230769,    9.93589744,   10.92948718,\n",
       "          11.92307692,   12.91666667,   13.91025641,   14.90384615,\n",
       "          15.8974359 ,   16.89102564,   17.88461538,   18.87820513,\n",
       "          19.87179487,   20.86538462,   21.85897436,   22.8525641 ,\n",
       "          23.84615385,   24.83974359,   25.83333333,   26.82692308,\n",
       "          27.82051282,   28.81410256,   29.80769231,   30.80128205,\n",
       "          31.79487179,   32.78846154,   33.78205128,   34.77564103,\n",
       "          35.76923077,   36.76282051,   37.75641026,   38.75      ,\n",
       "          39.74358974,   40.73717949,   41.73076923,   42.72435897,\n",
       "          43.71794872,   44.71153846,   45.70512821,   46.69871795,\n",
       "          47.69230769,   48.68589744,   49.67948718,   50.67307692,\n",
       "          51.66666667,   52.66025641,   53.65384615,   54.6474359 ,\n",
       "          55.64102564,   56.63461538,   57.62820513,   58.62179487,\n",
       "          59.61538462,   60.60897436,   61.6025641 ,   62.59615385,\n",
       "          63.58974359,   64.58333333,   65.57692308,   66.57051282,\n",
       "          67.56410256,   68.55769231,   69.55128205,   70.54487179,\n",
       "          71.53846154,   72.53205128,   73.52564103,   74.51923077,\n",
       "          75.51282051,   76.50641026,   77.5       ,   78.49358974,\n",
       "          79.48717949,   80.48076923,   81.47435897,   82.46794872,\n",
       "          83.46153846,   84.45512821,   85.44871795,   86.44230769,\n",
       "          87.43589744,   88.42948718,   89.42307692,   90.41666667,\n",
       "          91.41025641,   92.40384615,   93.3974359 ,   94.39102564,\n",
       "          95.38461538,   96.37820513,   97.37179487,   98.36538462,\n",
       "          99.35897436,  100.3525641 ,  101.34615385,  102.33974359,\n",
       "         103.33333333,  104.32692308,  105.32051282,  106.31410256,\n",
       "         107.30769231,  108.30128205,  109.29487179,  110.28846154,\n",
       "         111.28205128,  112.27564103,  113.26923077,  114.26282051,\n",
       "         115.25641026,  116.25      ,  117.24358974,  118.23717949,\n",
       "         119.23076923,  120.22435897,  121.21794872,  122.21153846,\n",
       "         123.20512821,  124.19871795,  125.19230769,  126.18589744,\n",
       "         127.17948718,  128.17307692,  129.16666667,  130.16025641,\n",
       "         131.15384615,  132.1474359 ,  133.14102564,  134.13461538,\n",
       "         135.12820513,  136.12179487,  137.11538462,  138.10897436,\n",
       "         139.1025641 ,  140.09615385,  141.08974359,  142.08333333,\n",
       "         143.07692308,  144.07051282,  145.06410256,  146.05769231,\n",
       "         147.05128205,  148.04487179,  149.03846154,  150.03205128,\n",
       "         151.02564103,  152.01923077,  153.01282051,  154.00641026,  155.        ]),\n",
       " <a list of 1 Patch objects>)"
      ]
     },
     "execution_count": 95,
     "metadata": {},
     "output_type": "execute_result"
    },
    {
     "data": {
      "image/png": "[encoded data removed]",
      "text/plain": [
       "<matplotlib.figure.Figure at 0x7fc72ffe4940>"
      ]
     },
     "metadata": {},
     "output_type": "display_data"
    }
   ],
   "source": [
    "plt.hist(dataMonitor['displaceDateDays'],\n",
    "         bins=156,\n",
    "         normed=True,\n",
    "         alpha=0.5,\n",
    "         histtype='stepfilled',\n",
    "         color='steelblue',\n",
    "         edgecolor='none')"
   ]
  },
  {
   "cell_type": "code",
   "execution_count": null,
   "metadata": {
    "collapsed": true
   },
   "outputs": [],
   "source": [
    "\"\"\"\n",
    "That's very promising: the monitoring messages grow for a while as more boxes kick in\n",
    "then seem to stabilize at some point, as all boxes are in.\n",
    "Of course, there are questions regarding the initial spike, a what still looks like \n",
    "some variation over time, even if relatively small (except for some drops and about three spikes)\n",
    "\"\"\""
   ]
  },
  {
   "cell_type": "code",
   "execution_count": null,
   "metadata": {
    "collapsed": true
   },
   "outputs": [],
   "source": []
  },
  {
   "cell_type": "code",
   "execution_count": 96,
   "metadata": {},
   "outputs": [
    {
     "name": "stdout",
     "output_type": "stream",
     "text": [
      "(6415, 25)\n"
     ]
    }
   ],
   "source": [
    "print(dataMonitor[dataMonitor['dateCollectionStartDays'] > dataMonitor['readableDateDays']].shape)"
   ]
  },
  {
   "cell_type": "code",
   "execution_count": null,
   "metadata": {
    "collapsed": true
   },
   "outputs": [],
   "source": [
    "\"\"\"There are 6,415 observations with readings from before the collection start day\"\"\""
   ]
  },
  {
   "cell_type": "code",
   "execution_count": 97,
   "metadata": {
    "collapsed": true
   },
   "outputs": [],
   "source": [
    "dataMonitor = dataMonitor[dataMonitor['dateCollectionStartDays'] <= dataMonitor['readableDateDays']]"
   ]
  },
  {
   "cell_type": "code",
   "execution_count": 98,
   "metadata": {},
   "outputs": [
    {
     "data": {
      "text/plain": [
       "(array([  3.83891896e-05,   3.83891896e-05,   1.91945948e-04,\n",
       "          4.03086491e-04,   5.37448654e-04,   6.71810818e-04,\n",
       "          6.91005413e-04,   7.86978387e-04,   4.79864870e-04,\n",
       "          6.33421628e-04,   9.02145956e-04,   1.03650812e-03,\n",
       "          1.30523245e-03,   1.43959461e-03,   1.59315137e-03,\n",
       "          1.59315137e-03,   1.66992975e-03,   2.03462705e-03,\n",
       "          2.16898921e-03,   2.14979462e-03,   1.97704326e-03,\n",
       "          2.62965949e-03,   2.74482706e-03,   2.89838382e-03,\n",
       "          3.22469193e-03,   3.39744328e-03,   3.60858382e-03,\n",
       "          3.89650274e-03,   4.22281086e-03,   4.12683788e-03,\n",
       "          1.42040002e-03,   1.55476218e-03,   5.14415141e-03,\n",
       "          4.76025951e-03,   5.48965411e-03,   5.71998925e-03,\n",
       "          5.70079466e-03,   5.75837844e-03,   0.00000000e+00,\n",
       "          4.14603248e-03,   0.00000000e+00,   3.28227571e-03,\n",
       "          6.31502169e-03,   6.62213521e-03,   6.79488656e-03,\n",
       "          3.07113517e-04,   4.39556221e-03,   7.17877846e-03,\n",
       "          7.29394602e-03,   7.79300549e-03,   8.19609198e-03,\n",
       "          8.33045414e-03,   8.13850820e-03,   8.11931360e-03,\n",
       "          8.10011901e-03,   8.06172982e-03,   8.02334063e-03,\n",
       "          7.96575684e-03,   7.88897846e-03,   7.83139468e-03,\n",
       "          7.98495144e-03,   7.92736765e-03,   7.88897846e-03,\n",
       "          8.50320550e-03,   8.81031901e-03,   9.21340551e-03,\n",
       "          9.02145956e-03,   8.94468118e-03,   8.82951361e-03,\n",
       "          8.92548658e-03,   8.90629199e-03,   8.90629199e-03,\n",
       "          8.82951361e-03,   8.90629199e-03,   8.67595685e-03,\n",
       "          8.67595685e-03,   8.79112442e-03,   0.00000000e+00,\n",
       "          9.00226496e-03,   4.43395140e-03,   0.00000000e+00,\n",
       "          8.23448117e-03,   8.82951361e-03,   8.79112442e-03,\n",
       "          8.63756766e-03,   8.67595685e-03,   8.75273523e-03,\n",
       "          8.59917847e-03,   8.77192982e-03,   8.79112442e-03,\n",
       "          8.82951361e-03,   8.81031901e-03,   8.84870820e-03,\n",
       "          8.92548658e-03,   8.88709739e-03,   8.82951361e-03,\n",
       "          8.65676226e-03,   8.19609198e-03,   9.23260010e-03,\n",
       "          9.53971362e-03,   9.30937848e-03,   9.11743253e-03,\n",
       "          9.07904334e-03,   8.73354063e-03,   9.04065415e-03,\n",
       "          8.98307037e-03,   8.81031901e-03,   8.94468118e-03,\n",
       "          9.07904334e-03,   8.84870820e-03,   8.94468118e-03,\n",
       "          8.77192982e-03,   8.75273523e-03,   8.77192982e-03,\n",
       "          8.84870820e-03,   8.88709739e-03,   0.00000000e+00,\n",
       "          8.73354063e-03,   8.92548658e-03,   4.87542708e-03,\n",
       "          9.13662713e-03,   7.10200008e-03,   1.22077623e-02,\n",
       "          8.29206495e-03,   1.13632001e-02,   8.67595685e-03,\n",
       "          8.94468118e-03,   6.77569197e-03,   1.11328650e-02,\n",
       "          8.88709739e-03,   8.92548658e-03,   8.59917847e-03,\n",
       "          8.44562171e-03,   8.88709739e-03,   8.88709739e-03,\n",
       "          8.63756766e-03,   8.86790280e-03,   8.88709739e-03,\n",
       "          8.81031901e-03,   8.94468118e-03,   8.98307037e-03,\n",
       "          8.75273523e-03,   8.88709739e-03,   9.11743253e-03,\n",
       "          9.07904334e-03,   8.33045414e-03,   8.69515145e-03,\n",
       "          8.40723252e-03,   8.27287036e-03,   8.33045414e-03,\n",
       "          8.21528658e-03,   8.33045414e-03,   8.25367576e-03,\n",
       "          8.17689739e-03,   3.89650274e-03,   5.27851357e-03]),\n",
       " array([   0.        ,    0.97435897,    1.94871795,    2.92307692,\n",
       "           3.8974359 ,    4.87179487,    5.84615385,    6.82051282,\n",
       "           7.79487179,    8.76923077,    9.74358974,   10.71794872,\n",
       "          11.69230769,   12.66666667,   13.64102564,   14.61538462,\n",
       "          15.58974359,   16.56410256,   17.53846154,   18.51282051,\n",
       "          19.48717949,   20.46153846,   21.43589744,   22.41025641,\n",
       "          23.38461538,   24.35897436,   25.33333333,   26.30769231,\n",
       "          27.28205128,   28.25641026,   29.23076923,   30.20512821,\n",
       "          31.17948718,   32.15384615,   33.12820513,   34.1025641 ,\n",
       "          35.07692308,   36.05128205,   37.02564103,   38.        ,\n",
       "          38.97435897,   39.94871795,   40.92307692,   41.8974359 ,\n",
       "          42.87179487,   43.84615385,   44.82051282,   45.79487179,\n",
       "          46.76923077,   47.74358974,   48.71794872,   49.69230769,\n",
       "          50.66666667,   51.64102564,   52.61538462,   53.58974359,\n",
       "          54.56410256,   55.53846154,   56.51282051,   57.48717949,\n",
       "          58.46153846,   59.43589744,   60.41025641,   61.38461538,\n",
       "          62.35897436,   63.33333333,   64.30769231,   65.28205128,\n",
       "          66.25641026,   67.23076923,   68.20512821,   69.17948718,\n",
       "          70.15384615,   71.12820513,   72.1025641 ,   73.07692308,\n",
       "          74.05128205,   75.02564103,   76.        ,   76.97435897,\n",
       "          77.94871795,   78.92307692,   79.8974359 ,   80.87179487,\n",
       "          81.84615385,   82.82051282,   83.79487179,   84.76923077,\n",
       "          85.74358974,   86.71794872,   87.69230769,   88.66666667,\n",
       "          89.64102564,   90.61538462,   91.58974359,   92.56410256,\n",
       "          93.53846154,   94.51282051,   95.48717949,   96.46153846,\n",
       "          97.43589744,   98.41025641,   99.38461538,  100.35897436,\n",
       "         101.33333333,  102.30769231,  103.28205128,  104.25641026,\n",
       "         105.23076923,  106.20512821,  107.17948718,  108.15384615,\n",
       "         109.12820513,  110.1025641 ,  111.07692308,  112.05128205,\n",
       "         113.02564103,  114.        ,  114.97435897,  115.94871795,\n",
       "         116.92307692,  117.8974359 ,  118.87179487,  119.84615385,\n",
       "         120.82051282,  121.79487179,  122.76923077,  123.74358974,\n",
       "         124.71794872,  125.69230769,  126.66666667,  127.64102564,\n",
       "         128.61538462,  129.58974359,  130.56410256,  131.53846154,\n",
       "         132.51282051,  133.48717949,  134.46153846,  135.43589744,\n",
       "         136.41025641,  137.38461538,  138.35897436,  139.33333333,\n",
       "         140.30769231,  141.28205128,  142.25641026,  143.23076923,\n",
       "         144.20512821,  145.17948718,  146.15384615,  147.12820513,\n",
       "         148.1025641 ,  149.07692308,  150.05128205,  151.02564103,  152.        ]),\n",
       " <a list of 1 Patch objects>)"
      ]
     },
     "execution_count": 98,
     "metadata": {},
     "output_type": "execute_result"
    },
    {
     "data": {
      "image/png": "[encoded data removed]",
      "text/plain": [
       "<matplotlib.figure.Figure at 0x7fc730cada58>"
      ]
     },
     "metadata": {},
     "output_type": "display_data"
    }
   ],
   "source": [
    "dataMonitor['displaceDateDays'] = (dataMonitor['readableDateDays'] - dataMonitor['readableDateDays'].min()\n",
    "                               ) / np.timedelta64(1,'D')\n",
    "plt.hist(dataMonitor['displaceDateDays'],\n",
    "         bins=156,\n",
    "         normed=True,\n",
    "         alpha=0.5,\n",
    "         histtype='stepfilled',\n",
    "         color='steelblue',\n",
    "         edgecolor='none')"
   ]
  },
  {
   "cell_type": "code",
   "execution_count": null,
   "metadata": {
    "collapsed": true
   },
   "outputs": [],
   "source": []
  },
  {
   "cell_type": "code",
   "execution_count": 99,
   "metadata": {
    "collapsed": true
   },
   "outputs": [],
   "source": [
    "dataMonitor.set_index(['id', 'readableDateDays'], inplace=True)"
   ]
  },
  {
   "cell_type": "code",
   "execution_count": 100,
   "metadata": {},
   "outputs": [
    {
     "name": "stdout",
     "output_type": "stream",
     "text": [
      "                                                                                    body  \\\n",
      "id     readableDateDays                                                                    \n",
      "1301.0 2016-11-09        Power Failure  is running id 1301 | Monitoring... Power OK        \n",
      "       2016-11-10        Power Failure  is running id 1301 | Monitoring... Power Failure   \n",
      "       2016-11-11        Power Failure  is running id 1301 | Monitoring... Power Failure   \n",
      "       2016-11-11        Power Failure  is running id 1301 | Monitoring... Power OK        \n",
      "       2016-11-12        Power Failure  is running id 1301 | Monitoring... Power OK        \n",
      "\n",
      "                              readable_date  \n",
      "id     readableDateDays                      \n",
      "1301.0 2016-11-09       2016-11-09 21:24:59  \n",
      "       2016-11-10       2016-11-10 09:06:53  \n",
      "       2016-11-11       2016-11-11 09:07:10  \n",
      "       2016-11-11       2016-11-11 21:07:18  \n",
      "       2016-11-12       2016-11-12 21:07:30  \n"
     ]
    }
   ],
   "source": [
    "pd.set_option('display.max_colwidth', -1)\n",
    "print(dataMonitor[['body', 'readable_date']].head())\n",
    "pd.set_option('display.max_colwidth', 50)"
   ]
  },
  {
   "cell_type": "code",
   "execution_count": 101,
   "metadata": {
    "scrolled": false
   },
   "outputs": [
    {
     "data": {
      "text/html": [
       "<div>\n",
       "<table border=\"1\" class=\"dataframe\">\n",
       "  <thead>\n",
       "    <tr style=\"text-align: right;\">\n",
       "      <th></th>\n",
       "      <th>body</th>\n",
       "      <th>readable_date</th>\n",
       "      <th>dateCollectionStartDays</th>\n",
       "    </tr>\n",
       "  </thead>\n",
       "  <tbody>\n",
       "    <tr>\n",
       "      <th>0</th>\n",
       "      <td>Power Failure  is running id 1301 | Monitoring...</td>\n",
       "      <td>2016-10-19 10:11:54</td>\n",
       "      <td>2016-11-08</td>\n",
       "    </tr>\n",
       "    <tr>\n",
       "      <th>1</th>\n",
       "      <td>Power Failure  is running id 1301 | Monitoring...</td>\n",
       "      <td>2016-10-19 11:11:57</td>\n",
       "      <td>2016-11-08</td>\n",
       "    </tr>\n",
       "    <tr>\n",
       "      <th>2</th>\n",
       "      <td>Power Failure  is running id 1301 | Monitoring...</td>\n",
       "      <td>2016-10-19 12:11:57</td>\n",
       "      <td>2016-11-08</td>\n",
       "    </tr>\n",
       "    <tr>\n",
       "      <th>3</th>\n",
       "      <td>Power Failure  is running id 1301 | Monitoring...</td>\n",
       "      <td>2016-10-19 13:11:58</td>\n",
       "      <td>2016-11-08</td>\n",
       "    </tr>\n",
       "    <tr>\n",
       "      <th>4</th>\n",
       "      <td>Power Failure  is running id 1301 | Monitoring...</td>\n",
       "      <td>2016-10-19 14:12:28</td>\n",
       "      <td>2016-11-08</td>\n",
       "    </tr>\n",
       "    <tr>\n",
       "      <th>5</th>\n",
       "      <td>Power Failure  is running id 1301 | Monitoring...</td>\n",
       "      <td>2016-10-19 15:12:30</td>\n",
       "      <td>2016-11-08</td>\n",
       "    </tr>\n",
       "    <tr>\n",
       "      <th>6</th>\n",
       "      <td>Power Failure  is running id 1301 | Monitoring...</td>\n",
       "      <td>2016-10-19 16:12:31</td>\n",
       "      <td>2016-11-08</td>\n",
       "    </tr>\n",
       "    <tr>\n",
       "      <th>7</th>\n",
       "      <td>Power Failure  is running id 1301 | Monitoring...</td>\n",
       "      <td>2016-10-19 17:21:07</td>\n",
       "      <td>2016-11-08</td>\n",
       "    </tr>\n",
       "    <tr>\n",
       "      <th>8</th>\n",
       "      <td>Power Failure  is running id 1301 | Monitoring...</td>\n",
       "      <td>2016-10-19 18:41:05</td>\n",
       "      <td>2016-11-08</td>\n",
       "    </tr>\n",
       "    <tr>\n",
       "      <th>9</th>\n",
       "      <td>Power Failure  is running id 1301 | Monitoring...</td>\n",
       "      <td>2016-10-19 19:41:07</td>\n",
       "      <td>2016-11-08</td>\n",
       "    </tr>\n",
       "    <tr>\n",
       "      <th>10</th>\n",
       "      <td>Power Failure  is running id 1301 | Monitoring...</td>\n",
       "      <td>2016-10-19 20:41:08</td>\n",
       "      <td>2016-11-08</td>\n",
       "    </tr>\n",
       "    <tr>\n",
       "      <th>11</th>\n",
       "      <td>Power Failure  is running id 1301 | Monitoring...</td>\n",
       "      <td>2016-10-19 21:41:54</td>\n",
       "      <td>2016-11-08</td>\n",
       "    </tr>\n",
       "    <tr>\n",
       "      <th>12</th>\n",
       "      <td>Power Failure  is running id 1301 | Monitoring...</td>\n",
       "      <td>2016-10-19 22:41:56</td>\n",
       "      <td>2016-11-08</td>\n",
       "    </tr>\n",
       "    <tr>\n",
       "      <th>13</th>\n",
       "      <td>Power Failure  is running id 1301 | Monitoring...</td>\n",
       "      <td>2016-10-19 23:41:58</td>\n",
       "      <td>2016-11-08</td>\n",
       "    </tr>\n",
       "    <tr>\n",
       "      <th>14</th>\n",
       "      <td>Power Failure  is running id 1301 | Monitoring...</td>\n",
       "      <td>2016-10-20 00:42:00</td>\n",
       "      <td>2016-11-08</td>\n",
       "    </tr>\n",
       "    <tr>\n",
       "      <th>15</th>\n",
       "      <td>Power Failure  is running id 1301 | Monitoring...</td>\n",
       "      <td>2016-10-20 01:42:00</td>\n",
       "      <td>2016-11-08</td>\n",
       "    </tr>\n",
       "    <tr>\n",
       "      <th>16</th>\n",
       "      <td>Power Failure  is running id 1301 | Monitoring...</td>\n",
       "      <td>2016-10-20 02:42:34</td>\n",
       "      <td>2016-11-08</td>\n",
       "    </tr>\n",
       "    <tr>\n",
       "      <th>17</th>\n",
       "      <td>Power Failure  is running id 1301 | Monitoring...</td>\n",
       "      <td>2016-10-20 03:42:35</td>\n",
       "      <td>2016-11-08</td>\n",
       "    </tr>\n",
       "    <tr>\n",
       "      <th>18</th>\n",
       "      <td>Power Failure  is running id 1301 | Monitoring...</td>\n",
       "      <td>2016-10-20 04:42:35</td>\n",
       "      <td>2016-11-08</td>\n",
       "    </tr>\n",
       "    <tr>\n",
       "      <th>19</th>\n",
       "      <td>Power Failure  is running id 1301 | Monitoring...</td>\n",
       "      <td>2016-10-20 05:45:15</td>\n",
       "      <td>2016-11-08</td>\n",
       "    </tr>\n",
       "    <tr>\n",
       "      <th>20</th>\n",
       "      <td>Power Failure  is running id 1301 | Monitoring...</td>\n",
       "      <td>2016-10-20 07:01:09</td>\n",
       "      <td>2016-11-08</td>\n",
       "    </tr>\n",
       "    <tr>\n",
       "      <th>21</th>\n",
       "      <td>Power Failure  is running id 1301 | Monitoring...</td>\n",
       "      <td>2016-10-20 08:11:57</td>\n",
       "      <td>2016-11-08</td>\n",
       "    </tr>\n",
       "    <tr>\n",
       "      <th>22</th>\n",
       "      <td>Power Failure  is running id 1301 | Monitoring...</td>\n",
       "      <td>2016-10-20 09:11:57</td>\n",
       "      <td>2016-11-08</td>\n",
       "    </tr>\n",
       "    <tr>\n",
       "      <th>23</th>\n",
       "      <td>Power Failure  is running id 1301 | Monitoring...</td>\n",
       "      <td>2016-10-20 10:12:02</td>\n",
       "      <td>2016-11-08</td>\n",
       "    </tr>\n",
       "    <tr>\n",
       "      <th>24</th>\n",
       "      <td>Power Failure  is running id 1301 | Monitoring...</td>\n",
       "      <td>2016-10-20 11:12:02</td>\n",
       "      <td>2016-11-08</td>\n",
       "    </tr>\n",
       "    <tr>\n",
       "      <th>25</th>\n",
       "      <td>Power Failure  is running id 1301 | Monitoring...</td>\n",
       "      <td>2016-10-20 12:12:02</td>\n",
       "      <td>2016-11-08</td>\n",
       "    </tr>\n",
       "    <tr>\n",
       "      <th>26</th>\n",
       "      <td>Power Failure  is running id 1301 | Monitoring...</td>\n",
       "      <td>2016-10-20 13:12:38</td>\n",
       "      <td>2016-11-08</td>\n",
       "    </tr>\n",
       "    <tr>\n",
       "      <th>27</th>\n",
       "      <td>Power Failure  is running id 1301 | Monitoring...</td>\n",
       "      <td>2016-10-20 14:12:38</td>\n",
       "      <td>2016-11-08</td>\n",
       "    </tr>\n",
       "    <tr>\n",
       "      <th>28</th>\n",
       "      <td>Power Failure  is running id 1301 | Monitoring...</td>\n",
       "      <td>2016-10-20 15:12:39</td>\n",
       "      <td>2016-11-08</td>\n",
       "    </tr>\n",
       "    <tr>\n",
       "      <th>29</th>\n",
       "      <td>Power Failure  is running id 1301 | Monitoring...</td>\n",
       "      <td>2016-10-20 16:12:40</td>\n",
       "      <td>2016-11-08</td>\n",
       "    </tr>\n",
       "    <tr>\n",
       "      <th>...</th>\n",
       "      <td>...</td>\n",
       "      <td>...</td>\n",
       "      <td>...</td>\n",
       "    </tr>\n",
       "    <tr>\n",
       "      <th>469</th>\n",
       "      <td>Power Failure  is running id 1301 | Monitoring...</td>\n",
       "      <td>2017-02-21 11:20:05</td>\n",
       "      <td>2016-11-08</td>\n",
       "    </tr>\n",
       "    <tr>\n",
       "      <th>470</th>\n",
       "      <td>Power Failure  is running id 1301 | Monitoring...</td>\n",
       "      <td>2017-02-23 13:14:41</td>\n",
       "      <td>2016-11-08</td>\n",
       "    </tr>\n",
       "    <tr>\n",
       "      <th>471</th>\n",
       "      <td>Power Failure  is running id 1301 | Monitoring...</td>\n",
       "      <td>2017-02-24 02:52:38</td>\n",
       "      <td>2016-11-08</td>\n",
       "    </tr>\n",
       "    <tr>\n",
       "      <th>472</th>\n",
       "      <td>Power Failure  is running id 1301 | Monitoring...</td>\n",
       "      <td>2017-02-24 23:41:35</td>\n",
       "      <td>2016-11-08</td>\n",
       "    </tr>\n",
       "    <tr>\n",
       "      <th>473</th>\n",
       "      <td>Power Failure  is running id 1301 | Monitoring...</td>\n",
       "      <td>2017-02-25 11:39:13</td>\n",
       "      <td>2016-11-08</td>\n",
       "    </tr>\n",
       "    <tr>\n",
       "      <th>474</th>\n",
       "      <td>Power Failure detected. id 1301</td>\n",
       "      <td>2017-02-25 15:49:39</td>\n",
       "      <td>2016-11-08</td>\n",
       "    </tr>\n",
       "    <tr>\n",
       "      <th>475</th>\n",
       "      <td>Power Back detected. id 1301</td>\n",
       "      <td>2017-02-25 15:57:56</td>\n",
       "      <td>2016-11-08</td>\n",
       "    </tr>\n",
       "    <tr>\n",
       "      <th>476</th>\n",
       "      <td>Power Failure  is running id 1301 | Monitoring...</td>\n",
       "      <td>2017-02-25 23:31:48</td>\n",
       "      <td>2016-11-08</td>\n",
       "    </tr>\n",
       "    <tr>\n",
       "      <th>477</th>\n",
       "      <td>Power Failure  is running id 1301 | Monitoring...</td>\n",
       "      <td>2017-02-26 23:24:09</td>\n",
       "      <td>2016-11-08</td>\n",
       "    </tr>\n",
       "    <tr>\n",
       "      <th>478</th>\n",
       "      <td>Power Failure  is running id 1301 | Monitoring...</td>\n",
       "      <td>2017-02-27 11:20:32</td>\n",
       "      <td>2016-11-08</td>\n",
       "    </tr>\n",
       "    <tr>\n",
       "      <th>479</th>\n",
       "      <td>Power Failure  is running id 1301 | Monitoring...</td>\n",
       "      <td>2017-02-27 23:20:50</td>\n",
       "      <td>2016-11-08</td>\n",
       "    </tr>\n",
       "    <tr>\n",
       "      <th>480</th>\n",
       "      <td>Power Failure  is running id 1301 | Monitoring...</td>\n",
       "      <td>2017-03-02 11:21:06</td>\n",
       "      <td>2016-11-08</td>\n",
       "    </tr>\n",
       "    <tr>\n",
       "      <th>481</th>\n",
       "      <td>Power Failure  is running id 1301 | Monitoring...</td>\n",
       "      <td>2017-03-02 23:21:09</td>\n",
       "      <td>2016-11-08</td>\n",
       "    </tr>\n",
       "    <tr>\n",
       "      <th>482</th>\n",
       "      <td>Power Failure  is running id 1301 | Monitoring...</td>\n",
       "      <td>2017-03-03 11:23:43</td>\n",
       "      <td>2016-11-08</td>\n",
       "    </tr>\n",
       "    <tr>\n",
       "      <th>483</th>\n",
       "      <td>Power Failure  is running id 1301 | Monitoring...</td>\n",
       "      <td>2017-03-03 23:22:08</td>\n",
       "      <td>2016-11-08</td>\n",
       "    </tr>\n",
       "    <tr>\n",
       "      <th>484</th>\n",
       "      <td>Power Failure detected. id 1301</td>\n",
       "      <td>2017-03-04 14:53:15</td>\n",
       "      <td>2016-11-08</td>\n",
       "    </tr>\n",
       "    <tr>\n",
       "      <th>485</th>\n",
       "      <td>Power Back detected. id 1301</td>\n",
       "      <td>2017-03-04 17:17:24</td>\n",
       "      <td>2016-11-08</td>\n",
       "    </tr>\n",
       "    <tr>\n",
       "      <th>486</th>\n",
       "      <td>Power Failure  is running id 1301 | Monitoring...</td>\n",
       "      <td>2017-03-06 11:24:11</td>\n",
       "      <td>2016-11-08</td>\n",
       "    </tr>\n",
       "    <tr>\n",
       "      <th>487</th>\n",
       "      <td>Power Failure  is running id 1301 | Monitoring...</td>\n",
       "      <td>2017-03-06 23:22:53</td>\n",
       "      <td>2016-11-08</td>\n",
       "    </tr>\n",
       "    <tr>\n",
       "      <th>488</th>\n",
       "      <td>Power Failure  is running id 1301 | Monitoring...</td>\n",
       "      <td>2017-03-07 11:23:41</td>\n",
       "      <td>2016-11-08</td>\n",
       "    </tr>\n",
       "    <tr>\n",
       "      <th>489</th>\n",
       "      <td>Power Failure  is running id 1301 | Monitoring...</td>\n",
       "      <td>2017-03-08 12:06:37</td>\n",
       "      <td>2016-11-08</td>\n",
       "    </tr>\n",
       "    <tr>\n",
       "      <th>490</th>\n",
       "      <td>Power Failure  is running id 1301 | Monitoring...</td>\n",
       "      <td>2017-03-11 12:04:48</td>\n",
       "      <td>2016-11-08</td>\n",
       "    </tr>\n",
       "    <tr>\n",
       "      <th>491</th>\n",
       "      <td>Power Failure  is running id 1301 | Monitoring...</td>\n",
       "      <td>2017-03-11 23:50:28</td>\n",
       "      <td>2016-11-08</td>\n",
       "    </tr>\n",
       "    <tr>\n",
       "      <th>492</th>\n",
       "      <td>Power Failure  is running id 1301 | Monitoring...</td>\n",
       "      <td>2017-03-12 11:53:44</td>\n",
       "      <td>2016-11-08</td>\n",
       "    </tr>\n",
       "    <tr>\n",
       "      <th>493</th>\n",
       "      <td>Power Failure detected. id 1301</td>\n",
       "      <td>2017-03-14 10:25:32</td>\n",
       "      <td>2016-11-08</td>\n",
       "    </tr>\n",
       "    <tr>\n",
       "      <th>494</th>\n",
       "      <td>Power Back detected. id 1301</td>\n",
       "      <td>2017-03-14 12:41:31</td>\n",
       "      <td>2016-11-08</td>\n",
       "    </tr>\n",
       "    <tr>\n",
       "      <th>495</th>\n",
       "      <td>Power Failure  is running id 1301 | Monitoring...</td>\n",
       "      <td>2017-03-14 19:33:41</td>\n",
       "      <td>2016-11-08</td>\n",
       "    </tr>\n",
       "    <tr>\n",
       "      <th>496</th>\n",
       "      <td>Power Failure  is running id 1301 | Monitoring...</td>\n",
       "      <td>2017-03-17 18:43:40</td>\n",
       "      <td>2016-11-08</td>\n",
       "    </tr>\n",
       "    <tr>\n",
       "      <th>497</th>\n",
       "      <td>Power Failure  is running id 1301 | Monitoring...</td>\n",
       "      <td>2017-03-19 18:56:34</td>\n",
       "      <td>2016-11-08</td>\n",
       "    </tr>\n",
       "    <tr>\n",
       "      <th>498</th>\n",
       "      <td>Power Failure  is running id 1301 | Monitoring...</td>\n",
       "      <td>2017-03-23 06:26:52</td>\n",
       "      <td>2016-11-08</td>\n",
       "    </tr>\n",
       "  </tbody>\n",
       "</table>\n",
       "<p>499 rows × 3 columns</p>\n",
       "</div>"
      ],
      "text/plain": [
       "                                                  body       readable_date  \\\n",
       "0    Power Failure  is running id 1301 | Monitoring... 2016-10-19 10:11:54   \n",
       "1    Power Failure  is running id 1301 | Monitoring... 2016-10-19 11:11:57   \n",
       "2    Power Failure  is running id 1301 | Monitoring... 2016-10-19 12:11:57   \n",
       "3    Power Failure  is running id 1301 | Monitoring... 2016-10-19 13:11:58   \n",
       "4    Power Failure  is running id 1301 | Monitoring... 2016-10-19 14:12:28   \n",
       "5    Power Failure  is running id 1301 | Monitoring... 2016-10-19 15:12:30   \n",
       "6    Power Failure  is running id 1301 | Monitoring... 2016-10-19 16:12:31   \n",
       "7    Power Failure  is running id 1301 | Monitoring... 2016-10-19 17:21:07   \n",
       "8    Power Failure  is running id 1301 | Monitoring... 2016-10-19 18:41:05   \n",
       "9    Power Failure  is running id 1301 | Monitoring... 2016-10-19 19:41:07   \n",
       "10   Power Failure  is running id 1301 | Monitoring... 2016-10-19 20:41:08   \n",
       "11   Power Failure  is running id 1301 | Monitoring... 2016-10-19 21:41:54   \n",
       "12   Power Failure  is running id 1301 | Monitoring... 2016-10-19 22:41:56   \n",
       "13   Power Failure  is running id 1301 | Monitoring... 2016-10-19 23:41:58   \n",
       "14   Power Failure  is running id 1301 | Monitoring... 2016-10-20 00:42:00   \n",
       "15   Power Failure  is running id 1301 | Monitoring... 2016-10-20 01:42:00   \n",
       "16   Power Failure  is running id 1301 | Monitoring... 2016-10-20 02:42:34   \n",
       "17   Power Failure  is running id 1301 | Monitoring... 2016-10-20 03:42:35   \n",
       "18   Power Failure  is running id 1301 | Monitoring... 2016-10-20 04:42:35   \n",
       "19   Power Failure  is running id 1301 | Monitoring... 2016-10-20 05:45:15   \n",
       "20   Power Failure  is running id 1301 | Monitoring... 2016-10-20 07:01:09   \n",
       "21   Power Failure  is running id 1301 | Monitoring... 2016-10-20 08:11:57   \n",
       "22   Power Failure  is running id 1301 | Monitoring... 2016-10-20 09:11:57   \n",
       "23   Power Failure  is running id 1301 | Monitoring... 2016-10-20 10:12:02   \n",
       "24   Power Failure  is running id 1301 | Monitoring... 2016-10-20 11:12:02   \n",
       "25   Power Failure  is running id 1301 | Monitoring... 2016-10-20 12:12:02   \n",
       "26   Power Failure  is running id 1301 | Monitoring... 2016-10-20 13:12:38   \n",
       "27   Power Failure  is running id 1301 | Monitoring... 2016-10-20 14:12:38   \n",
       "28   Power Failure  is running id 1301 | Monitoring... 2016-10-20 15:12:39   \n",
       "29   Power Failure  is running id 1301 | Monitoring... 2016-10-20 16:12:40   \n",
       "..                                                 ...                 ...   \n",
       "469  Power Failure  is running id 1301 | Monitoring... 2017-02-21 11:20:05   \n",
       "470  Power Failure  is running id 1301 | Monitoring... 2017-02-23 13:14:41   \n",
       "471  Power Failure  is running id 1301 | Monitoring... 2017-02-24 02:52:38   \n",
       "472  Power Failure  is running id 1301 | Monitoring... 2017-02-24 23:41:35   \n",
       "473  Power Failure  is running id 1301 | Monitoring... 2017-02-25 11:39:13   \n",
       "474                    Power Failure detected. id 1301 2017-02-25 15:49:39   \n",
       "475                       Power Back detected. id 1301 2017-02-25 15:57:56   \n",
       "476  Power Failure  is running id 1301 | Monitoring... 2017-02-25 23:31:48   \n",
       "477  Power Failure  is running id 1301 | Monitoring... 2017-02-26 23:24:09   \n",
       "478  Power Failure  is running id 1301 | Monitoring... 2017-02-27 11:20:32   \n",
       "479  Power Failure  is running id 1301 | Monitoring... 2017-02-27 23:20:50   \n",
       "480  Power Failure  is running id 1301 | Monitoring... 2017-03-02 11:21:06   \n",
       "481  Power Failure  is running id 1301 | Monitoring... 2017-03-02 23:21:09   \n",
       "482  Power Failure  is running id 1301 | Monitoring... 2017-03-03 11:23:43   \n",
       "483  Power Failure  is running id 1301 | Monitoring... 2017-03-03 23:22:08   \n",
       "484                    Power Failure detected. id 1301 2017-03-04 14:53:15   \n",
       "485                       Power Back detected. id 1301 2017-03-04 17:17:24   \n",
       "486  Power Failure  is running id 1301 | Monitoring... 2017-03-06 11:24:11   \n",
       "487  Power Failure  is running id 1301 | Monitoring... 2017-03-06 23:22:53   \n",
       "488  Power Failure  is running id 1301 | Monitoring... 2017-03-07 11:23:41   \n",
       "489  Power Failure  is running id 1301 | Monitoring... 2017-03-08 12:06:37   \n",
       "490  Power Failure  is running id 1301 | Monitoring... 2017-03-11 12:04:48   \n",
       "491  Power Failure  is running id 1301 | Monitoring... 2017-03-11 23:50:28   \n",
       "492  Power Failure  is running id 1301 | Monitoring... 2017-03-12 11:53:44   \n",
       "493                    Power Failure detected. id 1301 2017-03-14 10:25:32   \n",
       "494                       Power Back detected. id 1301 2017-03-14 12:41:31   \n",
       "495  Power Failure  is running id 1301 | Monitoring... 2017-03-14 19:33:41   \n",
       "496  Power Failure  is running id 1301 | Monitoring... 2017-03-17 18:43:40   \n",
       "497  Power Failure  is running id 1301 | Monitoring... 2017-03-19 18:56:34   \n",
       "498  Power Failure  is running id 1301 | Monitoring... 2017-03-23 06:26:52   \n",
       "\n",
       "    dateCollectionStartDays  \n",
       "0                2016-11-08  \n",
       "1                2016-11-08  \n",
       "2                2016-11-08  \n",
       "3                2016-11-08  \n",
       "4                2016-11-08  \n",
       "5                2016-11-08  \n",
       "6                2016-11-08  \n",
       "7                2016-11-08  \n",
       "8                2016-11-08  \n",
       "9                2016-11-08  \n",
       "10               2016-11-08  \n",
       "11               2016-11-08  \n",
       "12               2016-11-08  \n",
       "13               2016-11-08  \n",
       "14               2016-11-08  \n",
       "15               2016-11-08  \n",
       "16               2016-11-08  \n",
       "17               2016-11-08  \n",
       "18               2016-11-08  \n",
       "19               2016-11-08  \n",
       "20               2016-11-08  \n",
       "21               2016-11-08  \n",
       "22               2016-11-08  \n",
       "23               2016-11-08  \n",
       "24               2016-11-08  \n",
       "25               2016-11-08  \n",
       "26               2016-11-08  \n",
       "27               2016-11-08  \n",
       "28               2016-11-08  \n",
       "29               2016-11-08  \n",
       "..                      ...  \n",
       "469              2016-11-08  \n",
       "470              2016-11-08  \n",
       "471              2016-11-08  \n",
       "472              2016-11-08  \n",
       "473              2016-11-08  \n",
       "474              2016-11-08  \n",
       "475              2016-11-08  \n",
       "476              2016-11-08  \n",
       "477              2016-11-08  \n",
       "478              2016-11-08  \n",
       "479              2016-11-08  \n",
       "480              2016-11-08  \n",
       "481              2016-11-08  \n",
       "482              2016-11-08  \n",
       "483              2016-11-08  \n",
       "484              2016-11-08  \n",
       "485              2016-11-08  \n",
       "486              2016-11-08  \n",
       "487              2016-11-08  \n",
       "488              2016-11-08  \n",
       "489              2016-11-08  \n",
       "490              2016-11-08  \n",
       "491              2016-11-08  \n",
       "492              2016-11-08  \n",
       "493              2016-11-08  \n",
       "494              2016-11-08  \n",
       "495              2016-11-08  \n",
       "496              2016-11-08  \n",
       "497              2016-11-08  \n",
       "498              2016-11-08  \n",
       "\n",
       "[499 rows x 3 columns]"
      ]
     },
     "execution_count": 101,
     "metadata": {},
     "output_type": "execute_result"
    }
   ],
   "source": [
    "data[['body', 'readable_date', 'dateCollectionStartDays']][(data['id'] == 1301)].sort_index()"
   ]
  },
  {
   "cell_type": "code",
   "execution_count": 108,
   "metadata": {},
   "outputs": [
    {
     "data": {
      "text/plain": [
       "'\\n//Identify purpose of message\\n100   g pback = regexm(body, \"Power Back detected\")\\n101   g pfail = regexm(body, \"Power Failure detected\")\\n102   g pfail_mon = regexm(body, \"Monitoring... Power Failure\")\\n103   g pon_mon = regexm(body, \"Monitoring... Power OK\")\\n104   g test = regexm(body, \"Test SMS\")\\n105   replace test =1 if message1==\"Test\"\\n106   g alive = 0\\n107   replace alive = 1 if pfail_mon == 1\\n108   replace alive = 1 if pon_mon == 1\\n109 \\n110   g pback2 = regexm(body, \"Power Back.\")\\n111   replace pback = 1 if pback2==1 & test==0\\n112 \\n113   g pfail2 = regexm(body, \"Power Failure. ID 1043\")\\n114   g pfail3 = regexm(body, \"Power Failure. ID 1281\")\\n115   replace pfail = 1 if pfail2 == 1\\n116   replace pfail = 1 if pfail3 == 1\\n'"
      ]
     },
     "execution_count": 108,
     "metadata": {},
     "output_type": "execute_result"
    }
   ],
   "source": [
    "\"\"\"\n",
    "//Identify purpose of message\n",
    "100   g pback = regexm(body, \"Power Back detected\")\n",
    "101   g pfail = regexm(body, \"Power Failure detected\")\n",
    "102   g pfail_mon = regexm(body, \"Monitoring... Power Failure\")\n",
    "103   g pon_mon = regexm(body, \"Monitoring... Power OK\")\n",
    "104   g test = regexm(body, \"Test SMS\")\n",
    "105   replace test =1 if message1==\"Test\"\n",
    "106   g alive = 0\n",
    "107   replace alive = 1 if pfail_mon == 1\n",
    "108   replace alive = 1 if pon_mon == 1\n",
    "109 \n",
    "110   g pback2 = regexm(body, \"Power Back.\")\n",
    "111   replace pback = 1 if pback2==1 & test==0\n",
    "112 \n",
    "113   g pfail2 = regexm(body, \"Power Failure. ID 1043\")\n",
    "114   g pfail3 = regexm(body, \"Power Failure. ID 1281\")\n",
    "115   replace pfail = 1 if pfail2 == 1\n",
    "116   replace pfail = 1 if pfail3 == 1\n",
    "\"\"\""
   ]
  },
  {
   "cell_type": "code",
   "execution_count": null,
   "metadata": {
    "collapsed": true
   },
   "outputs": [],
   "source": []
  },
  {
   "cell_type": "code",
   "execution_count": 102,
   "metadata": {
    "collapsed": true
   },
   "outputs": [],
   "source": [
    "test = dataMonitor.copy()\n",
    "test.reset_index(inplace=True)\n",
    "#test.set_index(['id', 'readable_date'], inplace=True)"
   ]
  },
  {
   "cell_type": "code",
   "execution_count": null,
   "metadata": {
    "collapsed": true,
    "scrolled": false
   },
   "outputs": [],
   "source": []
  },
  {
   "cell_type": "code",
   "execution_count": 103,
   "metadata": {},
   "outputs": [
    {
     "data": {
      "text/html": [
       "<div>\n",
       "<table border=\"1\" class=\"dataframe\">\n",
       "  <thead>\n",
       "    <tr style=\"text-align: right;\">\n",
       "      <th></th>\n",
       "      <th>address</th>\n",
       "    </tr>\n",
       "  </thead>\n",
       "  <tbody>\n",
       "    <tr>\n",
       "      <th>count</th>\n",
       "      <td>275.000000</td>\n",
       "    </tr>\n",
       "    <tr>\n",
       "      <th>mean</th>\n",
       "      <td>194.432727</td>\n",
       "    </tr>\n",
       "    <tr>\n",
       "      <th>std</th>\n",
       "      <td>93.847358</td>\n",
       "    </tr>\n",
       "    <tr>\n",
       "      <th>min</th>\n",
       "      <td>1.000000</td>\n",
       "    </tr>\n",
       "    <tr>\n",
       "      <th>25%</th>\n",
       "      <td>133.500000</td>\n",
       "    </tr>\n",
       "    <tr>\n",
       "      <th>50%</th>\n",
       "      <td>213.000000</td>\n",
       "    </tr>\n",
       "    <tr>\n",
       "      <th>75%</th>\n",
       "      <td>246.500000</td>\n",
       "    </tr>\n",
       "    <tr>\n",
       "      <th>max</th>\n",
       "      <td>505.000000</td>\n",
       "    </tr>\n",
       "  </tbody>\n",
       "</table>\n",
       "</div>"
      ],
      "text/plain": [
       "          address\n",
       "count  275.000000\n",
       "mean   194.432727\n",
       "std     93.847358\n",
       "min      1.000000\n",
       "25%    133.500000\n",
       "50%    213.000000\n",
       "75%    246.500000\n",
       "max    505.000000"
      ]
     },
     "execution_count": 103,
     "metadata": {},
     "output_type": "execute_result"
    }
   ],
   "source": [
    "boxCount = test[['id', 'address']].groupby('id').count()\n",
    "boxCount.describe()"
   ]
  },
  {
   "cell_type": "code",
   "execution_count": 104,
   "metadata": {},
   "outputs": [
    {
     "data": {
      "text/html": [
       "<div>\n",
       "<table border=\"1\" class=\"dataframe\">\n",
       "  <thead>\n",
       "    <tr style=\"text-align: right;\">\n",
       "      <th></th>\n",
       "      <th>address</th>\n",
       "    </tr>\n",
       "  </thead>\n",
       "  <tbody>\n",
       "    <tr>\n",
       "      <th>count</th>\n",
       "      <td>25628.000000</td>\n",
       "    </tr>\n",
       "    <tr>\n",
       "      <th>mean</th>\n",
       "      <td>2.086351</td>\n",
       "    </tr>\n",
       "    <tr>\n",
       "      <th>std</th>\n",
       "      <td>0.669241</td>\n",
       "    </tr>\n",
       "    <tr>\n",
       "      <th>min</th>\n",
       "      <td>1.000000</td>\n",
       "    </tr>\n",
       "    <tr>\n",
       "      <th>25%</th>\n",
       "      <td>2.000000</td>\n",
       "    </tr>\n",
       "    <tr>\n",
       "      <th>50%</th>\n",
       "      <td>2.000000</td>\n",
       "    </tr>\n",
       "    <tr>\n",
       "      <th>75%</th>\n",
       "      <td>2.000000</td>\n",
       "    </tr>\n",
       "    <tr>\n",
       "      <th>max</th>\n",
       "      <td>6.000000</td>\n",
       "    </tr>\n",
       "  </tbody>\n",
       "</table>\n",
       "</div>"
      ],
      "text/plain": [
       "            address\n",
       "count  25628.000000\n",
       "mean       2.086351\n",
       "std        0.669241\n",
       "min        1.000000\n",
       "25%        2.000000\n",
       "50%        2.000000\n",
       "75%        2.000000\n",
       "max        6.000000"
      ]
     },
     "execution_count": 104,
     "metadata": {},
     "output_type": "execute_result"
    }
   ],
   "source": [
    "boxDateCount = test[['id', 'readableDateDays', 'address']].groupby(['id', 'readableDateDays']).count()\n",
    "boxDateCount.describe()"
   ]
  },
  {
   "cell_type": "code",
   "execution_count": 105,
   "metadata": {},
   "outputs": [
    {
     "data": {
      "text/plain": [
       "(228, 134)"
      ]
     },
     "execution_count": 105,
     "metadata": {},
     "output_type": "execute_result"
    }
   ],
   "source": [
    "boxDateCount[boxDateCount['address'] > 2].unstack('readableDateDays').shape"
   ]
  },
  {
   "cell_type": "code",
   "execution_count": 106,
   "metadata": {
    "collapsed": true
   },
   "outputs": [],
   "source": [
    "daySpan = pd.DataFrame(np.array(dataMonitor.reset_index()['readableDateDays'].min(), dtype=np.datetime64\n",
    "                  ) + np.arange(int((dataMonitor.reset_index()['readableDateDays'].max() - \n",
    "                                 dataMonitor.reset_index()['readableDateDays'].min()) / np.timedelta64(1,'D') + 1)))\n"
   ]
  },
  {
   "cell_type": "code",
   "execution_count": 107,
   "metadata": {},
   "outputs": [
    {
     "name": "stdout",
     "output_type": "stream",
     "text": [
      "2016-10-22 00:00:00 2017-03-23 00:00:00\n",
      "           0\n",
      "0 2016-10-22\n",
      "1 2016-10-23\n",
      "2 2016-10-24\n",
      "3 2016-10-25\n",
      "4 2016-10-26              0\n",
      "148 2017-03-19\n",
      "149 2017-03-20\n",
      "150 2017-03-21\n",
      "151 2017-03-22\n",
      "152 2017-03-23\n"
     ]
    }
   ],
   "source": [
    "print(dataMonitor.reset_index()['readableDateDays'].min(), dataMonitor.reset_index()['readableDateDays'].max())\n",
    "print(daySpan.head(), daySpan.tail())"
   ]
  },
  {
   "cell_type": "code",
   "execution_count": 108,
   "metadata": {},
   "outputs": [
    {
     "data": {
      "text/html": [
       "<div>\n",
       "<table border=\"1\" class=\"dataframe\">\n",
       "  <thead>\n",
       "    <tr style=\"text-align: right;\">\n",
       "      <th></th>\n",
       "      <th>id</th>\n",
       "      <th>readableDateDays</th>\n",
       "      <th>address_fill</th>\n",
       "    </tr>\n",
       "  </thead>\n",
       "  <tbody>\n",
       "    <tr>\n",
       "      <th>0</th>\n",
       "      <td>1001.0</td>\n",
       "      <td>2016-10-22</td>\n",
       "      <td>0</td>\n",
       "    </tr>\n",
       "    <tr>\n",
       "      <th>1</th>\n",
       "      <td>1001.0</td>\n",
       "      <td>2016-10-23</td>\n",
       "      <td>0</td>\n",
       "    </tr>\n",
       "    <tr>\n",
       "      <th>2</th>\n",
       "      <td>1001.0</td>\n",
       "      <td>2016-10-24</td>\n",
       "      <td>0</td>\n",
       "    </tr>\n",
       "    <tr>\n",
       "      <th>3</th>\n",
       "      <td>1001.0</td>\n",
       "      <td>2016-10-25</td>\n",
       "      <td>0</td>\n",
       "    </tr>\n",
       "    <tr>\n",
       "      <th>4</th>\n",
       "      <td>1001.0</td>\n",
       "      <td>2016-10-26</td>\n",
       "      <td>0</td>\n",
       "    </tr>\n",
       "  </tbody>\n",
       "</table>\n",
       "</div>"
      ],
      "text/plain": [
       "       id readableDateDays  address_fill\n",
       "0  1001.0       2016-10-22             0\n",
       "1  1001.0       2016-10-23             0\n",
       "2  1001.0       2016-10-24             0\n",
       "3  1001.0       2016-10-25             0\n",
       "4  1001.0       2016-10-26             0"
      ]
     },
     "execution_count": 108,
     "metadata": {},
     "output_type": "execute_result"
    }
   ],
   "source": [
    "forMerge = pd.MultiIndex.from_product([boxDateCount.reset_index()['id'].drop_duplicates(), daySpan], names=['id', 'readableDateDays'])\n",
    "dataForMerge = pd.DataFrame([0] * forMerge.shape[0], columns = ['address_fill'], index=forMerge).reset_index()\n",
    "dataForMerge.head()"
   ]
  },
  {
   "cell_type": "code",
   "execution_count": 109,
   "metadata": {
    "collapsed": true
   },
   "outputs": [],
   "source": [
    "boxDateCount = dataForMerge.merge(boxDateCount.reset_index(), how='outer')"
   ]
  },
  {
   "cell_type": "code",
   "execution_count": 110,
   "metadata": {
    "collapsed": true
   },
   "outputs": [],
   "source": [
    "boxDateCount['address'] = boxDateCount['address'].where(boxDateCount['address'].notnull(), 0)\n",
    "boxDateCount.drop('address_fill', inplace=True, axis =1)"
   ]
  },
  {
   "cell_type": "code",
   "execution_count": 69,
   "metadata": {
    "scrolled": false
   },
   "outputs": [
    {
     "data": {
      "image/png": "[encoded data removed]",
      "text/plain": [
       "<matplotlib.figure.Figure at 0x7f818e2f5518>"
      ]
     },
     "metadata": {},
     "output_type": "display_data"
    }
   ],
   "source": [
    "fig, ax = plt.subplots(17, 17, figsize=(30, 15), sharex='col', sharey='row')\n",
    "boxId = list(boxDateCount['id'].drop_duplicates())\n",
    "\n",
    "for row in range(17):\n",
    "    for column in range(17):\n",
    "        if row * 17 + column < 275:\n",
    "            thisBox = boxId.pop()\n",
    "            thisHist = boxDateCount[boxDateCount['id'] == thisBox]\n",
    "            ax[row, column].bar(range(thisHist['address'].shape[0]), thisHist['address'])\n",
    "            ax[row, column].text(1, 1, str(int(thisBox)), fontsize=18, ha='center')\n",
    "fig.savefig('fooNumber.png', bbox_inches='tight')"
   ]
  },
  {
   "cell_type": "code",
   "execution_count": null,
   "metadata": {
    "collapsed": true
   },
   "outputs": [],
   "source": []
  },
  {
   "cell_type": "code",
   "execution_count": 70,
   "metadata": {},
   "outputs": [
    {
     "data": {
      "image/png": "[encoded data removed]",
      "text/plain": [
       "<matplotlib.figure.Figure at 0x7f818897b828>"
      ]
     },
     "metadata": {},
     "output_type": "display_data"
    }
   ],
   "source": [
    "fig2, ax2 = plt.subplots(2, 2, figsize=(30, 15), sharex='col', sharey='row')\n",
    "forGraph = boxDateCount.reset_index()\n",
    "boxId = list(forGraph['id'].drop_duplicates())\n",
    "\n",
    "for row in range(2):\n",
    "    for column in range(2):\n",
    "        thisBox = boxId.pop()\n",
    "        thisHist = forGraph[forGraph['id'] == thisBox]\n",
    "        ax2[row, column].bar(range(thisHist['address'].shape[0]), thisHist['address'])\n",
    "        ax2[row, column].text(1, 1, str(int(thisBox)), fontsize=24, ha='center')\n",
    "\n",
    "fig2.savefig('foo2.png', bbox_inches='tight')"
   ]
  },
  {
   "cell_type": "code",
   "execution_count": 111,
   "metadata": {
    "collapsed": true
   },
   "outputs": [],
   "source": [
    "data.to_pickle('data.pandas')\n",
    "dataMonitor.to_pickle('dataMonitor.pandas')"
   ]
  },
  {
   "cell_type": "code",
   "execution_count": null,
   "metadata": {
    "collapsed": true
   },
   "outputs": [],
   "source": []
  },
  {
   "cell_type": "code",
   "execution_count": null,
   "metadata": {
    "collapsed": true
   },
   "outputs": [],
   "source": []
  },
  {
   "cell_type": "code",
   "execution_count": null,
   "metadata": {
    "collapsed": true
   },
   "outputs": [],
   "source": []
  }
 ],
 "metadata": {
  "kernelspec": {
   "display_name": "Python 3",
   "language": "python",
   "name": "python3"
  },
  "language_info": {
   "codemirror_mode": {
    "name": "ipython",
    "version": 3
   },
   "file_extension": ".py",
   "mimetype": "text/x-python",
   "name": "python",
   "nbconvert_exporter": "python",
   "pygments_lexer": "ipython3",
   "version": "3.5.1"
  }
 },
 "nbformat": 4,
 "nbformat_minor": 2
}
