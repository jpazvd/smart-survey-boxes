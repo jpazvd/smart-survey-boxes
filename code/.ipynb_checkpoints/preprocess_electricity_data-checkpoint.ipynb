{
 "cells": [
  {
   "cell_type": "markdown",
   "metadata": {},
   "source": [
    "**Eletricity Data**\n",
    "======================"
   ]
  },
  {
   "cell_type": "markdown",
   "metadata": {},
   "source": [
    "**Set up Working Directory**\n",
    "============================="
   ]
  },
  {
   "cell_type": "code",
   "execution_count": 13,
   "metadata": {
    "collapsed": true
   },
   "outputs": [],
   "source": [
    "#Import packages\n",
    "import pytz\n",
    "import pandas as pd\n",
    "import numpy as np\n",
    "from datetime import datetime, date, time, timedelta\n",
    "import re\n",
    "from IPython.display import Image"
   ]
  },
  {
   "cell_type": "code",
   "execution_count": 14,
   "metadata": {
    "collapsed": true
   },
   "outputs": [],
   "source": [
    "#Set up Working Directory and Data Files\n",
    "#Set up Working Directory and Data Files\n",
    "drive = 'G'\n",
    "if drive == 'G':\n",
    "    data_dir = '../01.data/'\n",
    "    output_dir = '../05.outputs/'\n",
    "else:\n",
    "    data_dir = '..\\\\01.data\\\\'"
   ]
  },
  {
   "cell_type": "code",
   "execution_count": 15,
   "metadata": {
    "scrolled": true
   },
   "outputs": [
    {
     "name": "stdout",
     "output_type": "stream",
     "text": [
      "Reading data.......\n"
     ]
    },
    {
     "name": "stderr",
     "output_type": "stream",
     "text": [
      "/Library/Frameworks/Python.framework/Versions/3.5/lib/python3.5/site-packages/IPython/core/interactiveshell.py:2717: DtypeWarning: Columns (4,11) have mixed types. Specify dtype option on import or set low_memory=False.\n",
      "  interactivity=interactivity, compiler=compiler, result=result)\n"
     ]
    }
   ],
   "source": [
    "#Read in Data\n",
    "print (\"Reading data.......\")\n",
    "x = pd.read_csv(data_dir + 'sms.csv',dtype={'readable_date': str})"
   ]
  },
  {
   "cell_type": "code",
   "execution_count": 16,
   "metadata": {
    "collapsed": true
   },
   "outputs": [],
   "source": [
    "#Drop unwanted columns\n",
    "drop = ['sc_toa','read','status','locked', 'type',\n",
    "        'subject','backup_date','protocol', 'date',\n",
    "        'type', 'contact_name', 'service_center', \n",
    "        'backup_set']\n",
    "x.drop(drop,inplace=True,axis=1)"
   ]
  },
  {
   "cell_type": "code",
   "execution_count": 17,
   "metadata": {
    "collapsed": true
   },
   "outputs": [],
   "source": [
    "#xorrect dates based on length of readable_date entry\n",
    "def correct_dates(s):\n",
    "    if len (s) == 24:\n",
    "        return '12/'+ s[:2]+'/2016' + ' ' + s[-8:]\n",
    "    elif len (s) == 23:\n",
    "        return '12/'+ s[:2]+'/2016' + ' ' + '0'+ s[-7:]\n",
    "    else:\n",
    "        return s"
   ]
  },
  {
   "cell_type": "markdown",
   "metadata": {},
   "source": [
    "**So readable date refers to date_sent or date_received (which isnt available here) Whats this date for?**"
   ]
  },
  {
   "cell_type": "code",
   "execution_count": 18,
   "metadata": {},
   "outputs": [
    {
     "name": "stdout",
     "output_type": "stream",
     "text": [
      "19    144406\n",
      "Name: date_len, dtype: int64\n"
     ]
    }
   ],
   "source": [
    "#Check dates and correct bad Dec, 2016 dates\n",
    "x['readable_date'] = x.apply(lambda r: correct_dates(r['readable_date']),axis=1)\n",
    "\n",
    "#Whats the time zone of time received-EDT?\n",
    "x['datetime_rcvd'] = x.apply(lambda x: pd.datetime.strptime(x['readable_date'], '%m/%d/%Y %H:%M:%S'), axis=1)\n",
    "\n",
    "#Set tizeone to 'America/New_York (EDT)-this is failing, need to know the time zone\n",
    "#QUESTION: Clarify on time zones\n",
    "#edt = pytz.timezone('America/New_York')\n",
    "#x['datetime_rcvd'].tz_localize (tz = edt)\n",
    "\n",
    "#Check again after corrections\n",
    "x['date_len'] = x.apply(lambda x: len(x['readable_date']),axis=1)\n",
    "print (x.date_len.value_counts())\n",
    "x.drop(['date_len'],inplace=True,axis=1)\n",
    "\n",
    "#create datetime-sent\n",
    "stata_refdt = datetime.strptime(\"1/1/1960 00:00:00\", '%m/%d/%Y %H:%M:%S')\n",
    "\n",
    "#The constant 315637200000 is being added as some kind of offset based on stata code\n",
    "x['datetime_sent'] = x.apply(lambda r: stata_refdt + timedelta(milliseconds = r['date_sent']+315637200000),axis=1)"
   ]
  },
  {
   "cell_type": "code",
   "execution_count": 19,
   "metadata": {},
   "outputs": [
    {
     "data": {
      "text/html": [
       "<div>\n",
       "<table border=\"1\" class=\"dataframe\">\n",
       "  <thead>\n",
       "    <tr style=\"text-align: right;\">\n",
       "      <th></th>\n",
       "      <th>count</th>\n",
       "      <th>address</th>\n",
       "      <th>body</th>\n",
       "      <th>toa</th>\n",
       "      <th>date_sent</th>\n",
       "      <th>readable_date</th>\n",
       "      <th>datetime_rcvd</th>\n",
       "      <th>datetime_sent</th>\n",
       "    </tr>\n",
       "  </thead>\n",
       "  <tbody>\n",
       "    <tr>\n",
       "      <th>0</th>\n",
       "      <td>144406</td>\n",
       "      <td>992935710546</td>\n",
       "      <td>Power Failure  is running id 1301 | Monitoring...</td>\n",
       "      <td>null</td>\n",
       "      <td>1.476850e+12</td>\n",
       "      <td>10/19/2016 10:11:54</td>\n",
       "      <td>2016-10-19 10:11:54</td>\n",
       "      <td>2016-10-19 09:06:40</td>\n",
       "    </tr>\n",
       "    <tr>\n",
       "      <th>1</th>\n",
       "      <td>144406</td>\n",
       "      <td>992935710929</td>\n",
       "      <td>Power Failure  is running id 1018 | Monitoring...</td>\n",
       "      <td>null</td>\n",
       "      <td>1.476850e+12</td>\n",
       "      <td>10/19/2016 10:12:07</td>\n",
       "      <td>2016-10-19 10:12:07</td>\n",
       "      <td>2016-10-19 09:06:40</td>\n",
       "    </tr>\n",
       "    <tr>\n",
       "      <th>2</th>\n",
       "      <td>144406</td>\n",
       "      <td>992935710544</td>\n",
       "      <td>Power Failure  is running id 1063 | Monitoring...</td>\n",
       "      <td>null</td>\n",
       "      <td>1.476850e+12</td>\n",
       "      <td>10/19/2016 10:12:34</td>\n",
       "      <td>2016-10-19 10:12:34</td>\n",
       "      <td>2016-10-19 09:06:40</td>\n",
       "    </tr>\n",
       "    <tr>\n",
       "      <th>3</th>\n",
       "      <td>144406</td>\n",
       "      <td>992935710596</td>\n",
       "      <td>Power Failure  is running id 1016 | Monitoring...</td>\n",
       "      <td>null</td>\n",
       "      <td>1.476850e+12</td>\n",
       "      <td>10/19/2016 10:14:22</td>\n",
       "      <td>2016-10-19 10:14:22</td>\n",
       "      <td>2016-10-19 09:06:40</td>\n",
       "    </tr>\n",
       "    <tr>\n",
       "      <th>4</th>\n",
       "      <td>144406</td>\n",
       "      <td>992935710849</td>\n",
       "      <td>Power Failure  is running id 1043 | Monitoring...</td>\n",
       "      <td>null</td>\n",
       "      <td>1.476850e+12</td>\n",
       "      <td>10/19/2016 10:14:38</td>\n",
       "      <td>2016-10-19 10:14:38</td>\n",
       "      <td>2016-10-19 09:06:40</td>\n",
       "    </tr>\n",
       "  </tbody>\n",
       "</table>\n",
       "</div>"
      ],
      "text/plain": [
       "    count       address                                               body  \\\n",
       "0  144406  992935710546  Power Failure  is running id 1301 | Monitoring...   \n",
       "1  144406  992935710929  Power Failure  is running id 1018 | Monitoring...   \n",
       "2  144406  992935710544  Power Failure  is running id 1063 | Monitoring...   \n",
       "3  144406  992935710596  Power Failure  is running id 1016 | Monitoring...   \n",
       "4  144406  992935710849  Power Failure  is running id 1043 | Monitoring...   \n",
       "\n",
       "    toa     date_sent        readable_date       datetime_rcvd  \\\n",
       "0  null  1.476850e+12  10/19/2016 10:11:54 2016-10-19 10:11:54   \n",
       "1  null  1.476850e+12  10/19/2016 10:12:07 2016-10-19 10:12:07   \n",
       "2  null  1.476850e+12  10/19/2016 10:12:34 2016-10-19 10:12:34   \n",
       "3  null  1.476850e+12  10/19/2016 10:14:22 2016-10-19 10:14:22   \n",
       "4  null  1.476850e+12  10/19/2016 10:14:38 2016-10-19 10:14:38   \n",
       "\n",
       "        datetime_sent  \n",
       "0 2016-10-19 09:06:40  \n",
       "1 2016-10-19 09:06:40  \n",
       "2 2016-10-19 09:06:40  \n",
       "3 2016-10-19 09:06:40  \n",
       "4 2016-10-19 09:06:40  "
      ]
     },
     "execution_count": 19,
     "metadata": {},
     "output_type": "execute_result"
    }
   ],
   "source": [
    "x.head()"
   ]
  },
  {
   "cell_type": "code",
   "execution_count": 20,
   "metadata": {},
   "outputs": [
    {
     "data": {
      "text/plain": [
       "count                  144406\n",
       "unique                 141477\n",
       "top       2016-10-30 05:00:07\n",
       "freq                        8\n",
       "first     2016-10-19 10:11:54\n",
       "last      2017-03-23 16:58:24\n",
       "Name: datetime_rcvd, dtype: object"
      ]
     },
     "execution_count": 20,
     "metadata": {},
     "output_type": "execute_result"
    }
   ],
   "source": [
    "x.datetime_rcvd.describe()"
   ]
  },
  {
   "cell_type": "code",
   "execution_count": 21,
   "metadata": {
    "collapsed": true
   },
   "outputs": [],
   "source": [
    "#Add phonenumber: so this is phone number the \n",
    "x.ix[x.address=='Tcell',['address']] = 0\n",
    "x['phone_number'] = pd.to_numeric(x['address'])"
   ]
  },
  {
   "cell_type": "code",
   "execution_count": 22,
   "metadata": {
    "collapsed": true
   },
   "outputs": [],
   "source": [
    "#Split message body into two parts\n",
    "def split_message (str,i):\n",
    "    if \"|\" in str:\n",
    "        msgs = str.split('|')\n",
    "        return msgs [i]\n",
    "    elif \":\" in str:\n",
    "        msgs = str.split(':')\n",
    "        return msgs [i]\n",
    "    else:\n",
    "        return 'body'"
   ]
  },
  {
   "cell_type": "code",
   "execution_count": 23,
   "metadata": {
    "collapsed": true
   },
   "outputs": [],
   "source": [
    "#Split messages\n",
    "x['body_1'] = x.apply (lambda x: split_message (x['body'],0),axis=1)\n",
    "x['body_2'] = x.apply (lambda x: split_message (x['body'],1),axis=1)"
   ]
  },
  {
   "cell_type": "code",
   "execution_count": 24,
   "metadata": {},
   "outputs": [
    {
     "name": "stdout",
     "output_type": "stream",
     "text": [
      "450 - Test SMS from Power Failure Monitor:Power Failure  is running ID\n",
      "3165 - Power Back detected.\n",
      "3167 - Power Back detected.\n",
      "35018 - Test\n",
      "49961 - ??????? ????? ?????? ??????? ???. ??????? ?????? ??? ???????????\n",
      "103643 - Test SMS from Power Failure Monitor:Power Failure detected. Il\n",
      "143801 - ?????\n",
      "143802 - ?????????\n",
      "143805 - ??????? ????? ?????? ??????? ???. ??????? ?????? ??? ???????????\n"
     ]
    },
    {
     "data": {
      "text/html": [
       "<div>\n",
       "<table border=\"1\" class=\"dataframe\">\n",
       "  <thead>\n",
       "    <tr style=\"text-align: right;\">\n",
       "      <th></th>\n",
       "      <th>count</th>\n",
       "      <th>address</th>\n",
       "      <th>body</th>\n",
       "      <th>toa</th>\n",
       "      <th>date_sent</th>\n",
       "      <th>readable_date</th>\n",
       "      <th>datetime_rcvd</th>\n",
       "      <th>datetime_sent</th>\n",
       "      <th>phone_number</th>\n",
       "      <th>body_1</th>\n",
       "      <th>body_2</th>\n",
       "    </tr>\n",
       "  </thead>\n",
       "  <tbody>\n",
       "    <tr>\n",
       "      <th>450</th>\n",
       "      <td>144406</td>\n",
       "      <td>992935711044</td>\n",
       "      <td>Test SMS from Power Failure Monitor:Power Fail...</td>\n",
       "      <td>null</td>\n",
       "      <td>1.476880e+12</td>\n",
       "      <td>10/19/2016 17:10:08</td>\n",
       "      <td>2016-10-19 17:10:08</td>\n",
       "      <td>2016-10-19 17:26:40</td>\n",
       "      <td>992935711044</td>\n",
       "      <td>Test SMS from Power Failure Monitor</td>\n",
       "      <td>Power Failure  is running ID</td>\n",
       "    </tr>\n",
       "    <tr>\n",
       "      <th>3165</th>\n",
       "      <td>144406</td>\n",
       "      <td>992935710834</td>\n",
       "      <td>Power Back detected.</td>\n",
       "      <td>null</td>\n",
       "      <td>1.477040e+12</td>\n",
       "      <td>10/21/2016 13:50:19</td>\n",
       "      <td>2016-10-21 13:50:19</td>\n",
       "      <td>2016-10-21 13:53:20</td>\n",
       "      <td>992935710834</td>\n",
       "      <td>body</td>\n",
       "      <td>body</td>\n",
       "    </tr>\n",
       "    <tr>\n",
       "      <th>3167</th>\n",
       "      <td>144406</td>\n",
       "      <td>992935710834</td>\n",
       "      <td>Power Back detected.</td>\n",
       "      <td>null</td>\n",
       "      <td>1.477040e+12</td>\n",
       "      <td>10/21/2016 13:51:07</td>\n",
       "      <td>2016-10-21 13:51:07</td>\n",
       "      <td>2016-10-21 13:53:20</td>\n",
       "      <td>992935710834</td>\n",
       "      <td>body</td>\n",
       "      <td>body</td>\n",
       "    </tr>\n",
       "    <tr>\n",
       "      <th>35018</th>\n",
       "      <td>144406</td>\n",
       "      <td>+992938303656</td>\n",
       "      <td>Test</td>\n",
       "      <td>null</td>\n",
       "      <td>1.481120e+12</td>\n",
       "      <td>12/07/2016 18:29:39</td>\n",
       "      <td>2016-12-07 18:29:39</td>\n",
       "      <td>2016-12-07 19:13:20</td>\n",
       "      <td>992938303656</td>\n",
       "      <td>body</td>\n",
       "      <td>body</td>\n",
       "    </tr>\n",
       "    <tr>\n",
       "      <th>49961</th>\n",
       "      <td>144406</td>\n",
       "      <td>+992935821825</td>\n",
       "      <td>??????? ????? ?????? ??????? ???. ??????? ????...</td>\n",
       "      <td>null</td>\n",
       "      <td>1.482030e+12</td>\n",
       "      <td>12/18/2016 08:52:30</td>\n",
       "      <td>2016-12-18 08:52:30</td>\n",
       "      <td>2016-12-18 08:00:00</td>\n",
       "      <td>992935821825</td>\n",
       "      <td>body</td>\n",
       "      <td>body</td>\n",
       "    </tr>\n",
       "    <tr>\n",
       "      <th>103643</th>\n",
       "      <td>144406</td>\n",
       "      <td>992935710316</td>\n",
       "      <td>Test SMS from Power Failure Monitor:Power Fail...</td>\n",
       "      <td>null</td>\n",
       "      <td>1.486200e+12</td>\n",
       "      <td>02/04/2017 13:55:39</td>\n",
       "      <td>2017-02-04 13:55:39</td>\n",
       "      <td>2017-02-04 14:20:00</td>\n",
       "      <td>992935710316</td>\n",
       "      <td>Test SMS from Power Failure Monitor</td>\n",
       "      <td>Power Failure detected. Il</td>\n",
       "    </tr>\n",
       "    <tr>\n",
       "      <th>143801</th>\n",
       "      <td>144406</td>\n",
       "      <td>938303656</td>\n",
       "      <td>?????</td>\n",
       "      <td>null</td>\n",
       "      <td>0.000000e+00</td>\n",
       "      <td>03/22/2017 16:57:26</td>\n",
       "      <td>2017-03-22 16:57:26</td>\n",
       "      <td>1970-01-01 05:00:00</td>\n",
       "      <td>938303656</td>\n",
       "      <td>body</td>\n",
       "      <td>body</td>\n",
       "    </tr>\n",
       "    <tr>\n",
       "      <th>143802</th>\n",
       "      <td>144406</td>\n",
       "      <td>938303656</td>\n",
       "      <td>?????????</td>\n",
       "      <td>null</td>\n",
       "      <td>0.000000e+00</td>\n",
       "      <td>03/22/2017 16:57:43</td>\n",
       "      <td>2017-03-22 16:57:43</td>\n",
       "      <td>1970-01-01 05:00:00</td>\n",
       "      <td>938303656</td>\n",
       "      <td>body</td>\n",
       "      <td>body</td>\n",
       "    </tr>\n",
       "    <tr>\n",
       "      <th>143805</th>\n",
       "      <td>144406</td>\n",
       "      <td>+992938303656</td>\n",
       "      <td>??????? ????? ?????? ??????? ???. ??????? ????...</td>\n",
       "      <td>null</td>\n",
       "      <td>1.490190e+12</td>\n",
       "      <td>03/22/2017 17:29:22</td>\n",
       "      <td>2017-03-22 17:29:22</td>\n",
       "      <td>2017-03-22 18:40:00</td>\n",
       "      <td>992938303656</td>\n",
       "      <td>body</td>\n",
       "      <td>body</td>\n",
       "    </tr>\n",
       "  </tbody>\n",
       "</table>\n",
       "</div>"
      ],
      "text/plain": [
       "         count        address  \\\n",
       "450     144406   992935711044   \n",
       "3165    144406   992935710834   \n",
       "3167    144406   992935710834   \n",
       "35018   144406  +992938303656   \n",
       "49961   144406  +992935821825   \n",
       "103643  144406   992935710316   \n",
       "143801  144406      938303656   \n",
       "143802  144406      938303656   \n",
       "143805  144406  +992938303656   \n",
       "\n",
       "                                                     body   toa     date_sent  \\\n",
       "450     Test SMS from Power Failure Monitor:Power Fail...  null  1.476880e+12   \n",
       "3165                                 Power Back detected.  null  1.477040e+12   \n",
       "3167                                 Power Back detected.  null  1.477040e+12   \n",
       "35018                                                Test  null  1.481120e+12   \n",
       "49961   ??????? ????? ?????? ??????? ???. ??????? ????...  null  1.482030e+12   \n",
       "103643  Test SMS from Power Failure Monitor:Power Fail...  null  1.486200e+12   \n",
       "143801                                              ?????  null  0.000000e+00   \n",
       "143802                                          ?????????  null  0.000000e+00   \n",
       "143805  ??????? ????? ?????? ??????? ???. ??????? ????...  null  1.490190e+12   \n",
       "\n",
       "              readable_date       datetime_rcvd       datetime_sent  \\\n",
       "450     10/19/2016 17:10:08 2016-10-19 17:10:08 2016-10-19 17:26:40   \n",
       "3165    10/21/2016 13:50:19 2016-10-21 13:50:19 2016-10-21 13:53:20   \n",
       "3167    10/21/2016 13:51:07 2016-10-21 13:51:07 2016-10-21 13:53:20   \n",
       "35018   12/07/2016 18:29:39 2016-12-07 18:29:39 2016-12-07 19:13:20   \n",
       "49961   12/18/2016 08:52:30 2016-12-18 08:52:30 2016-12-18 08:00:00   \n",
       "103643  02/04/2017 13:55:39 2017-02-04 13:55:39 2017-02-04 14:20:00   \n",
       "143801  03/22/2017 16:57:26 2017-03-22 16:57:26 1970-01-01 05:00:00   \n",
       "143802  03/22/2017 16:57:43 2017-03-22 16:57:43 1970-01-01 05:00:00   \n",
       "143805  03/22/2017 17:29:22 2017-03-22 17:29:22 2017-03-22 18:40:00   \n",
       "\n",
       "        phone_number                               body_1  \\\n",
       "450     992935711044  Test SMS from Power Failure Monitor   \n",
       "3165    992935710834                                 body   \n",
       "3167    992935710834                                 body   \n",
       "35018   992938303656                                 body   \n",
       "49961   992935821825                                 body   \n",
       "103643  992935710316  Test SMS from Power Failure Monitor   \n",
       "143801     938303656                                 body   \n",
       "143802     938303656                                 body   \n",
       "143805  992938303656                                 body   \n",
       "\n",
       "                              body_2  \n",
       "450     Power Failure  is running ID  \n",
       "3165                            body  \n",
       "3167                            body  \n",
       "35018                           body  \n",
       "49961                           body  \n",
       "103643    Power Failure detected. Il  \n",
       "143801                          body  \n",
       "143802                          body  \n",
       "143805                          body  "
      ]
     },
     "execution_count": 24,
     "metadata": {},
     "output_type": "execute_result"
    }
   ],
   "source": [
    "#Remove rows without Device ID\n",
    "msg = x.body\n",
    "to_drop = []\n",
    "device_id = {}\n",
    "for i,b in enumerate(msg):\n",
    "    str = re.findall(r'\\d+', b)\n",
    "    if len(str)<1:\n",
    "         print (i,'-', b)\n",
    "         to_drop.append(i)\n",
    "    else:\n",
    "        device_id [i] = str[0]\n",
    "    \n",
    "\n",
    "#Check the rows to be remnoved\n",
    "x.iloc[to_drop]"
   ]
  },
  {
   "cell_type": "code",
   "execution_count": 25,
   "metadata": {},
   "outputs": [
    {
     "name": "stdout",
     "output_type": "stream",
     "text": [
      "We are dropping 9 rows with no device ID info\n"
     ]
    }
   ],
   "source": [
    "#Drop the rows now and add deviucxe id\n",
    "print ('We are dropping %s rows with no device ID info'%len(to_drop))\n",
    "x.drop(x.index[to_drop],inplace=True)\n",
    "\n",
    "df_device_id = pd.DataFrame.from_dict(device_id, orient='index')\n",
    "df_device_id.columns = ['device_id']\n",
    "#Join device id with original df\n",
    "x2 = pd.concat([x,df_device_id],axis=1, join='inner')\n",
    "x = x2"
   ]
  },
  {
   "cell_type": "code",
   "execution_count": 26,
   "metadata": {
    "collapsed": true
   },
   "outputs": [],
   "source": [
    "#Type of Message\n",
    "def detect_message(row):\n",
    "    if row['body'][:4]=='Test' or 'Test SMS' in row['body']:\n",
    "        return 'test'\n",
    "    elif row ['body_2'] == ' Monitoring... Power OK':\n",
    "            return 'pon_mon'\n",
    "    elif row ['body_2'] == ' Monitoring... Power Failure':\n",
    "            return 'pfail_mon'\n",
    "    elif row['body'][:19]== 'Power Back detected' or row ['body'][:10]== 'Power Back':\n",
    "            return 'pback'\n",
    "    elif row ['body'][:22]== 'Power Failure detected' or row ['body'][:13]== 'Power Failure':\n",
    "            return 'pfail'\n",
    "    else:\n",
    "        return 'None'"
   ]
  },
  {
   "cell_type": "code",
   "execution_count": 27,
   "metadata": {
    "scrolled": true
   },
   "outputs": [
    {
     "name": "stdout",
     "output_type": "stream",
     "text": [
      "Lets check messageb types...\n",
      " pon_mon      42907\n",
      "pfail        42021\n",
      "pback        40662\n",
      "pfail_mon    17531\n",
      "test          1273\n",
      "None             3\n",
      "Name: msg, dtype: int64\n",
      "         count       address  \\\n",
      "46063   144406             0   \n",
      "77533   144406  992938809973   \n",
      "143989  144406             0   \n",
      "\n",
      "                                                     body   toa     date_sent  \\\n",
      "46063   ???????? ????????, ???????? ???? ????? ?461640...  null  1.481790e+12   \n",
      "77533   ??????? +992938809973 ?? ???? 1 ??? ???? ???  ...  null  1.483940e+12   \n",
      "143989  ???????? ????????, ?? ?????? ???? ???????? ???...  null  1.490210e+12   \n",
      "\n",
      "              readable_date       datetime_rcvd       datetime_sent  \\\n",
      "46063   12/15/2016 12:02:38 2016-12-15 12:02:38 2016-12-15 13:20:00   \n",
      "77533   01/09/2017 14:37:15 2017-01-09 14:37:15 2017-01-09 10:33:20   \n",
      "143989  03/23/2017 01:11:05 2017-03-23 01:11:05 2017-03-23 00:13:20   \n",
      "\n",
      "        phone_number                                            body_1 body_2  \\\n",
      "46063              0                                              body   body   \n",
      "77533   992938809973  ??????? +992938809973 ?? ???? 1 ??? ???? ???  10     26   \n",
      "143989             0                                              body   body   \n",
      "\n",
      "           device_id   msg  \n",
      "46063         461640  None  \n",
      "77533   992938809973  None  \n",
      "143989             0  None  \n"
     ]
    }
   ],
   "source": [
    "#Generate message type variable\n",
    "x['msg'] = x.apply(lambda r: detect_message(r),axis=1)\n",
    "\n",
    "print ('Lets check messageb types...' + '\\n', x.msg.value_counts())\n",
    "\n",
    "#Drop rows with gibberish messages like below\n",
    "print (x[x.msg=='None'].head())\n",
    "\n",
    "#Drop rows with gibberish messages like below: only 2\n",
    "x = x[x.msg != 'None']"
   ]
  },
  {
   "cell_type": "code",
   "execution_count": 28,
   "metadata": {},
   "outputs": [
    {
     "data": {
      "text/plain": [
       "pon_mon      42907\n",
       "pfail        42021\n",
       "pback        40662\n",
       "pfail_mon    17531\n",
       "test          1273\n",
       "Name: msg, dtype: int64"
      ]
     },
     "execution_count": 28,
     "metadata": {},
     "output_type": "execute_result"
    }
   ],
   "source": [
    "x.msg.value_counts()"
   ]
  },
  {
   "cell_type": "code",
   "execution_count": 29,
   "metadata": {
    "collapsed": true
   },
   "outputs": [],
   "source": [
    "#Drop rows where message is test\n",
    "x = x[x.msg!='test']"
   ]
  },
  {
   "cell_type": "code",
   "execution_count": 30,
   "metadata": {},
   "outputs": [
    {
     "data": {
      "text/plain": [
       "(143121, 13)"
      ]
     },
     "execution_count": 30,
     "metadata": {},
     "output_type": "execute_result"
    }
   ],
   "source": [
    "x.shape"
   ]
  },
  {
   "cell_type": "code",
   "execution_count": 31,
   "metadata": {
    "collapsed": true
   },
   "outputs": [],
   "source": [
    "#Alive-variable to indicate whether box is alive or not\n",
    "#QUESTION: How about power back, shouldnt it also be alive?\n",
    "x[\"alive\"] = 0\n",
    "x.ix[x.msg==\"pfail_mon\", ['alive']] = 1\n",
    "x.ix[x.msg==\"pon_mon\", ['alive']] = 1"
   ]
  },
  {
   "cell_type": "code",
   "execution_count": 32,
   "metadata": {
    "collapsed": true
   },
   "outputs": [],
   "source": [
    "#Generate variables\n",
    "def message_type(msg):\n",
    "    if msg == 'pback':\n",
    "        return 1\n",
    "    elif msg == 'pfail':\n",
    "        return 2\n",
    "    elif msg == 'pfail_mon':\n",
    "        return 3\n",
    "    elif msg == 'pon_mon':\n",
    "        return 4"
   ]
  },
  {
   "cell_type": "code",
   "execution_count": 33,
   "metadata": {
    "collapsed": true
   },
   "outputs": [],
   "source": [
    "#Message type-is the scale important here\n",
    "x['msg_num'] = x.apply(lambda row: message_type(row['msg']), axis = 1)"
   ]
  },
  {
   "cell_type": "code",
   "execution_count": 34,
   "metadata": {},
   "outputs": [
    {
     "name": "stdout",
     "output_type": "stream",
     "text": [
      "Before dropping duplicates.... (143121, 15)\n",
      "After dropping duplicates.... (143100, 15)\n"
     ]
    }
   ],
   "source": [
    "#Check duplicates and drop duplicates\n",
    "print (\"Before dropping duplicates....\", x.shape)\n",
    "x.drop_duplicates(subset=['device_id', 'body', 'readable_date'], keep = 'first', inplace=True)\n",
    "print (\"After dropping duplicates....\", x.shape)"
   ]
  },
  {
   "cell_type": "code",
   "execution_count": 35,
   "metadata": {},
   "outputs": [
    {
     "name": "stdout",
     "output_type": "stream",
     "text": [
      "Before dropping duplicates.... (143100, 15)\n",
      "After dropping duplicates.... (143100, 15)\n",
      "After dropping duplicates.... (143100, 15)\n"
     ]
    }
   ],
   "source": [
    "#Check duplicates and drop duplicates\n",
    "print (\"Before dropping duplicates....\", x.shape)\n",
    "x.drop_duplicates(subset=['device_id', 'body', 'readable_date'], keep = 'first', inplace=True)\n",
    "print (\"After dropping duplicates....\", x.shape)\n",
    "\n",
    "#print (\"Before dropping duplicates....\", x2.shape)\n",
    "x.drop_duplicates(subset=['device_id', 'datetime_rcvd'], keep = 'first', inplace=True)\n",
    "print (\"After dropping duplicates....\", x.shape)"
   ]
  },
  {
   "cell_type": "code",
   "execution_count": 36,
   "metadata": {},
   "outputs": [
    {
     "data": {
      "text/plain": [
       "300"
      ]
     },
     "execution_count": 36,
     "metadata": {},
     "output_type": "execute_result"
    }
   ],
   "source": [
    "len (x.device_id.unique())"
   ]
  },
  {
   "cell_type": "code",
   "execution_count": 40,
   "metadata": {
    "collapsed": true
   },
   "outputs": [],
   "source": [
    "#Save this dataset as sms2\n",
    "vars = ['device_id', 'datetime_rcvd','datetime_sent','body','msg','msg_num']\n",
    "\n",
    "x = x[vars]\n",
    "\n",
    "x.to_csv(data_dir + 'smsV2.csv',index=False)"
   ]
  },
  {
   "cell_type": "code",
   "execution_count": null,
   "metadata": {
    "collapsed": true
   },
   "outputs": [],
   "source": []
  }
 ],
 "metadata": {
  "kernelspec": {
   "display_name": "Python 3",
   "language": "python",
   "name": "python3"
  },
  "language_info": {
   "codemirror_mode": {
    "name": "ipython",
    "version": 3
   },
   "file_extension": ".py",
   "mimetype": "text/x-python",
   "name": "python",
   "nbconvert_exporter": "python",
   "pygments_lexer": "ipython3",
   "version": "3.5.1"
  }
 },
 "nbformat": 4,
 "nbformat_minor": 2
}
