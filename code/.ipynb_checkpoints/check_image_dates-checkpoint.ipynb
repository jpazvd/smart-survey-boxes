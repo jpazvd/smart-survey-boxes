{
 "cells": [
  {
   "cell_type": "code",
   "execution_count": 35,
   "metadata": {
    "collapsed": false
   },
   "outputs": [],
   "source": [
    "import os\n",
    "import zipfile\n",
    "import pandas as pd"
   ]
  },
  {
   "cell_type": "code",
   "execution_count": 10,
   "metadata": {
    "collapsed": true
   },
   "outputs": [],
   "source": [
    "img_dir = '..\\\\01.data\\\\images_from_noaa'"
   ]
  },
  {
   "cell_type": "code",
   "execution_count": null,
   "metadata": {
    "collapsed": false
   },
   "outputs": [],
   "source": [
    "#Unzip folders\n",
    "for root, dirs, filenames in os.walk(img_dir):\n",
    "    #Extract zip files\n",
    "    for f in filenames:\n",
    "        #unzip files\n",
    "        path_to_zip_file = root + '\\\\' + f\n",
    "        print ( path_to_zip_file)\n",
    "        extract_to = root + '\\\\' + f[:-4]\n",
    "        if not os.path.exists(extract_to):\n",
    "            extract_to = os.makedirs(extract_to)\n",
    "       \n",
    "        zip_ref = zipfile.ZipFile(path_to_zip_file, 'r')\n",
    "        zip_ref.extractall(extract_to)\n",
    "        zip_ref.close()"
   ]
  },
  {
   "cell_type": "code",
   "execution_count": 83,
   "metadata": {
    "collapsed": false
   },
   "outputs": [
    {
     "name": "stdout",
     "output_type": "stream",
     "text": [
      "Number of images-317\n"
     ]
    }
   ],
   "source": [
    "#Get details of images\n",
    "folders = []\n",
    "data = []\n",
    "img_cnt = 0 \n",
    "\n",
    "for entry in os.scandir(img_dir):\n",
    "    if entry.is_dir():\n",
    "        folders.append(entry.path)\n",
    "\n",
    "for fd in folders:\n",
    "    for entry in os.scandir(fd):\n",
    "        if entry.is_file():\n",
    "            if f[-3:] == 'tif':\n",
    "                img_cnt += 1\n",
    "            f = entry.name\n",
    "            data.append ({'ext': f[-3:],'ts': f[11:19] + ' ' + f[21:27],\"te\": f[11:19] + ' ' + f[30:36]})\n",
    "\n",
    "#create dataframe\n",
    "print ('Number of images-%s'%img_cnt)\n",
    "df = pd.DataFrame(data)\n",
    "#print (df)\n",
    "\n",
    "df['ts'] =  pd.to_datetime(df['ts'], format='%Y%m%d %H%M%S')\n",
    "df['te'] =  pd.to_datetime(df['te'], format='%Y%m%d %H%M%S')         "
   ]
  }
 ],
 "metadata": {
  "kernelspec": {
   "display_name": "Python 3",
   "language": "python",
   "name": "python3"
  },
  "language_info": {
   "codemirror_mode": {
    "name": "ipython",
    "version": 3
   },
   "file_extension": ".py",
   "mimetype": "text/x-python",
   "name": "python",
   "nbconvert_exporter": "python",
   "pygments_lexer": "ipython3",
   "version": "3.6.0"
  }
 },
 "nbformat": 4,
 "nbformat_minor": 2
}
