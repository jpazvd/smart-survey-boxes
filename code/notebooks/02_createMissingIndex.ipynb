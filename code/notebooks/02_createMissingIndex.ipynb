{
 "cells": [
  {
   "cell_type": "code",
   "execution_count": 1,
   "metadata": {
    "collapsed": true
   },
   "outputs": [],
   "source": [
    "%matplotlib inline\n",
    "import pandas as pd\n",
    "import numpy as np\n",
    "import matplotlib.pyplot as plt\n",
    "import seaborn as sns"
   ]
  },
  {
   "cell_type": "code",
   "execution_count": 2,
   "metadata": {
    "collapsed": true
   },
   "outputs": [],
   "source": [
    "data = pd.read_pickle('data.pandas')"
   ]
  },
  {
   "cell_type": "code",
   "execution_count": 3,
   "metadata": {},
   "outputs": [
    {
     "data": {
      "text/plain": [
       "address                            object\n",
       "body                               object\n",
       "date_sent                  datetime64[ns]\n",
       "readable_date              datetime64[ns]\n",
       "service_center                     object\n",
       "read                                int64\n",
       "type                                int64\n",
       "id                                float64\n",
       "ClusterId                         float64\n",
       "DistrictCity                       object\n",
       "Jamoat                             object\n",
       "DateCollectionStart                object\n",
       "MONEY                             float64\n",
       "DATE                               object\n",
       "COUNT                             float64\n",
       "PSU_ID                            float64\n",
       "URB_RUR                            object\n",
       "REGION                             object\n",
       "DISTRICT                           object\n",
       "LONG                              float64\n",
       "LAT                               float64\n",
       "dateCollectionStartDays            object\n",
       "_merge                           category\n",
       "dtype: object"
      ]
     },
     "execution_count": 3,
     "metadata": {},
     "output_type": "execute_result"
    }
   ],
   "source": [
    "data.dtypes"
   ]
  },
  {
   "cell_type": "code",
   "execution_count": 4,
   "metadata": {
    "collapsed": true
   },
   "outputs": [],
   "source": [
    "data['dateSentDays'] = data['date_sent'].dt.date\n",
    "data['dateCollectionStartDays'] = pd.to_datetime(data['DateCollectionStart'], infer_datetime_format=True).dt.date\n",
    "data = data[data['dateSentDays'] >= data['dateCollectionStartDays']]"
   ]
  },
  {
   "cell_type": "code",
   "execution_count": 5,
   "metadata": {},
   "outputs": [
    {
     "data": {
      "text/plain": [
       "count                  129622\n",
       "unique                 117421\n",
       "top       2017-01-15 19:22:50\n",
       "freq                       15\n",
       "first     2016-10-19 17:28:36\n",
       "last      2017-03-23 16:56:32\n",
       "Name: date_sent, dtype: object"
      ]
     },
     "execution_count": 5,
     "metadata": {},
     "output_type": "execute_result"
    }
   ],
   "source": [
    "data.date_sent.describe()"
   ]
  },
  {
   "cell_type": "code",
   "execution_count": 6,
   "metadata": {},
   "outputs": [
    {
     "data": {
      "text/plain": [
       "count                    129622\n",
       "mean     0 days 00:47:14.937549\n",
       "std      0 days 03:35:44.991749\n",
       "min             0 days 00:00:00\n",
       "25%             0 days 00:00:04\n",
       "50%             0 days 00:00:08\n",
       "75%             0 days 00:02:02\n",
       "max             1 days 22:38:48\n",
       "dtype: object"
      ]
     },
     "execution_count": 6,
     "metadata": {},
     "output_type": "execute_result"
    }
   ],
   "source": [
    "timeStampDiff = data['readable_date']- data['date_sent']\n",
    "timeStampDiff.describe()"
   ]
  },
  {
   "cell_type": "code",
   "execution_count": 57,
   "metadata": {
    "collapsed": true
   },
   "outputs": [],
   "source": [
    "# Still after eliminating records with date_sent = 0, there are differences of almost two days"
   ]
  },
  {
   "cell_type": "code",
   "execution_count": 7,
   "metadata": {},
   "outputs": [
    {
     "name": "stdout",
     "output_type": "stream",
     "text": [
      "Number of messages with at least one hour diff:  10249\n",
      "Number of messages with at least one day diff:  525\n"
     ]
    }
   ],
   "source": [
    "print('Number of messages with at least one hour diff: ', timeStampDiff[timeStampDiff > pd.to_timedelta(1, 'h')].count())\n",
    "print('Number of messages with at least one day diff: ', timeStampDiff[timeStampDiff > pd.to_timedelta(1, 'D')].count())"
   ]
  },
  {
   "cell_type": "code",
   "execution_count": 59,
   "metadata": {},
   "outputs": [
    {
     "data": {
      "text/plain": [
       "id           445\n",
       "date_sent    445\n",
       "body         445\n",
       "dtype: int64"
      ]
     },
     "execution_count": 59,
     "metadata": {},
     "output_type": "execute_result"
    }
   ],
   "source": [
    "# This will change to a loop over boxes\n",
    "box = data[['id', 'date_sent', 'body']][data['id'] == 1301]\n",
    "box.count()"
   ]
  },
  {
   "cell_type": "code",
   "execution_count": 60,
   "metadata": {
    "collapsed": true
   },
   "outputs": [],
   "source": [
    "start = box['date_sent'].min()\n",
    "end = box['date_sent'].max()\n",
    "fullHour = pd.DatetimeIndex(freq='H', start=start, end=end + pd.to_timedelta(1, 'H'), closed=None).floor('H')"
   ]
  },
  {
   "cell_type": "code",
   "execution_count": 61,
   "metadata": {
    "collapsed": true
   },
   "outputs": [],
   "source": [
    "box.set_index('date_sent', drop=True, inplace=True)\n",
    "box.index = box.index.floor('H') # But doing this can create two records in the same hour\n",
    "box.reset_index(inplace=True)"
   ]
  },
  {
   "cell_type": "code",
   "execution_count": 62,
   "metadata": {
    "collapsed": true
   },
   "outputs": [],
   "source": [
    "boxNoDup = pd.DataFrame(box[['id', 'date_sent']].groupby('date_sent').count(), copy=True)\n",
    "boxNoDup = boxNoDup.reindex(fullHour, fill_value=0)"
   ]
  },
  {
   "cell_type": "code",
   "execution_count": 63,
   "metadata": {
    "collapsed": true
   },
   "outputs": [],
   "source": [
    "boxNoDup['countDayLeading'] = boxNoDup['id'].rolling(window=24, min_periods=1).sum()\n",
    "boxNoDup['countDayLeading'] = boxNoDup['countDayLeading'] - boxNoDup['id'] # to avoid double counting that hour\n",
    "\n",
    "boxNoDup['countDayTrailing'] = boxNoDup['countDayLeading'].tshift(-23)\n",
    "boxNoDup.loc[(boxNoDup.index.max() - pd.to_timedelta(23, 'H')):, 'countDayTrailing'] = \\\n",
    "    [sum(boxNoDup['id'].loc[boxNoDup.index.max() - pd.to_timedelta(23 - i, 'H'):]) for i in range(24)]\n",
    "\n",
    "boxNoDup['missingHour'] = (boxNoDup['countDayTrailing'] + (boxNoDup['countDayLeading']) < 2)"
   ]
  },
  {
   "cell_type": "code",
   "execution_count": 64,
   "metadata": {},
   "outputs": [
    {
     "data": {
      "text/plain": [
       "0.2068111455108359"
      ]
     },
     "execution_count": 64,
     "metadata": {},
     "output_type": "execute_result"
    }
   ],
   "source": [
    "boxNoDup['missingHour'].sum() / boxNoDup.shape[0]"
   ]
  },
  {
   "cell_type": "code",
   "execution_count": 8,
   "metadata": {
    "collapsed": true
   },
   "outputs": [],
   "source": [
    "def countMissingHours(boxId=1301, hrsAround=24, data=data):\n",
    "    \n",
    "    box = data[['id', 'date_sent', 'body']][data['id'] == boxId]\n",
    "    \n",
    "    try:\n",
    "        \n",
    "        start = box['date_sent'].min()\n",
    "        end = box['date_sent'].max()\n",
    "        fullHour = pd.DatetimeIndex(freq='H', start=start, end=end + pd.to_timedelta(1, 'H'), closed=None).floor('H')\n",
    "\n",
    "        box.set_index('date_sent', drop=True, inplace=True)\n",
    "        box.index = box.index.floor('H') # But doing this can create two records in the same hour\n",
    "        box.reset_index(inplace=True)\n",
    "\n",
    "        boxNoDup = pd.DataFrame(box[['id', 'date_sent']].groupby('date_sent').count(), copy=True)\n",
    "        boxNoDup = boxNoDup.reindex(fullHour, fill_value=0)\n",
    "\n",
    "        boxNoDup['countDayLeading'] = boxNoDup['id'].rolling(window=hrsAround, min_periods=1).sum()\n",
    "        boxNoDup['countDayLeading'] = boxNoDup['countDayLeading'] - boxNoDup['id'] # to avoid double counting that hour\n",
    "\n",
    "        boxNoDup['countDayTrailing'] = boxNoDup['countDayLeading'].tshift(-(hrsAround - 1))\n",
    "        boxNoDup.loc[(boxNoDup.index.max() - pd.to_timedelta((hrsAround - 1), 'H')):, 'countDayTrailing'] = \\\n",
    "            [sum(boxNoDup['id'].loc[boxNoDup.index.max() - pd.to_timedelta((hrsAround - 1) - i, 'H'):]) for i in range(hrsAround)]\n",
    "\n",
    "        boxNoDup['isMissing'] = (boxNoDup['countDayTrailing'] + (boxNoDup['countDayLeading']) < 2)\n",
    "        boxNoDup.reset_index(inplace=True)\n",
    "        boxNoDup.rename(columns={'index':'date_sent'}, inplace=True)\n",
    "        boxNoDup['id'] = boxId\n",
    "        return boxNoDup[['date_sent', 'id', 'isMissing']]\n",
    "    \n",
    "    except ValueError:\n",
    "        #pass\n",
    "        print('Error in box ', boxId)\n",
    "    "
   ]
  },
  {
   "cell_type": "code",
   "execution_count": 10,
   "metadata": {},
   "outputs": [
    {
     "name": "stdout",
     "output_type": "stream",
     "text": [
      "Error in box  1039.0\n",
      "Error in box  1124.0\n",
      "Error in box  1135.0\n"
     ]
    }
   ],
   "source": [
    "boxList = set(data['id'])\n",
    "missingHours = pd.DataFrame(columns=['date_sent', 'id', 'isMissing'])\n",
    "for box in boxList:\n",
    "    missingHours = pd.concat([missingHours, countMissingHours(boxId=box)], ignore_index=True)"
   ]
  },
  {
   "cell_type": "code",
   "execution_count": 11,
   "metadata": {},
   "outputs": [
    {
     "data": {
      "text/plain": [
       "277"
      ]
     },
     "execution_count": 11,
     "metadata": {},
     "output_type": "execute_result"
    }
   ],
   "source": [
    "len(missingHours['id'].value_counts())"
   ]
  },
  {
   "cell_type": "code",
   "execution_count": 13,
   "metadata": {},
   "outputs": [
    {
     "data": {
      "text/html": [
       "<div>\n",
       "<table border=\"1\" class=\"dataframe\">\n",
       "  <thead>\n",
       "    <tr style=\"text-align: right;\">\n",
       "      <th></th>\n",
       "      <th>address</th>\n",
       "      <th>body</th>\n",
       "      <th>date_sent</th>\n",
       "      <th>readable_date</th>\n",
       "      <th>service_center</th>\n",
       "      <th>read</th>\n",
       "      <th>type</th>\n",
       "      <th>id</th>\n",
       "      <th>ClusterId</th>\n",
       "      <th>DistrictCity</th>\n",
       "      <th>...</th>\n",
       "      <th>COUNT</th>\n",
       "      <th>PSU_ID</th>\n",
       "      <th>URB_RUR</th>\n",
       "      <th>REGION</th>\n",
       "      <th>DISTRICT</th>\n",
       "      <th>LONG</th>\n",
       "      <th>LAT</th>\n",
       "      <th>dateCollectionStartDays</th>\n",
       "      <th>_merge</th>\n",
       "      <th>dateSentDays</th>\n",
       "    </tr>\n",
       "  </thead>\n",
       "  <tbody>\n",
       "    <tr>\n",
       "      <th>22405</th>\n",
       "      <td>+992900004351</td>\n",
       "      <td>Power Failure  is running id 1135 | Monitoring...</td>\n",
       "      <td>2016-11-25 13:10:38</td>\n",
       "      <td>2016-11-25 13:10:38</td>\n",
       "      <td>+992907777777</td>\n",
       "      <td>0</td>\n",
       "      <td>1</td>\n",
       "      <td>1135.0</td>\n",
       "      <td>48.0</td>\n",
       "      <td>Jirgatol</td>\n",
       "      <td>...</td>\n",
       "      <td>69.0</td>\n",
       "      <td>48.0</td>\n",
       "      <td>Rural</td>\n",
       "      <td>DRS</td>\n",
       "      <td>Jirgital</td>\n",
       "      <td>71.908341</td>\n",
       "      <td>39.201393</td>\n",
       "      <td>2016-11-23</td>\n",
       "      <td>both</td>\n",
       "      <td>2016-11-25</td>\n",
       "    </tr>\n",
       "    <tr>\n",
       "      <th>22406</th>\n",
       "      <td>+992900004351</td>\n",
       "      <td>Power Failure  is running id 1135 | Monitoring...</td>\n",
       "      <td>2016-11-25 13:10:42</td>\n",
       "      <td>2016-11-25 13:10:42</td>\n",
       "      <td>+992907777777</td>\n",
       "      <td>0</td>\n",
       "      <td>1</td>\n",
       "      <td>1135.0</td>\n",
       "      <td>48.0</td>\n",
       "      <td>Jirgatol</td>\n",
       "      <td>...</td>\n",
       "      <td>69.0</td>\n",
       "      <td>48.0</td>\n",
       "      <td>Rural</td>\n",
       "      <td>DRS</td>\n",
       "      <td>Jirgital</td>\n",
       "      <td>71.908341</td>\n",
       "      <td>39.201393</td>\n",
       "      <td>2016-11-23</td>\n",
       "      <td>both</td>\n",
       "      <td>2016-11-25</td>\n",
       "    </tr>\n",
       "    <tr>\n",
       "      <th>22407</th>\n",
       "      <td>+992900004351</td>\n",
       "      <td>Power Failure detected. id 1135</td>\n",
       "      <td>2016-11-25 13:24:48</td>\n",
       "      <td>2016-11-25 13:24:48</td>\n",
       "      <td>+992907777777</td>\n",
       "      <td>0</td>\n",
       "      <td>1</td>\n",
       "      <td>1135.0</td>\n",
       "      <td>48.0</td>\n",
       "      <td>Jirgatol</td>\n",
       "      <td>...</td>\n",
       "      <td>69.0</td>\n",
       "      <td>48.0</td>\n",
       "      <td>Rural</td>\n",
       "      <td>DRS</td>\n",
       "      <td>Jirgital</td>\n",
       "      <td>71.908341</td>\n",
       "      <td>39.201393</td>\n",
       "      <td>2016-11-23</td>\n",
       "      <td>both</td>\n",
       "      <td>2016-11-25</td>\n",
       "    </tr>\n",
       "    <tr>\n",
       "      <th>22408</th>\n",
       "      <td>+992900004351</td>\n",
       "      <td>Power Back detected. id 1135</td>\n",
       "      <td>2016-11-25 13:25:08</td>\n",
       "      <td>2016-11-25 13:25:08</td>\n",
       "      <td>+992907777777</td>\n",
       "      <td>0</td>\n",
       "      <td>1</td>\n",
       "      <td>1135.0</td>\n",
       "      <td>48.0</td>\n",
       "      <td>Jirgatol</td>\n",
       "      <td>...</td>\n",
       "      <td>69.0</td>\n",
       "      <td>48.0</td>\n",
       "      <td>Rural</td>\n",
       "      <td>DRS</td>\n",
       "      <td>Jirgital</td>\n",
       "      <td>71.908341</td>\n",
       "      <td>39.201393</td>\n",
       "      <td>2016-11-23</td>\n",
       "      <td>both</td>\n",
       "      <td>2016-11-25</td>\n",
       "    </tr>\n",
       "    <tr>\n",
       "      <th>57983</th>\n",
       "      <td>+992935710968</td>\n",
       "      <td>Power Failure  is running ID 1039 | Monitoring...</td>\n",
       "      <td>2016-11-11 05:40:51</td>\n",
       "      <td>2016-11-11 05:40:51</td>\n",
       "      <td>+992939999999</td>\n",
       "      <td>0</td>\n",
       "      <td>1</td>\n",
       "      <td>1039.0</td>\n",
       "      <td>98.0</td>\n",
       "      <td>Khovaling</td>\n",
       "      <td>...</td>\n",
       "      <td>24.0</td>\n",
       "      <td>98.0</td>\n",
       "      <td>Rural</td>\n",
       "      <td>Khatlon</td>\n",
       "      <td>Khovaling</td>\n",
       "      <td>69.933057</td>\n",
       "      <td>38.329808</td>\n",
       "      <td>2016-11-11</td>\n",
       "      <td>both</td>\n",
       "      <td>2016-11-11</td>\n",
       "    </tr>\n",
       "    <tr>\n",
       "      <th>75812</th>\n",
       "      <td>+992935710423</td>\n",
       "      <td>Test SMS from Power Failure Monitor:Power Fail...</td>\n",
       "      <td>2017-01-25 15:58:38</td>\n",
       "      <td>2017-01-25 15:58:49</td>\n",
       "      <td>+992939999999</td>\n",
       "      <td>0</td>\n",
       "      <td>1</td>\n",
       "      <td>1124.0</td>\n",
       "      <td>137.0</td>\n",
       "      <td>Isfara</td>\n",
       "      <td>...</td>\n",
       "      <td>24.0</td>\n",
       "      <td>137.0</td>\n",
       "      <td>Rural</td>\n",
       "      <td>Sugd</td>\n",
       "      <td>Isfara</td>\n",
       "      <td>70.579609</td>\n",
       "      <td>40.143452</td>\n",
       "      <td>2016-11-21</td>\n",
       "      <td>both</td>\n",
       "      <td>2017-01-25</td>\n",
       "    </tr>\n",
       "    <tr>\n",
       "      <th>75813</th>\n",
       "      <td>+992935710423</td>\n",
       "      <td>Test SMS from Power Failure Monitor:Power Back...</td>\n",
       "      <td>2017-01-25 15:58:42</td>\n",
       "      <td>2017-01-25 15:59:13</td>\n",
       "      <td>+992939999999</td>\n",
       "      <td>0</td>\n",
       "      <td>1</td>\n",
       "      <td>1124.0</td>\n",
       "      <td>137.0</td>\n",
       "      <td>Isfara</td>\n",
       "      <td>...</td>\n",
       "      <td>24.0</td>\n",
       "      <td>137.0</td>\n",
       "      <td>Rural</td>\n",
       "      <td>Sugd</td>\n",
       "      <td>Isfara</td>\n",
       "      <td>70.579609</td>\n",
       "      <td>40.143452</td>\n",
       "      <td>2016-11-21</td>\n",
       "      <td>both</td>\n",
       "      <td>2017-01-25</td>\n",
       "    </tr>\n",
       "  </tbody>\n",
       "</table>\n",
       "<p>7 rows × 24 columns</p>\n",
       "</div>"
      ],
      "text/plain": [
       "             address                                               body  \\\n",
       "22405  +992900004351  Power Failure  is running id 1135 | Monitoring...   \n",
       "22406  +992900004351  Power Failure  is running id 1135 | Monitoring...   \n",
       "22407  +992900004351                    Power Failure detected. id 1135   \n",
       "22408  +992900004351                       Power Back detected. id 1135   \n",
       "57983  +992935710968  Power Failure  is running ID 1039 | Monitoring...   \n",
       "75812  +992935710423  Test SMS from Power Failure Monitor:Power Fail...   \n",
       "75813  +992935710423  Test SMS from Power Failure Monitor:Power Back...   \n",
       "\n",
       "                date_sent       readable_date service_center  read  type  \\\n",
       "22405 2016-11-25 13:10:38 2016-11-25 13:10:38  +992907777777     0     1   \n",
       "22406 2016-11-25 13:10:42 2016-11-25 13:10:42  +992907777777     0     1   \n",
       "22407 2016-11-25 13:24:48 2016-11-25 13:24:48  +992907777777     0     1   \n",
       "22408 2016-11-25 13:25:08 2016-11-25 13:25:08  +992907777777     0     1   \n",
       "57983 2016-11-11 05:40:51 2016-11-11 05:40:51  +992939999999     0     1   \n",
       "75812 2017-01-25 15:58:38 2017-01-25 15:58:49  +992939999999     0     1   \n",
       "75813 2017-01-25 15:58:42 2017-01-25 15:59:13  +992939999999     0     1   \n",
       "\n",
       "           id  ClusterId DistrictCity      ...      COUNT PSU_ID  URB_RUR  \\\n",
       "22405  1135.0       48.0     Jirgatol      ...       69.0   48.0    Rural   \n",
       "22406  1135.0       48.0     Jirgatol      ...       69.0   48.0    Rural   \n",
       "22407  1135.0       48.0     Jirgatol      ...       69.0   48.0    Rural   \n",
       "22408  1135.0       48.0     Jirgatol      ...       69.0   48.0    Rural   \n",
       "57983  1039.0       98.0    Khovaling      ...       24.0   98.0    Rural   \n",
       "75812  1124.0      137.0       Isfara      ...       24.0  137.0    Rural   \n",
       "75813  1124.0      137.0       Isfara      ...       24.0  137.0    Rural   \n",
       "\n",
       "        REGION   DISTRICT       LONG        LAT dateCollectionStartDays  \\\n",
       "22405      DRS   Jirgital  71.908341  39.201393              2016-11-23   \n",
       "22406      DRS   Jirgital  71.908341  39.201393              2016-11-23   \n",
       "22407      DRS   Jirgital  71.908341  39.201393              2016-11-23   \n",
       "22408      DRS   Jirgital  71.908341  39.201393              2016-11-23   \n",
       "57983  Khatlon  Khovaling  69.933057  38.329808              2016-11-11   \n",
       "75812     Sugd     Isfara  70.579609  40.143452              2016-11-21   \n",
       "75813     Sugd     Isfara  70.579609  40.143452              2016-11-21   \n",
       "\n",
       "      _merge  dateSentDays  \n",
       "22405   both    2016-11-25  \n",
       "22406   both    2016-11-25  \n",
       "22407   both    2016-11-25  \n",
       "22408   both    2016-11-25  \n",
       "57983   both    2016-11-11  \n",
       "75812   both    2017-01-25  \n",
       "75813   both    2017-01-25  \n",
       "\n",
       "[7 rows x 24 columns]"
      ]
     },
     "execution_count": 13,
     "metadata": {},
     "output_type": "execute_result"
    }
   ],
   "source": [
    "data[(data['id'] == 1039) | (data['id'] == 1124) | (data['id'] == 1135)]"
   ]
  },
  {
   "cell_type": "code",
   "execution_count": 15,
   "metadata": {
    "collapsed": true
   },
   "outputs": [],
   "source": [
    "workDayMF = pd.DatetimeIndex( missingHours['date_sent']).dayofweek < 6 # Mon=0 - Fri=5\n",
    "workDayS = pd.DatetimeIndex( missingHours['date_sent']).dayofweek == 6 # Saturday (private sector may work)\n",
    "for holiday in ['2016-11-06',\n",
    "               '2016-11-09',\n",
    "               '2017-01-02', \n",
    "               '2017-03-08', \n",
    "               '2017-03-21', '2017-03-22', '2017-03-23', '2017-03-24',\n",
    "               '2017-05-01',\n",
    "               '2017-05-09',\n",
    "               '2017-06-25',\n",
    "               '2017-06-26',\n",
    "               '2017-06-27',\n",
    "               '2017-09-01',\n",
    "               '2017-09-11']:\n",
    "    # Idi Qurbon changes with year. Sep 1st this year\n",
    "    # Indenependece day is Sep 9, but that was Sat in 2017, moved to Mon (sep 11)\n",
    "    # New years day is 1/1 but tht was Sun in 2017, moved to 01-02\n",
    "    # Ramadan canges year to year. In 2017, on June Sun 25, jun Mon 26\n",
    "    workDayMF[missingHours['date_sent'].dt.date == pd.to_datetime(holiday).date()] = False\n",
    "    workDayS[missingHours['date_sent'].dt.date == pd.to_datetime(holiday).date()] = False\n"
   ]
  },
  {
   "cell_type": "code",
   "execution_count": 16,
   "metadata": {
    "collapsed": true
   },
   "outputs": [],
   "source": [
    "workDayMF[ (pd.DatetimeIndex(missingHours['date_sent']).hour < 9) | \n",
    "          (pd.DatetimeIndex(missingHours['date_sent']).hour > 17) ] = False\n",
    "workDayS[ (pd.DatetimeIndex(missingHours['date_sent']).hour < 9) | \n",
    "          (pd.DatetimeIndex(missingHours['date_sent']).hour > 17) ] = False"
   ]
  },
  {
   "cell_type": "code",
   "execution_count": 17,
   "metadata": {
    "collapsed": true
   },
   "outputs": [],
   "source": [
    "missingHours['month'] = pd.DatetimeIndex(missingHours['date_sent']).month\n",
    "missingHours['workDayMF'] = workDayMF\n",
    "missingHours['workDayS'] = workDayS"
   ]
  },
  {
   "cell_type": "code",
   "execution_count": 18,
   "metadata": {
    "collapsed": true
   },
   "outputs": [],
   "source": [
    "missingHours.to_pickle('missingHours.pandas')"
   ]
  }
 ],
 "metadata": {
  "kernelspec": {
   "display_name": "Python [default]",
   "language": "python",
   "name": "python3"
  },
  "language_info": {
   "codemirror_mode": {
    "name": "ipython",
    "version": 3
   },
   "file_extension": ".py",
   "mimetype": "text/x-python",
   "name": "python",
   "nbconvert_exporter": "python",
   "pygments_lexer": "ipython3",
   "version": "3.5.2"
  }
 },
 "nbformat": 4,
 "nbformat_minor": 2
}
