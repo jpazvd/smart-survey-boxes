{
 "cells": [
  {
   "cell_type": "code",
   "execution_count": 126,
   "metadata": {},
   "outputs": [],
   "source": [
    "#Import packages\n",
    "import random\n",
    "import os, sys\n",
    "import pytz\n",
    "import pandas as pd\n",
    "import numpy as np\n",
    "from datetime import datetime, date, time, timedelta\n",
    "import re\n",
    "from IPython.display import Image\n",
    "import itertools\n",
    "import pandas as pd\n",
    "import matplotlib.pyplot as plt\n",
    "from IPython.display import display"
   ]
  },
  {
   "cell_type": "code",
   "execution_count": 3,
   "metadata": {},
   "outputs": [],
   "source": [
    "sys.path.append('/Users/dmatekenya/PycharmProjects/power-mon')"
   ]
  },
  {
   "cell_type": "code",
   "execution_count": 33,
   "metadata": {},
   "outputs": [],
   "source": [
    "#Pypower modules\n",
    "from pypower import prediction_models as pred\n",
    "from pypower import data_utils as ut"
   ]
  },
  {
   "cell_type": "code",
   "execution_count": 11,
   "metadata": {},
   "outputs": [],
   "source": [
    "data_dir = \"/Users/dmatekenya/Google Drive/World-Bank/electricity_monitoring/01.data/processed_sms/\""
   ]
  },
  {
   "cell_type": "code",
   "execution_count": 127,
   "metadata": {},
   "outputs": [],
   "source": [
    "# Get the data: sms_rect_hr.csv'\n",
    "cols_to_use = ['box_id', 'psu', 'lon', 'lat', 'str_datetime_sent_hr', 'hour_sent', 'event_type_str', 'power_state']\n",
    "sms2 = pd.read_csv(data_dir + 'sms_rect_hr.csv', usecols=cols_to_use, parse_dates=['str_datetime_sent_hr'])\n",
    "sms2.rename(columns={'str_datetime_sent_hr': 'datetime_sent_hr'}, inplace=True)\n",
    "\n",
    "# Remove missing values\n",
    "sms2 = sms2[sms2.power_state != -1]"
   ]
  },
  {
   "cell_type": "markdown",
   "metadata": {},
   "source": [
    "**EVALUATING NEAREST NEIGHBOR MODEL**\n",
    "=======================\n",
    "=================================================================="
   ]
  },
  {
   "cell_type": "markdown",
   "metadata": {},
   "source": [
    "1. * Pick a test box*\n",
    "----------------------"
   ]
  },
  {
   "cell_type": "code",
   "execution_count": 128,
   "metadata": {},
   "outputs": [],
   "source": [
    "# Pick a test box\n",
    "test_box_id = 1005\n",
    "data_test_bx = sms2[sms2.box_id == test_box_id]  # select data for this box only\n",
    "\n",
    "# List of dates, to help with picking random dates for testing\n",
    "event_dates = list(data_test_bx.datetime_sent_hr)"
   ]
  },
  {
   "cell_type": "markdown",
   "metadata": {},
   "source": [
    "2. * Decide how many tests to do *\n",
    "--------------------------------------\n",
    "-Cant do complete leave one out due to time"
   ]
  },
  {
   "cell_type": "code",
   "execution_count": 100,
   "metadata": {},
   "outputs": [
    {
     "name": "stdout",
     "output_type": "stream",
     "text": [
      "We will test 250 events out of 5530 events for this box\n"
     ]
    }
   ],
   "source": [
    "prop_test = 0.2\n",
    "max_test_cases = 250\n",
    "min_test_cases = 50\n",
    "num_tests = int(data_test_bx.shape[0] * prop_test)\n",
    "if num_tests < min_test_cases:\n",
    "        print ('Lets choose another box!!!')\n",
    "\n",
    "if num_tests > max_test_cases:\n",
    "    num_tests = max_test_cases\n",
    "\n",
    "print('We will test {} events out of {} events for this box'.format(num_tests, data_test_bx.shape[0]))"
   ]
  },
  {
   "cell_type": "markdown",
   "metadata": {},
   "source": [
    "3. * Randomly pick test dates *\n",
    "--------------------------------"
   ]
  },
  {
   "cell_type": "code",
   "execution_count": 129,
   "metadata": {},
   "outputs": [],
   "source": [
    "test_dates = random.sample(event_dates, num_tests)\n",
    "\n",
    "# Generated test events from the dates\n",
    "test_df = data_test_bx[data_test_bx['datetime_sent_hr'].isin(test_dates)]"
   ]
  },
  {
   "cell_type": "markdown",
   "metadata": {},
   "source": [
    "4. * Remove all test events from training data*\n",
    "---------------------------------------------"
   ]
  },
  {
   "cell_type": "code",
   "execution_count": 130,
   "metadata": {},
   "outputs": [],
   "source": [
    "sms2_without_test_box = sms2[sms2.box_id != test_box_id]\n",
    "\n",
    "to_keep = list(set(event_dates) - set(test_dates))\n",
    "\n",
    "test_box_to_keep = data_test_bx[data_test_bx['datetime_sent_hr'].isin(to_keep)]\n",
    "\n",
    "train_df = sms2_without_test_box.append(test_box_to_keep)"
   ]
  },
  {
   "cell_type": "markdown",
   "metadata": {},
   "source": [
    "5. * Just to be sure, check that test events arent in the train dataset*\n",
    "-------------------------------------------------------------------------\n",
    "Note: Only for the test-box"
   ]
  },
  {
   "cell_type": "code",
   "execution_count": 131,
   "metadata": {},
   "outputs": [
    {
     "name": "stdout",
     "output_type": "stream",
     "text": [
      "No leakages\n"
     ]
    }
   ],
   "source": [
    "train_df_test_box = train_df[train_df.box_id == test_box_id]\n",
    "\n",
    "for date in test_dates:\n",
    "    if date in list(train_df_test_box.datetime_sent_hr):\n",
    "        print ('WAIT A MINUTE, HOW COME TEST EVENTS ARE STILL IN TRAINIGNG DATA')\n",
    "print('No leakages')"
   ]
  },
  {
   "cell_type": "markdown",
   "metadata": {},
   "source": [
    "6. * Create a nearest neighbor model*\n",
    "--------------------------------------\n",
    "This model has the following parameters:\n",
    " \n",
    " -*target*: what to predict(either power_state or event_type)\n",
    " \n",
    " -*neighbors*-Number of boxes (based on location to include. e.g., 0 neighbors include 2 boxes)\n",
    " \n",
    " -*time-window*: moving winodw to search from\n",
    " \n",
    " -*direction*: whethere to pool foward looking or backward looking events only (centred on test date)\n",
    " \n",
    " -*how*: How to make prediction, default is frequent\n",
    " \n",
    " -*train_data*: the training data"
   ]
  },
  {
   "cell_type": "code",
   "execution_count": 132,
   "metadata": {},
   "outputs": [],
   "source": [
    "# ----------------CREATE MODEL OBJECT-----------------------------\n",
    "predictor_params = {'neighbors': 1, 'time-window': 7, 'direction': 'both', 'how': 'frequent',\n",
    "                    'target': 'power_state'}\n",
    "# model object\n",
    "clf = pred.ImputationNearestNeighbor(data=train_df, target=predictor_params['target'],\n",
    "                                         neighbors=predictor_params['neighbors'],\n",
    "                                         how=predictor_params['how'],\n",
    "                                         time_window=predictor_params['time-window'],\n",
    "                                         direction=predictor_params['direction']\n",
    "                                         )\n",
    "# location details for boxes\n",
    "box_file = \"/Users/dmatekenya/Google Drive/World-Bank/electricity_monitoring/01.data/Boxes.csv\"\n",
    "clf.generate_box_metadata(box_file=box_file)\n",
    "\n",
    "# Get lat-lon for the test box\n",
    "box_lat_lon = [data_test_bx[data_test_bx.box_id == test_box_id].lat.values[0],\n",
    "                   data_test_bx[data_test_bx.box_id == test_box_id].lon.values[0]]"
   ]
  },
  {
   "cell_type": "markdown",
   "metadata": {},
   "source": [
    "7. * We are now ready to make predictions using the model *\n",
    "---------------------------------------------------------"
   ]
  },
  {
   "cell_type": "markdown",
   "metadata": {},
   "source": [
    "7.1 Select neighbors\n",
    "-------------------------"
   ]
  },
  {
   "cell_type": "code",
   "execution_count": 122,
   "metadata": {
    "scrolled": true
   },
   "outputs": [
    {
     "name": "stdout",
     "output_type": "stream",
     "text": [
      "The distances...\n",
      "\n",
      "     box_id  psu        lon        lat      dist\n",
      "267    1271   94  69.385761  37.529461  0.000000\n",
      "253    1257   92  69.395822  37.491284  4.341864\n",
      "209    1212   92  69.395822  37.491284  4.341864\n",
      "107    1108   93  69.429172  37.575373  6.387610\n",
      "135    1136   93  69.429172  37.575373  6.387610\n",
      "\n",
      "Given number of neighbors = 1, we have these neighbors: [1271, 1005]\n",
      "COMPARE TO OUT TEST BOX DETAILS\n",
      "Test box id==> 1005, test-box-psu==> 94, test-box-lat/lon==> [37.529461095977027, 69.385761185057504]\n"
     ]
    }
   ],
   "source": [
    "# search neighbors from all boxes except test box\n",
    "bx = clf.BOX_METADATA[clf.BOX_METADATA.box_id != test_box_id]\n",
    "bx.is_copy = False\n",
    "\n",
    "# compute distance between target (test box) and rest of the boxes\n",
    "target_loc = box_lat_lon\n",
    "bx['dist'] = bx.apply(lambda row: ut.calculate_distance([row['lat'], row['lon']],target_loc), axis=1)\n",
    "\n",
    "# Get top-n nearest neighbors\n",
    "nearest_n = bx.sort_values(by=['dist'], ascending=True)[:clf.neighbors]\n",
    "print('The distances...')\n",
    "print()\n",
    "print(bx.sort_values(by=['dist'], ascending=True).head())\n",
    "\n",
    "neighbors = list(nearest_n.box_id.values)\n",
    "print()\n",
    "\n",
    "neighbors.append(test_box_id) # since we also want to learn from the same box\n",
    "print('Given number of neighbors = {}, we have these neighbors: {}'.format(clf.neighbors, neighbors))\n",
    "\n",
    "print('COMPARE TO OUT TEST BOX DETAILS')\n",
    "test_box_psu = train_df[train_df.box_id==test_box_id].iloc[0].psu\n",
    "print('Test box id==> {}, test-box-psu==> {}, test-box-lat/lon==> {}'.format(test_box_id, test_box_psu, box_lat_lon))"
   ]
  },
  {
   "cell_type": "markdown",
   "metadata": {},
   "source": [
    "7.2 Generate training data\n",
    "---------------------------\n",
    "This discards all the excepet that in [test_date-window_length, test_date+window_length]. \n",
    "Also, we only keep data for the neighbors."
   ]
  },
  {
   "cell_type": "code",
   "execution_count": 133,
   "metadata": {},
   "outputs": [
    {
     "name": "stdout",
     "output_type": "stream",
     "text": [
      "box_id                             1005\n",
      "psu                                  94\n",
      "lon                             69.3858\n",
      "lat                             37.5295\n",
      "datetime_sent_hr    2017-01-12 06:00:00\n",
      "hour_sent                             6\n",
      "event_type_str                  pon_mon\n",
      "power_state                           1\n",
      "Name: 1541584, dtype: object\n"
     ]
    }
   ],
   "source": [
    "# Lets pick a test date\n",
    "prediction_date = test_df.iloc[0].datetime_sent_hr\n",
    "print(test_df.iloc[0])\n",
    "\n",
    "train_data = clf.generate_train_data(target_date=prediction_date, raw_data=train_df, boxes=neighbors)"
   ]
  },
  {
   "cell_type": "code",
   "execution_count": 150,
   "metadata": {},
   "outputs": [
    {
     "name": "stdout",
     "output_type": "stream",
     "text": [
      "Checking that training data only has the 2 boxes\n",
      "---------------------------------------------------\n",
      "1005    170\n",
      "1271     62\n",
      "Name: box_id, dtype: int64\n",
      "\n",
      "Checking that training data is within the time window centred on test date\n",
      "-----------------------------------------------------------------------------\n",
      "\n",
      "#### Test date ==> 2017-01-12 06:00:00, window-length ==> 7 days #######\n",
      "count                     232\n",
      "unique                    232\n",
      "top       2017-01-18 16:00:00\n",
      "freq                        1\n",
      "first     2017-01-05 06:00:00\n",
      "last      2017-01-19 06:00:00\n",
      "Name: datetime_sent_hr, dtype: object\n"
     ]
    }
   ],
   "source": [
    "print ('Checking that training data only has the 2 boxes')\n",
    "print('---------------------------------------------------')\n",
    "print(train_data.box_id.value_counts())\n",
    "\n",
    "print()\n",
    "print ('Checking that training data is within the time window centred on test date')\n",
    "print('-----------------------------------------------------------------------------')\n",
    "print()\n",
    "print ('#### Test date ==> {}, window-length ==> {} days #######'.format(prediction_date, predictor_params['time-window']))\n",
    "print(train_data.datetime_sent_hr.describe())"
   ]
  },
  {
   "cell_type": "markdown",
   "metadata": {},
   "source": [
    "7.2 * Generate Event Freqs*\n",
    "--------------------------------"
   ]
  },
  {
   "cell_type": "code",
   "execution_count": 160,
   "metadata": {},
   "outputs": [],
   "source": [
    "hr_cnts = train_data.groupby(['hour_sent', 'power_state'])['power_state'].agg(['count'])\n",
    "event_freqs = hr_cnts.reset_index()"
   ]
  },
  {
   "cell_type": "markdown",
   "metadata": {},
   "source": [
    "7.3 * Return the event with most counts*\n",
    "-------------------------------------"
   ]
  },
  {
   "cell_type": "code",
   "execution_count": 162,
   "metadata": {},
   "outputs": [
    {
     "data": {
      "text/plain": [
       "6"
      ]
     },
     "execution_count": 162,
     "metadata": {},
     "output_type": "execute_result"
    }
   ],
   "source": [
    "pred_hr = prediction_date.hour\n",
    "events_hr = event_freqs[event_freqs.hour_sent == pred_hr]\n",
    "predicted_event = events_hr.max(axis=0)[clf.target_var]"
   ]
  },
  {
   "cell_type": "code",
   "execution_count": 165,
   "metadata": {},
   "outputs": [],
   "source": [
    "predicted_event = clf.predict(prediction_date=prediction_date, box_id=test_box_id, target_loc=box_lat_lon)"
   ]
  },
  {
   "cell_type": "code",
   "execution_count": null,
   "metadata": {},
   "outputs": [],
   "source": []
  }
 ],
 "metadata": {
  "kernelspec": {
   "display_name": "Python 3",
   "language": "python",
   "name": "python3"
  },
  "language_info": {
   "codemirror_mode": {
    "name": "ipython",
    "version": 3
   },
   "file_extension": ".py",
   "mimetype": "text/x-python",
   "name": "python",
   "nbconvert_exporter": "python",
   "pygments_lexer": "ipython3",
   "version": "3.6.2"
  }
 },
 "nbformat": 4,
 "nbformat_minor": 2
}
