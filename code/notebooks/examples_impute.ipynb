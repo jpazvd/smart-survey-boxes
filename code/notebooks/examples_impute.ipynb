{
 "cells": [
  {
   "cell_type": "code",
   "execution_count": 1,
   "metadata": {},
   "outputs": [],
   "source": [
    "import sys\n",
    "import pandas as pd\n",
    "import numpy as np\n",
    "from time import time\n",
    "import line_profiler\n",
    "from sklearn.ensemble import RandomForestClassifier, GradientBoostingClassifier, ExtraTreesClassifier\n",
    "from sklearn.model_selection import train_test_split\n",
    "from IPython.core.interactiveshell import InteractiveShell\n",
    "InteractiveShell.ast_node_interactivity = \"all\""
   ]
  },
  {
   "cell_type": "code",
   "execution_count": 2,
   "metadata": {
    "collapsed": true
   },
   "outputs": [],
   "source": [
    "sys.path.append('/Users/dmatekenya/LTJK_mapping_app/LTJK_mapping_app')"
   ]
  },
  {
   "cell_type": "code",
   "execution_count": 3,
   "metadata": {
    "collapsed": true
   },
   "outputs": [],
   "source": [
    "#---------SET UP WORKING DIR-------------#\n",
    "data_dir = '/Users/dmatekenya/Google Drive/World-Bank/electricity_monitoring/01.data/'\n",
    "sms = data_dir + 'sms.csv'\n",
    "sms2 = data_dir + 'sms2.csv'\n",
    "boxes = data_dir + 'Boxes.csv'"
   ]
  },
  {
   "cell_type": "code",
   "execution_count": 4,
   "metadata": {},
   "outputs": [],
   "source": [
    "import data_utils as ut\n",
    "import model_evaluation as mod_ev\n",
    "import imputation_models as impute"
   ]
  },
  {
   "cell_type": "markdown",
   "metadata": {},
   "source": [
    "**GENERATE REGURALISED DATASET**\n",
    "================================="
   ]
  },
  {
   "cell_type": "code",
   "execution_count": null,
   "metadata": {
    "collapsed": true
   },
   "outputs": [],
   "source": [
    "bx = pd.read_csv(boxes, usecols=['LONG', 'LAT', 'ClusterId', 'BoxID'])\n",
    "bx = bx[['ClusterId','LONG', 'LAT', 'BoxID']]\n",
    "bx.rename(columns={'ClusterId': 'psu', 'LONG': 'lon', 'LAT': 'lat', 'BoxID': 'device_id'}, inplace=True)\n",
    "\n",
    "sms2_df = pd.read_csv(data_dir + 'sms2.csv',parse_dates=['datetime_rcvd'])"
   ]
  },
  {
   "cell_type": "code",
   "execution_count": null,
   "metadata": {},
   "outputs": [],
   "source": [
    "start = time()\n",
    "test_num = 1\n",
    "sms2_df = pd.read_csv(data_dir + 'sms2.csv',parse_dates=['datetime_rcvd'])\n",
    "df_reg = ut.generate_hr_regular_dataframe(sms2_df, bx, test_num)\n",
    "end = time()\n",
    "print('Generating regular dataset for %s boxes took %.3f seconds' % (str(test_num), (end - start)))"
   ]
  },
  {
   "cell_type": "markdown",
   "metadata": {},
   "source": [
    "**Now that we have the dataset, we can evaluate some simple predictors**\n",
    "==========================================================================\n",
    "1. The target prediction variable here is message type"
   ]
  },
  {
   "cell_type": "code",
   "execution_count": 5,
   "metadata": {
    "collapsed": true
   },
   "outputs": [],
   "source": [
    "df_reg = pd.read_csv(data_dir + 'reg_hr_all_boxes.csv',parse_dates=['datetime_rcvd','datetime_rcvd_hr'])"
   ]
  },
  {
   "cell_type": "code",
   "execution_count": 9,
   "metadata": {},
   "outputs": [
    {
     "data": {
      "text/plain": [
       "pon_mon      384081\n",
       "pfail_mon    298384\n",
       "pfail        154538\n",
       "pback        138825\n",
       "Name: msg, dtype: int64"
      ]
     },
     "execution_count": 9,
     "metadata": {},
     "output_type": "execute_result"
    }
   ],
   "source": [
    "df_reg.msg.value_counts()"
   ]
  },
  {
   "cell_type": "code",
   "execution_count": 14,
   "metadata": {},
   "outputs": [],
   "source": [
    "df_reg2 = df_reg[df_reg['msg'].isin(['pfail', 'pback'])]\n"
   ]
  },
  {
   "cell_type": "markdown",
   "metadata": {},
   "source": [
    "**EVALUATE NEAREST BOX PREDICTOR**\n",
    "====================================="
   ]
  },
  {
   "cell_type": "code",
   "execution_count": 16,
   "metadata": {},
   "outputs": [
    {
     "name": "stdout",
     "output_type": "stream",
     "text": [
      "Total Clusters Evaluated: 137\n",
      "Accuracy (%)-summary across all boxes : \n",
      "Worst case: 28.5714285714  | Best case : 100.0  | Median : 60.7460404111  | Std deviation : 12.5684551195\n"
     ]
    }
   ],
   "source": [
    "num_psu, acc_all = mod_ev.batch_evaluation_nearest_predictor(df_reg2, False)\n",
    "print ('Total Clusters Evaluated: %s'%num_psu)\n",
    "print ('Accuracy (%)-summary across all boxes : ')\n",
    "print ('Worst case: %s'%(np.min(acc_all)),\n",
    "       ' | Best case : %s'%(np.max(acc_all)),\n",
    "       ' | Median : %s'%(np.median(acc_all)),' | Std deviation : %s'%(np.std(acc_all)))"
   ]
  },
  {
   "cell_type": "code",
   "execution_count": 18,
   "metadata": {},
   "outputs": [
    {
     "name": "stdout",
     "output_type": "stream",
     "text": [
      "Total Clusters Evaluated: 137\n",
      "Accuracy (%)-summary across all boxes : \n",
      "Worst case: 16.6666666667  | Best case : 50.0  | Median : 26.8382352941  | Std deviation : 6.44994014914\n"
     ]
    }
   ],
   "source": [
    "num_psu, acc_all = mod_ev.batch_evaluation_nearest_predictor(df_reg2, True)\n",
    "print ('Total Clusters Evaluated: %s'%num_psu)\n",
    "print ('Accuracy (%)-summary across all boxes : ')\n",
    "print ('Worst case: %s'%(np.min(acc_all)),\n",
    "       ' | Best case : %s'%(np.max(acc_all)),\n",
    "       ' | Median : %s'%(np.median(acc_all)),' | Std deviation : %s'%(np.std(acc_all)))"
   ]
  },
  {
   "cell_type": "markdown",
   "metadata": {},
   "source": [
    "**Although using nearest box doesnt give very good accuracy, its better than random guessing**"
   ]
  },
  {
   "cell_type": "markdown",
   "metadata": {},
   "source": [
    "**EVALUATE MOVING WINDOW PREDICTOR**\n",
    "===================================="
   ]
  },
  {
   "cell_type": "code",
   "execution_count": 21,
   "metadata": {
    "scrolled": true
   },
   "outputs": [
    {
     "name": "stderr",
     "output_type": "stream",
     "text": [
      "/Users/dmatekenya/LTJK_mapping_app/LTJK_mapping_app/imputation_models.py:39: SettingWithCopyWarning: \n",
      "A value is trying to be set on a copy of a slice from a DataFrame.\n",
      "Try using .loc[row_indexer,col_indexer] = value instead\n",
      "\n",
      "See the caveats in the documentation: http://pandas.pydata.org/pandas-docs/stable/indexing.html#indexing-view-versus-copy\n",
      "  df['hr'] = df['datetime_rcvd_hr'].apply(lambda x: x.hour)\n"
     ]
    },
    {
     "name": "stdout",
     "output_type": "stream",
     "text": [
      "invalid type comparison\n",
      "invalid type comparison\n",
      "invalid type comparison\n",
      "invalid type comparison\n",
      "division by zero\n",
      "invalid type comparison\n",
      "invalid type comparison\n",
      "invalid type comparison\n",
      "invalid type comparison\n",
      "invalid type comparison\n",
      "division by zero\n",
      "invalid type comparison\n",
      "division by zero\n",
      "invalid type comparison\n",
      "division by zero\n",
      "division by zero\n",
      "Total Clusters Evaluated: 140\n",
      "Accuracy (%)-summary across all boxes : \n",
      "Worst case: 0.0  | Best case : 74.358974359  | Median : 41.4818945159  | Std deviation : 22.6070503613\n"
     ]
    }
   ],
   "source": [
    "num_psu, acc_all_wind = mod_ev.batch_evaluation_temporal_window_predictor(df_reg2, 50, 0.25, 2)\n",
    "\n",
    "print('Total Clusters Evaluated: %s' % num_psu)\n",
    "print('Accuracy (%)-summary across all boxes : ')\n",
    "print('Worst case: %s' % (np.min(acc_all_wind)),\n",
    "          ' | Best case : %s' % (np.max(acc_all_wind)),\n",
    "          ' | Median : %s' % (np.median(acc_all_wind)), ' | Std deviation : %s' % (np.std(acc_all_wind)))"
   ]
  },
  {
   "cell_type": "code",
   "execution_count": 22,
   "metadata": {},
   "outputs": [
    {
     "data": {
      "text/plain": [
       " 1.0    473867\n",
       "-1.0    296320\n",
       " 0.0    205641\n",
       "Name: pwr_state, dtype: int64"
      ]
     },
     "execution_count": 22,
     "metadata": {},
     "output_type": "execute_result"
    }
   ],
   "source": [
    "df_reg.pwr_state.value_counts()"
   ]
  },
  {
   "cell_type": "markdown",
   "metadata": {},
   "source": [
    "**EVALUATE OTHER PREDICTORS USING ALL FEATURES (TEMPORAL)**\n",
    "==========================================================="
   ]
  },
  {
   "cell_type": "markdown",
   "metadata": {},
   "source": [
    "*Logistic regression was used to predict missing values....with accuracy of around 80 percent*"
   ]
  },
  {
   "cell_type": "markdown",
   "metadata": {},
   "source": [
    "**OTHER OUTPUTS**\n",
    "===================\n",
    "1. Computed variables for visualisation in tableau"
   ]
  },
  {
   "cell_type": "code",
   "execution_count": null,
   "metadata": {
    "collapsed": true
   },
   "outputs": [],
   "source": []
  }
 ],
 "metadata": {
  "kernelspec": {
   "display_name": "Python 3",
   "language": "python",
   "name": "python3"
  },
  "language_info": {
   "codemirror_mode": {
    "name": "ipython",
    "version": 3
   },
   "file_extension": ".py",
   "mimetype": "text/x-python",
   "name": "python",
   "nbconvert_exporter": "python",
   "pygments_lexer": "ipython3",
   "version": "3.5.1"
  }
 },
 "nbformat": 4,
 "nbformat_minor": 2
}
