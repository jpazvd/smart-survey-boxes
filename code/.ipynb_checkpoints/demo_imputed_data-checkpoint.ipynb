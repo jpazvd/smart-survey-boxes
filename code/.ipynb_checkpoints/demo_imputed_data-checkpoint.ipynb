{
 "cells": [
  {
   "cell_type": "code",
   "execution_count": 1,
   "metadata": {
    "collapsed": true
   },
   "outputs": [],
   "source": [
    "#Import packages\n",
    "from math import radians, sin, cos, atan2, sqrt\n",
    "import pytz\n",
    "import pandas as pd\n",
    "import numpy as np\n",
    "from datetime import datetime, date, time, timedelta\n",
    "import re\n",
    "from IPython.display import Image\n",
    "import itertools\n",
    "import folium\n",
    "import pandas as pd\n",
    "from IPython.display import display"
   ]
  },
  {
   "cell_type": "code",
   "execution_count": 2,
   "metadata": {},
   "outputs": [
    {
     "data": {
      "text/plain": [
       "'/Users/dmatekenya/Google Drive/World-Bank/electricity_monitoring/02.programs'"
      ]
     },
     "execution_count": 2,
     "metadata": {},
     "output_type": "execute_result"
    }
   ],
   "source": [
    "pwd"
   ]
  },
  {
   "cell_type": "code",
   "execution_count": 3,
   "metadata": {
    "collapsed": true
   },
   "outputs": [],
   "source": [
    "data_dir = '../01.data/processed_sms/'"
   ]
  },
  {
   "cell_type": "code",
   "execution_count": 9,
   "metadata": {},
   "outputs": [],
   "source": [
    "sms1 = pd.read_csv(data_dir + 'sms_v1.csv')\n",
    "sms2 = pd.read_csv(data_dir + 'sms_v2.csv')\n",
    "#sms3 = pd.read_csv(data_dir + 'sms_v3.csv')"
   ]
  },
  {
   "cell_type": "code",
   "execution_count": 10,
   "metadata": {},
   "outputs": [
    {
     "data": {
      "text/html": [
       "<div>\n",
       "<table border=\"1\" class=\"dataframe\">\n",
       "  <thead>\n",
       "    <tr style=\"text-align: right;\">\n",
       "      <th></th>\n",
       "      <th>box_id</th>\n",
       "      <th>psu</th>\n",
       "      <th>lon</th>\n",
       "      <th>lat</th>\n",
       "      <th>datetime_sent_raw</th>\n",
       "      <th>str_datetime_sent</th>\n",
       "      <th>str_datetime_sent_hr</th>\n",
       "      <th>datetime_sent_hr</th>\n",
       "      <th>event_type_str</th>\n",
       "      <th>ping_event</th>\n",
       "      <th>data_source</th>\n",
       "    </tr>\n",
       "  </thead>\n",
       "  <tbody>\n",
       "    <tr>\n",
       "      <th>0</th>\n",
       "      <td>1024</td>\n",
       "      <td>35</td>\n",
       "      <td>69.075835</td>\n",
       "      <td>38.563905</td>\n",
       "      <td>1477041572000</td>\n",
       "      <td>2016-10-21 14:19:32</td>\n",
       "      <td>2016-10-21 14:00:00</td>\n",
       "      <td>2016-10-21 14:25:00+05:00</td>\n",
       "      <td>pfail</td>\n",
       "      <td>0</td>\n",
       "      <td>observed_event</td>\n",
       "    </tr>\n",
       "    <tr>\n",
       "      <th>1</th>\n",
       "      <td>1024</td>\n",
       "      <td>35</td>\n",
       "      <td>69.075835</td>\n",
       "      <td>38.563905</td>\n",
       "      <td>1477131120000</td>\n",
       "      <td>2016-10-22 15:12:00</td>\n",
       "      <td>2016-10-22 15:00:00</td>\n",
       "      <td>2016-10-22 15:25:00+05:00</td>\n",
       "      <td>test</td>\n",
       "      <td>0</td>\n",
       "      <td>observed_event</td>\n",
       "    </tr>\n",
       "    <tr>\n",
       "      <th>2</th>\n",
       "      <td>1024</td>\n",
       "      <td>35</td>\n",
       "      <td>69.075835</td>\n",
       "      <td>38.563905</td>\n",
       "      <td>1477132709000</td>\n",
       "      <td>2016-10-22 15:38:29</td>\n",
       "      <td>2016-10-22 15:00:00</td>\n",
       "      <td>2016-10-22 15:25:00+05:00</td>\n",
       "      <td>pback</td>\n",
       "      <td>0</td>\n",
       "      <td>observed_event</td>\n",
       "    </tr>\n",
       "    <tr>\n",
       "      <th>3</th>\n",
       "      <td>1024</td>\n",
       "      <td>35</td>\n",
       "      <td>69.075835</td>\n",
       "      <td>38.563905</td>\n",
       "      <td>1477174804000</td>\n",
       "      <td>2016-10-23 03:20:04</td>\n",
       "      <td>2016-10-23 03:00:00</td>\n",
       "      <td>2016-10-23 03:25:00+05:00</td>\n",
       "      <td>pfail_mon</td>\n",
       "      <td>1</td>\n",
       "      <td>observed_event</td>\n",
       "    </tr>\n",
       "    <tr>\n",
       "      <th>4</th>\n",
       "      <td>1024</td>\n",
       "      <td>35</td>\n",
       "      <td>69.075835</td>\n",
       "      <td>38.563905</td>\n",
       "      <td>1477261284000</td>\n",
       "      <td>2016-10-24 03:21:24</td>\n",
       "      <td>2016-10-24 03:00:00</td>\n",
       "      <td>2016-10-24 03:25:00+05:00</td>\n",
       "      <td>pfail_mon</td>\n",
       "      <td>1</td>\n",
       "      <td>observed_event</td>\n",
       "    </tr>\n",
       "  </tbody>\n",
       "</table>\n",
       "</div>"
      ],
      "text/plain": [
       "   box_id  psu        lon        lat  datetime_sent_raw    str_datetime_sent  \\\n",
       "0    1024   35  69.075835  38.563905      1477041572000  2016-10-21 14:19:32   \n",
       "1    1024   35  69.075835  38.563905      1477131120000  2016-10-22 15:12:00   \n",
       "2    1024   35  69.075835  38.563905      1477132709000  2016-10-22 15:38:29   \n",
       "3    1024   35  69.075835  38.563905      1477174804000  2016-10-23 03:20:04   \n",
       "4    1024   35  69.075835  38.563905      1477261284000  2016-10-24 03:21:24   \n",
       "\n",
       "  str_datetime_sent_hr           datetime_sent_hr event_type_str  ping_event  \\\n",
       "0  2016-10-21 14:00:00  2016-10-21 14:25:00+05:00          pfail           0   \n",
       "1  2016-10-22 15:00:00  2016-10-22 15:25:00+05:00           test           0   \n",
       "2  2016-10-22 15:00:00  2016-10-22 15:25:00+05:00          pback           0   \n",
       "3  2016-10-23 03:00:00  2016-10-23 03:25:00+05:00      pfail_mon           1   \n",
       "4  2016-10-24 03:00:00  2016-10-24 03:25:00+05:00      pfail_mon           1   \n",
       "\n",
       "      data_source  \n",
       "0  observed_event  \n",
       "1  observed_event  \n",
       "2  observed_event  \n",
       "3  observed_event  \n",
       "4  observed_event  "
      ]
     },
     "execution_count": 10,
     "metadata": {},
     "output_type": "execute_result"
    }
   ],
   "source": [
    "sms1.head()"
   ]
  },
  {
   "cell_type": "code",
   "execution_count": 11,
   "metadata": {},
   "outputs": [
    {
     "data": {
      "text/plain": [
       "(8753, 11)"
      ]
     },
     "execution_count": 11,
     "metadata": {},
     "output_type": "execute_result"
    }
   ],
   "source": [
    "sms1.shape"
   ]
  },
  {
   "cell_type": "code",
   "execution_count": 13,
   "metadata": {},
   "outputs": [
    {
     "data": {
      "text/plain": [
       "10"
      ]
     },
     "execution_count": 13,
     "metadata": {},
     "output_type": "execute_result"
    }
   ],
   "source": [
    "len (sms1.box_id.unique())"
   ]
  },
  {
   "cell_type": "markdown",
   "metadata": {},
   "source": []
  }
 ],
 "metadata": {
  "kernelspec": {
   "display_name": "Python 3",
   "language": "python",
   "name": "python3"
  },
  "language_info": {
   "codemirror_mode": {
    "name": "ipython",
    "version": 3
   },
   "file_extension": ".py",
   "mimetype": "text/x-python",
   "name": "python",
   "nbconvert_exporter": "python",
   "pygments_lexer": "ipython3",
   "version": "3.5.1"
  }
 },
 "nbformat": 4,
 "nbformat_minor": 2
}
